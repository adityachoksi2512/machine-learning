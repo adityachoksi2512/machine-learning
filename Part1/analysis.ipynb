{
 "cells": [
  {
   "cell_type": "code",
   "execution_count": 1,
   "id": "3919bbaa",
   "metadata": {},
   "outputs": [],
   "source": [
    "import pandas as pd\n",
    "import numpy as np\n",
    "import random\n",
    "import plotly.graph_objects as go\n",
    "from sklearn.ensemble import RandomForestClassifier"
   ]
  },
  {
   "cell_type": "code",
   "execution_count": 2,
   "id": "23d24a1e",
   "metadata": {},
   "outputs": [],
   "source": [
    "#General Functions\n",
    "\n",
    "def featureNormalize(X): \n",
    "    return (X - np.mean(X, axis = 0)) / np.std(X, axis = 0, ddof = 1)"
   ]
  },
  {
   "cell_type": "code",
   "execution_count": 3,
   "id": "e0dbc231",
   "metadata": {},
   "outputs": [],
   "source": [
    "#Linear Regression Functions\n",
    "\n",
    "def computeCostLinear(yhat, y):\n",
    "    # (1/2m) * Σ[i->1:m] (Xⁱθ - yⁱ)²\n",
    "    # Vector Implementation: (1/2m) * (Xθ - y)ᵀ.(Xθ - y)\n",
    "    m = len(y)\n",
    "    return (1.0 / (2 * m)) * np.dot((yhat - y).transpose(), yhat - y)[0][0]\n",
    "\n",
    "\n",
    "def gradientDescentLinear(X, y, theta, alpha, threshold, max_iter = 1e+4):\n",
    "    # As long as percent change in train error is greater than threshold\n",
    "    # θⱼ := θⱼ - α * (1/m) * Σ[i->1:m] (Xⁱθ - yⁱ)Xⱼⁱ for j->0:n\n",
    "    # Vector Implementation: θ := θ - α * (1/m) * (Xᵀ.(X.θ - y))\n",
    "    m = len(y)\n",
    "    J_theta = []\n",
    "    J_theta.append({'iter' : 0, 'J_hist' : computeCostLinear(np.dot(X, theta), y), 'theta' : theta})\n",
    "    pct_change = 100\n",
    "    i = 0\n",
    "    while pct_change > threshold and i < max_iter:\n",
    "        delta = (1.0 / m) * np.dot(X.transpose(), np.dot(X, theta) - y)\n",
    "        theta = theta - (alpha * delta)\n",
    "        J_theta.append({'iter' : i + 1, 'J_hist' : computeCostLinear(np.dot(X, theta), y), 'theta' : theta})\n",
    "        i += 1\n",
    "        pct_change = ((J_theta[-2]['J_hist'] - J_theta[-1]['J_hist']) / J_theta[-2]['J_hist']) * 100\n",
    "    return J_theta\n",
    "\n",
    "\n",
    "def rmse(pred, real):\n",
    "    # √(1/m) * Σ[i->1:m] (predⁱ - realⁱ)²\n",
    "    # Vector Implementation: √(1/m) * (pred - real)ᵀ.(pred - real)\n",
    "    m = len(real)\n",
    "    return np.sqrt((1.0 / m) * np.dot((pred - real).transpose(), pred - real)[0][0])"
   ]
  },
  {
   "cell_type": "code",
   "execution_count": 4,
   "id": "b7ad7b21",
   "metadata": {},
   "outputs": [
    {
     "data": {
      "text/html": [
       "<div>\n",
       "<style scoped>\n",
       "    .dataframe tbody tr th:only-of-type {\n",
       "        vertical-align: middle;\n",
       "    }\n",
       "\n",
       "    .dataframe tbody tr th {\n",
       "        vertical-align: top;\n",
       "    }\n",
       "\n",
       "    .dataframe thead th {\n",
       "        text-align: right;\n",
       "    }\n",
       "</style>\n",
       "<table border=\"1\" class=\"dataframe\">\n",
       "  <thead>\n",
       "    <tr style=\"text-align: right;\">\n",
       "      <th></th>\n",
       "      <th>bike_count</th>\n",
       "      <th>hour</th>\n",
       "      <th>temperature</th>\n",
       "      <th>humidity</th>\n",
       "      <th>wind_speed</th>\n",
       "      <th>visibility</th>\n",
       "      <th>solar_radiation</th>\n",
       "      <th>rainfall</th>\n",
       "      <th>snowfall</th>\n",
       "      <th>season</th>\n",
       "      <th>holiday</th>\n",
       "      <th>day</th>\n",
       "    </tr>\n",
       "  </thead>\n",
       "  <tbody>\n",
       "    <tr>\n",
       "      <th>0</th>\n",
       "      <td>254</td>\n",
       "      <td>0</td>\n",
       "      <td>-5.2</td>\n",
       "      <td>37</td>\n",
       "      <td>2.2</td>\n",
       "      <td>2000</td>\n",
       "      <td>0.0</td>\n",
       "      <td>0.0</td>\n",
       "      <td>0.0</td>\n",
       "      <td>Winter</td>\n",
       "      <td>No Holiday</td>\n",
       "      <td>Friday</td>\n",
       "    </tr>\n",
       "    <tr>\n",
       "      <th>1</th>\n",
       "      <td>204</td>\n",
       "      <td>1</td>\n",
       "      <td>-5.5</td>\n",
       "      <td>38</td>\n",
       "      <td>0.8</td>\n",
       "      <td>2000</td>\n",
       "      <td>0.0</td>\n",
       "      <td>0.0</td>\n",
       "      <td>0.0</td>\n",
       "      <td>Winter</td>\n",
       "      <td>No Holiday</td>\n",
       "      <td>Friday</td>\n",
       "    </tr>\n",
       "    <tr>\n",
       "      <th>2</th>\n",
       "      <td>173</td>\n",
       "      <td>2</td>\n",
       "      <td>-6.0</td>\n",
       "      <td>39</td>\n",
       "      <td>1.0</td>\n",
       "      <td>2000</td>\n",
       "      <td>0.0</td>\n",
       "      <td>0.0</td>\n",
       "      <td>0.0</td>\n",
       "      <td>Winter</td>\n",
       "      <td>No Holiday</td>\n",
       "      <td>Friday</td>\n",
       "    </tr>\n",
       "    <tr>\n",
       "      <th>3</th>\n",
       "      <td>107</td>\n",
       "      <td>3</td>\n",
       "      <td>-6.2</td>\n",
       "      <td>40</td>\n",
       "      <td>0.9</td>\n",
       "      <td>2000</td>\n",
       "      <td>0.0</td>\n",
       "      <td>0.0</td>\n",
       "      <td>0.0</td>\n",
       "      <td>Winter</td>\n",
       "      <td>No Holiday</td>\n",
       "      <td>Friday</td>\n",
       "    </tr>\n",
       "    <tr>\n",
       "      <th>4</th>\n",
       "      <td>78</td>\n",
       "      <td>4</td>\n",
       "      <td>-6.0</td>\n",
       "      <td>36</td>\n",
       "      <td>2.3</td>\n",
       "      <td>2000</td>\n",
       "      <td>0.0</td>\n",
       "      <td>0.0</td>\n",
       "      <td>0.0</td>\n",
       "      <td>Winter</td>\n",
       "      <td>No Holiday</td>\n",
       "      <td>Friday</td>\n",
       "    </tr>\n",
       "    <tr>\n",
       "      <th>...</th>\n",
       "      <td>...</td>\n",
       "      <td>...</td>\n",
       "      <td>...</td>\n",
       "      <td>...</td>\n",
       "      <td>...</td>\n",
       "      <td>...</td>\n",
       "      <td>...</td>\n",
       "      <td>...</td>\n",
       "      <td>...</td>\n",
       "      <td>...</td>\n",
       "      <td>...</td>\n",
       "      <td>...</td>\n",
       "    </tr>\n",
       "    <tr>\n",
       "      <th>8460</th>\n",
       "      <td>1003</td>\n",
       "      <td>19</td>\n",
       "      <td>4.2</td>\n",
       "      <td>34</td>\n",
       "      <td>2.6</td>\n",
       "      <td>1894</td>\n",
       "      <td>0.0</td>\n",
       "      <td>0.0</td>\n",
       "      <td>0.0</td>\n",
       "      <td>Autumn</td>\n",
       "      <td>No Holiday</td>\n",
       "      <td>Friday</td>\n",
       "    </tr>\n",
       "    <tr>\n",
       "      <th>8461</th>\n",
       "      <td>764</td>\n",
       "      <td>20</td>\n",
       "      <td>3.4</td>\n",
       "      <td>37</td>\n",
       "      <td>2.3</td>\n",
       "      <td>2000</td>\n",
       "      <td>0.0</td>\n",
       "      <td>0.0</td>\n",
       "      <td>0.0</td>\n",
       "      <td>Autumn</td>\n",
       "      <td>No Holiday</td>\n",
       "      <td>Friday</td>\n",
       "    </tr>\n",
       "    <tr>\n",
       "      <th>8462</th>\n",
       "      <td>694</td>\n",
       "      <td>21</td>\n",
       "      <td>2.6</td>\n",
       "      <td>39</td>\n",
       "      <td>0.3</td>\n",
       "      <td>1968</td>\n",
       "      <td>0.0</td>\n",
       "      <td>0.0</td>\n",
       "      <td>0.0</td>\n",
       "      <td>Autumn</td>\n",
       "      <td>No Holiday</td>\n",
       "      <td>Friday</td>\n",
       "    </tr>\n",
       "    <tr>\n",
       "      <th>8463</th>\n",
       "      <td>712</td>\n",
       "      <td>22</td>\n",
       "      <td>2.1</td>\n",
       "      <td>41</td>\n",
       "      <td>1.0</td>\n",
       "      <td>1859</td>\n",
       "      <td>0.0</td>\n",
       "      <td>0.0</td>\n",
       "      <td>0.0</td>\n",
       "      <td>Autumn</td>\n",
       "      <td>No Holiday</td>\n",
       "      <td>Friday</td>\n",
       "    </tr>\n",
       "    <tr>\n",
       "      <th>8464</th>\n",
       "      <td>584</td>\n",
       "      <td>23</td>\n",
       "      <td>1.9</td>\n",
       "      <td>43</td>\n",
       "      <td>1.3</td>\n",
       "      <td>1909</td>\n",
       "      <td>0.0</td>\n",
       "      <td>0.0</td>\n",
       "      <td>0.0</td>\n",
       "      <td>Autumn</td>\n",
       "      <td>No Holiday</td>\n",
       "      <td>Friday</td>\n",
       "    </tr>\n",
       "  </tbody>\n",
       "</table>\n",
       "<p>8465 rows × 12 columns</p>\n",
       "</div>"
      ],
      "text/plain": [
       "      bike_count hour  temperature  humidity  wind_speed  visibility  \\\n",
       "0            254    0         -5.2        37         2.2        2000   \n",
       "1            204    1         -5.5        38         0.8        2000   \n",
       "2            173    2         -6.0        39         1.0        2000   \n",
       "3            107    3         -6.2        40         0.9        2000   \n",
       "4             78    4         -6.0        36         2.3        2000   \n",
       "...          ...  ...          ...       ...         ...         ...   \n",
       "8460        1003   19          4.2        34         2.6        1894   \n",
       "8461         764   20          3.4        37         2.3        2000   \n",
       "8462         694   21          2.6        39         0.3        1968   \n",
       "8463         712   22          2.1        41         1.0        1859   \n",
       "8464         584   23          1.9        43         1.3        1909   \n",
       "\n",
       "      solar_radiation  rainfall  snowfall  season     holiday     day  \n",
       "0                 0.0       0.0       0.0  Winter  No Holiday  Friday  \n",
       "1                 0.0       0.0       0.0  Winter  No Holiday  Friday  \n",
       "2                 0.0       0.0       0.0  Winter  No Holiday  Friday  \n",
       "3                 0.0       0.0       0.0  Winter  No Holiday  Friday  \n",
       "4                 0.0       0.0       0.0  Winter  No Holiday  Friday  \n",
       "...               ...       ...       ...     ...         ...     ...  \n",
       "8460              0.0       0.0       0.0  Autumn  No Holiday  Friday  \n",
       "8461              0.0       0.0       0.0  Autumn  No Holiday  Friday  \n",
       "8462              0.0       0.0       0.0  Autumn  No Holiday  Friday  \n",
       "8463              0.0       0.0       0.0  Autumn  No Holiday  Friday  \n",
       "8464              0.0       0.0       0.0  Autumn  No Holiday  Friday  \n",
       "\n",
       "[8465 rows x 12 columns]"
      ]
     },
     "execution_count": 4,
     "metadata": {},
     "output_type": "execute_result"
    }
   ],
   "source": [
    "#Preprocessing\n",
    "\n",
    "df_bike = pd.read_csv('C:/Users/adity/SeoulBikeData.csv', encoding='latin-1')\n",
    "\n",
    "df_bike.columns = ['date', 'bike_count', 'hour', 'temperature', 'humidity', 'wind_speed', 'visibility', 'dew_point_temp', \n",
    "                   'solar_radiation', 'rainfall', 'snowfall', 'season', 'holiday', 'functioning_day']\n",
    "\n",
    "df_bike['date'] = pd.to_datetime(df_bike['date'], format = '%d/%m/%Y')\n",
    "df_bike['hour'] = df_bike['hour'].astype('category')\n",
    "df_bike['season'] = df_bike['season'].astype('category')\n",
    "df_bike['holiday'] = df_bike['holiday'].astype('category')\n",
    "df_bike['functioning_day'] = df_bike['functioning_day'].astype('category')\n",
    "df_bike['day'] = df_bike['date'].dt.day_name().astype('category')\n",
    "\n",
    "df_bike = df_bike[df_bike['functioning_day'] == 'Yes']\n",
    "df_bike = df_bike.drop(['date', 'functioning_day', 'dew_point_temp'], axis = 1)\n",
    "df_bike = df_bike.reset_index(drop = True)\n",
    "\n",
    "df_bike"
   ]
  },
  {
   "cell_type": "code",
   "execution_count": 5,
   "id": "41d46236",
   "metadata": {},
   "outputs": [
    {
     "data": {
      "text/html": [
       "<div>\n",
       "<style scoped>\n",
       "    .dataframe tbody tr th:only-of-type {\n",
       "        vertical-align: middle;\n",
       "    }\n",
       "\n",
       "    .dataframe tbody tr th {\n",
       "        vertical-align: top;\n",
       "    }\n",
       "\n",
       "    .dataframe thead th {\n",
       "        text-align: right;\n",
       "    }\n",
       "</style>\n",
       "<table border=\"1\" class=\"dataframe\">\n",
       "  <thead>\n",
       "    <tr style=\"text-align: right;\">\n",
       "      <th></th>\n",
       "      <th>intercept</th>\n",
       "      <th>temperature</th>\n",
       "      <th>humidity</th>\n",
       "      <th>wind_speed</th>\n",
       "      <th>visibility</th>\n",
       "      <th>solar_radiation</th>\n",
       "      <th>rainfall</th>\n",
       "      <th>snowfall</th>\n",
       "      <th>hour:_1</th>\n",
       "      <th>hour:_2</th>\n",
       "      <th>...</th>\n",
       "      <th>day:_Monday</th>\n",
       "      <th>day:_Saturday</th>\n",
       "      <th>day:_Sunday</th>\n",
       "      <th>day:_Thursday</th>\n",
       "      <th>day:_Tuesday</th>\n",
       "      <th>day:_Wednesday</th>\n",
       "      <th>season:_Spring</th>\n",
       "      <th>season:_Summer</th>\n",
       "      <th>season:_Winter</th>\n",
       "      <th>holiday:_Holiday</th>\n",
       "    </tr>\n",
       "  </thead>\n",
       "  <tbody>\n",
       "    <tr>\n",
       "      <th>0</th>\n",
       "      <td>1.0</td>\n",
       "      <td>-1.484675</td>\n",
       "      <td>-1.032334</td>\n",
       "      <td>0.458402</td>\n",
       "      <td>0.929522</td>\n",
       "      <td>-0.654041</td>\n",
       "      <td>-0.132487</td>\n",
       "      <td>-0.17494</td>\n",
       "      <td>0</td>\n",
       "      <td>0</td>\n",
       "      <td>...</td>\n",
       "      <td>0</td>\n",
       "      <td>0</td>\n",
       "      <td>0</td>\n",
       "      <td>0</td>\n",
       "      <td>0</td>\n",
       "      <td>0</td>\n",
       "      <td>0</td>\n",
       "      <td>0</td>\n",
       "      <td>1</td>\n",
       "      <td>0</td>\n",
       "    </tr>\n",
       "    <tr>\n",
       "      <th>1</th>\n",
       "      <td>1.0</td>\n",
       "      <td>-1.509459</td>\n",
       "      <td>-0.983517</td>\n",
       "      <td>-0.895195</td>\n",
       "      <td>0.929522</td>\n",
       "      <td>-0.654041</td>\n",
       "      <td>-0.132487</td>\n",
       "      <td>-0.17494</td>\n",
       "      <td>1</td>\n",
       "      <td>0</td>\n",
       "      <td>...</td>\n",
       "      <td>0</td>\n",
       "      <td>0</td>\n",
       "      <td>0</td>\n",
       "      <td>0</td>\n",
       "      <td>0</td>\n",
       "      <td>0</td>\n",
       "      <td>0</td>\n",
       "      <td>0</td>\n",
       "      <td>1</td>\n",
       "      <td>0</td>\n",
       "    </tr>\n",
       "    <tr>\n",
       "      <th>2</th>\n",
       "      <td>1.0</td>\n",
       "      <td>-1.550766</td>\n",
       "      <td>-0.934701</td>\n",
       "      <td>-0.701824</td>\n",
       "      <td>0.929522</td>\n",
       "      <td>-0.654041</td>\n",
       "      <td>-0.132487</td>\n",
       "      <td>-0.17494</td>\n",
       "      <td>0</td>\n",
       "      <td>1</td>\n",
       "      <td>...</td>\n",
       "      <td>0</td>\n",
       "      <td>0</td>\n",
       "      <td>0</td>\n",
       "      <td>0</td>\n",
       "      <td>0</td>\n",
       "      <td>0</td>\n",
       "      <td>0</td>\n",
       "      <td>0</td>\n",
       "      <td>1</td>\n",
       "      <td>0</td>\n",
       "    </tr>\n",
       "    <tr>\n",
       "      <th>3</th>\n",
       "      <td>1.0</td>\n",
       "      <td>-1.567289</td>\n",
       "      <td>-0.885884</td>\n",
       "      <td>-0.798509</td>\n",
       "      <td>0.929522</td>\n",
       "      <td>-0.654041</td>\n",
       "      <td>-0.132487</td>\n",
       "      <td>-0.17494</td>\n",
       "      <td>0</td>\n",
       "      <td>0</td>\n",
       "      <td>...</td>\n",
       "      <td>0</td>\n",
       "      <td>0</td>\n",
       "      <td>0</td>\n",
       "      <td>0</td>\n",
       "      <td>0</td>\n",
       "      <td>0</td>\n",
       "      <td>0</td>\n",
       "      <td>0</td>\n",
       "      <td>1</td>\n",
       "      <td>0</td>\n",
       "    </tr>\n",
       "    <tr>\n",
       "      <th>4</th>\n",
       "      <td>1.0</td>\n",
       "      <td>-1.550766</td>\n",
       "      <td>-1.081151</td>\n",
       "      <td>0.555088</td>\n",
       "      <td>0.929522</td>\n",
       "      <td>-0.654041</td>\n",
       "      <td>-0.132487</td>\n",
       "      <td>-0.17494</td>\n",
       "      <td>0</td>\n",
       "      <td>0</td>\n",
       "      <td>...</td>\n",
       "      <td>0</td>\n",
       "      <td>0</td>\n",
       "      <td>0</td>\n",
       "      <td>0</td>\n",
       "      <td>0</td>\n",
       "      <td>0</td>\n",
       "      <td>0</td>\n",
       "      <td>0</td>\n",
       "      <td>1</td>\n",
       "      <td>0</td>\n",
       "    </tr>\n",
       "    <tr>\n",
       "      <th>...</th>\n",
       "      <td>...</td>\n",
       "      <td>...</td>\n",
       "      <td>...</td>\n",
       "      <td>...</td>\n",
       "      <td>...</td>\n",
       "      <td>...</td>\n",
       "      <td>...</td>\n",
       "      <td>...</td>\n",
       "      <td>...</td>\n",
       "      <td>...</td>\n",
       "      <td>...</td>\n",
       "      <td>...</td>\n",
       "      <td>...</td>\n",
       "      <td>...</td>\n",
       "      <td>...</td>\n",
       "      <td>...</td>\n",
       "      <td>...</td>\n",
       "      <td>...</td>\n",
       "      <td>...</td>\n",
       "      <td>...</td>\n",
       "      <td>...</td>\n",
       "    </tr>\n",
       "    <tr>\n",
       "      <th>8460</th>\n",
       "      <td>1.0</td>\n",
       "      <td>-0.708096</td>\n",
       "      <td>-1.178784</td>\n",
       "      <td>0.845144</td>\n",
       "      <td>0.755481</td>\n",
       "      <td>-0.654041</td>\n",
       "      <td>-0.132487</td>\n",
       "      <td>-0.17494</td>\n",
       "      <td>0</td>\n",
       "      <td>0</td>\n",
       "      <td>...</td>\n",
       "      <td>0</td>\n",
       "      <td>0</td>\n",
       "      <td>0</td>\n",
       "      <td>0</td>\n",
       "      <td>0</td>\n",
       "      <td>0</td>\n",
       "      <td>0</td>\n",
       "      <td>0</td>\n",
       "      <td>0</td>\n",
       "      <td>0</td>\n",
       "    </tr>\n",
       "    <tr>\n",
       "      <th>8461</th>\n",
       "      <td>1.0</td>\n",
       "      <td>-0.774188</td>\n",
       "      <td>-1.032334</td>\n",
       "      <td>0.555088</td>\n",
       "      <td>0.929522</td>\n",
       "      <td>-0.654041</td>\n",
       "      <td>-0.132487</td>\n",
       "      <td>-0.17494</td>\n",
       "      <td>0</td>\n",
       "      <td>0</td>\n",
       "      <td>...</td>\n",
       "      <td>0</td>\n",
       "      <td>0</td>\n",
       "      <td>0</td>\n",
       "      <td>0</td>\n",
       "      <td>0</td>\n",
       "      <td>0</td>\n",
       "      <td>0</td>\n",
       "      <td>0</td>\n",
       "      <td>0</td>\n",
       "      <td>0</td>\n",
       "    </tr>\n",
       "    <tr>\n",
       "      <th>8462</th>\n",
       "      <td>1.0</td>\n",
       "      <td>-0.840279</td>\n",
       "      <td>-0.934701</td>\n",
       "      <td>-1.378622</td>\n",
       "      <td>0.876981</td>\n",
       "      <td>-0.654041</td>\n",
       "      <td>-0.132487</td>\n",
       "      <td>-0.17494</td>\n",
       "      <td>0</td>\n",
       "      <td>0</td>\n",
       "      <td>...</td>\n",
       "      <td>0</td>\n",
       "      <td>0</td>\n",
       "      <td>0</td>\n",
       "      <td>0</td>\n",
       "      <td>0</td>\n",
       "      <td>0</td>\n",
       "      <td>0</td>\n",
       "      <td>0</td>\n",
       "      <td>0</td>\n",
       "      <td>0</td>\n",
       "    </tr>\n",
       "    <tr>\n",
       "      <th>8463</th>\n",
       "      <td>1.0</td>\n",
       "      <td>-0.881587</td>\n",
       "      <td>-0.837068</td>\n",
       "      <td>-0.701824</td>\n",
       "      <td>0.698014</td>\n",
       "      <td>-0.654041</td>\n",
       "      <td>-0.132487</td>\n",
       "      <td>-0.17494</td>\n",
       "      <td>0</td>\n",
       "      <td>0</td>\n",
       "      <td>...</td>\n",
       "      <td>0</td>\n",
       "      <td>0</td>\n",
       "      <td>0</td>\n",
       "      <td>0</td>\n",
       "      <td>0</td>\n",
       "      <td>0</td>\n",
       "      <td>0</td>\n",
       "      <td>0</td>\n",
       "      <td>0</td>\n",
       "      <td>0</td>\n",
       "    </tr>\n",
       "    <tr>\n",
       "      <th>8464</th>\n",
       "      <td>1.0</td>\n",
       "      <td>-0.898110</td>\n",
       "      <td>-0.739434</td>\n",
       "      <td>-0.411767</td>\n",
       "      <td>0.780109</td>\n",
       "      <td>-0.654041</td>\n",
       "      <td>-0.132487</td>\n",
       "      <td>-0.17494</td>\n",
       "      <td>0</td>\n",
       "      <td>0</td>\n",
       "      <td>...</td>\n",
       "      <td>0</td>\n",
       "      <td>0</td>\n",
       "      <td>0</td>\n",
       "      <td>0</td>\n",
       "      <td>0</td>\n",
       "      <td>0</td>\n",
       "      <td>0</td>\n",
       "      <td>0</td>\n",
       "      <td>0</td>\n",
       "      <td>0</td>\n",
       "    </tr>\n",
       "  </tbody>\n",
       "</table>\n",
       "<p>8465 rows × 41 columns</p>\n",
       "</div>"
      ],
      "text/plain": [
       "      intercept  temperature  humidity  wind_speed  visibility  \\\n",
       "0           1.0    -1.484675 -1.032334    0.458402    0.929522   \n",
       "1           1.0    -1.509459 -0.983517   -0.895195    0.929522   \n",
       "2           1.0    -1.550766 -0.934701   -0.701824    0.929522   \n",
       "3           1.0    -1.567289 -0.885884   -0.798509    0.929522   \n",
       "4           1.0    -1.550766 -1.081151    0.555088    0.929522   \n",
       "...         ...          ...       ...         ...         ...   \n",
       "8460        1.0    -0.708096 -1.178784    0.845144    0.755481   \n",
       "8461        1.0    -0.774188 -1.032334    0.555088    0.929522   \n",
       "8462        1.0    -0.840279 -0.934701   -1.378622    0.876981   \n",
       "8463        1.0    -0.881587 -0.837068   -0.701824    0.698014   \n",
       "8464        1.0    -0.898110 -0.739434   -0.411767    0.780109   \n",
       "\n",
       "      solar_radiation  rainfall  snowfall  hour:_1  hour:_2  ...  day:_Monday  \\\n",
       "0           -0.654041 -0.132487  -0.17494        0        0  ...            0   \n",
       "1           -0.654041 -0.132487  -0.17494        1        0  ...            0   \n",
       "2           -0.654041 -0.132487  -0.17494        0        1  ...            0   \n",
       "3           -0.654041 -0.132487  -0.17494        0        0  ...            0   \n",
       "4           -0.654041 -0.132487  -0.17494        0        0  ...            0   \n",
       "...               ...       ...       ...      ...      ...  ...          ...   \n",
       "8460        -0.654041 -0.132487  -0.17494        0        0  ...            0   \n",
       "8461        -0.654041 -0.132487  -0.17494        0        0  ...            0   \n",
       "8462        -0.654041 -0.132487  -0.17494        0        0  ...            0   \n",
       "8463        -0.654041 -0.132487  -0.17494        0        0  ...            0   \n",
       "8464        -0.654041 -0.132487  -0.17494        0        0  ...            0   \n",
       "\n",
       "      day:_Saturday  day:_Sunday  day:_Thursday  day:_Tuesday  day:_Wednesday  \\\n",
       "0                 0            0              0             0               0   \n",
       "1                 0            0              0             0               0   \n",
       "2                 0            0              0             0               0   \n",
       "3                 0            0              0             0               0   \n",
       "4                 0            0              0             0               0   \n",
       "...             ...          ...            ...           ...             ...   \n",
       "8460              0            0              0             0               0   \n",
       "8461              0            0              0             0               0   \n",
       "8462              0            0              0             0               0   \n",
       "8463              0            0              0             0               0   \n",
       "8464              0            0              0             0               0   \n",
       "\n",
       "      season:_Spring  season:_Summer  season:_Winter  holiday:_Holiday  \n",
       "0                  0               0               1                 0  \n",
       "1                  0               0               1                 0  \n",
       "2                  0               0               1                 0  \n",
       "3                  0               0               1                 0  \n",
       "4                  0               0               1                 0  \n",
       "...              ...             ...             ...               ...  \n",
       "8460               0               0               0                 0  \n",
       "8461               0               0               0                 0  \n",
       "8462               0               0               0                 0  \n",
       "8463               0               0               0                 0  \n",
       "8464               0               0               0                 0  \n",
       "\n",
       "[8465 rows x 41 columns]"
      ]
     },
     "execution_count": 5,
     "metadata": {},
     "output_type": "execute_result"
    }
   ],
   "source": [
    "#All Features\n",
    "\n",
    "df_full = df_bike\n",
    "\n",
    "ddf_full = pd.get_dummies(df_full['hour'], drop_first = True, prefix = 'hour:')\n",
    "ddf_full = pd.concat([ddf_full, pd.get_dummies(df_full['day'], drop_first = True, prefix = 'day:')], axis = 1)\n",
    "ddf_full = pd.concat([ddf_full, pd.get_dummies(df_full['season'], drop_first = True, prefix = 'season:')], axis = 1)\n",
    "ddf_full = pd.concat([ddf_full, pd.get_dummies(df_full['holiday'],  prefix = 'holiday:')], axis = 1)\n",
    "ddf_full = ddf_full.drop('holiday:_No Holiday', axis = 1)\n",
    "\n",
    "df_full = df_full.drop(['hour', 'day', 'season', 'holiday'], axis = 1)\n",
    "\n",
    "y = pd.DataFrame(df_full['bike_count']).reset_index(drop = True)\n",
    "\n",
    "df_full = df_full.drop('bike_count', axis = 1)\n",
    "\n",
    "Xf = pd.concat([featureNormalize(df_full), ddf_full], axis = 1).reset_index(drop = True)\n",
    "Xf.insert(loc = 0, column = 'intercept', value = 1.0)\n",
    "\n",
    "Xf"
   ]
  },
  {
   "cell_type": "code",
   "execution_count": 6,
   "id": "dd52011c",
   "metadata": {},
   "outputs": [
    {
     "data": {
      "text/plain": [
       "((5926, 41), (5926, 1), (5926, 1), (2539, 41), (2539, 1), (2539, 1))"
      ]
     },
     "execution_count": 6,
     "metadata": {},
     "output_type": "execute_result"
    }
   ],
   "source": [
    "Xf_train = Xf.sample(random_state = 42, frac = 0.7).sort_index()\n",
    "y_train = y[Xf.index.isin(Xf_train.index)]\n",
    "Xf_test = Xf[~Xf.index.isin(Xf_train.index)]\n",
    "y_test = y[~Xf.index.isin(Xf_train.index)]\n",
    "\n",
    "c_train =  y_train > np.median(y)\n",
    "c_test = y_test > np.median(y)\n",
    "\n",
    "Xf_train.shape, y_train.shape, c_train.shape, Xf_test.shape, y_test.shape, c_test.shape"
   ]
  },
  {
   "cell_type": "code",
   "execution_count": 7,
   "id": "b30b34c2",
   "metadata": {},
   "outputs": [
    {
     "name": "stdout",
     "output_type": "stream",
     "text": [
      "['day', 'temperature', 'hour', 'visibility', 'holiday', 'rainfall', 'solar_radiation', 'season']\n"
     ]
    },
    {
     "data": {
      "text/html": [
       "<div>\n",
       "<style scoped>\n",
       "    .dataframe tbody tr th:only-of-type {\n",
       "        vertical-align: middle;\n",
       "    }\n",
       "\n",
       "    .dataframe tbody tr th {\n",
       "        vertical-align: top;\n",
       "    }\n",
       "\n",
       "    .dataframe thead th {\n",
       "        text-align: right;\n",
       "    }\n",
       "</style>\n",
       "<table border=\"1\" class=\"dataframe\">\n",
       "  <thead>\n",
       "    <tr style=\"text-align: right;\">\n",
       "      <th></th>\n",
       "      <th>intercept</th>\n",
       "      <th>temperature</th>\n",
       "      <th>visibility</th>\n",
       "      <th>rainfall</th>\n",
       "      <th>solar_radiation</th>\n",
       "      <th>hour:_1</th>\n",
       "      <th>hour:_2</th>\n",
       "      <th>hour:_3</th>\n",
       "      <th>hour:_4</th>\n",
       "      <th>hour:_5</th>\n",
       "      <th>...</th>\n",
       "      <th>day:_Monday</th>\n",
       "      <th>day:_Saturday</th>\n",
       "      <th>day:_Sunday</th>\n",
       "      <th>day:_Thursday</th>\n",
       "      <th>day:_Tuesday</th>\n",
       "      <th>day:_Wednesday</th>\n",
       "      <th>season:_Spring</th>\n",
       "      <th>season:_Summer</th>\n",
       "      <th>season:_Winter</th>\n",
       "      <th>holiday:_Holiday</th>\n",
       "    </tr>\n",
       "  </thead>\n",
       "  <tbody>\n",
       "    <tr>\n",
       "      <th>0</th>\n",
       "      <td>1.0</td>\n",
       "      <td>-1.484675</td>\n",
       "      <td>0.929522</td>\n",
       "      <td>-0.132487</td>\n",
       "      <td>-0.654041</td>\n",
       "      <td>0</td>\n",
       "      <td>0</td>\n",
       "      <td>0</td>\n",
       "      <td>0</td>\n",
       "      <td>0</td>\n",
       "      <td>...</td>\n",
       "      <td>0</td>\n",
       "      <td>0</td>\n",
       "      <td>0</td>\n",
       "      <td>0</td>\n",
       "      <td>0</td>\n",
       "      <td>0</td>\n",
       "      <td>0</td>\n",
       "      <td>0</td>\n",
       "      <td>1</td>\n",
       "      <td>0</td>\n",
       "    </tr>\n",
       "    <tr>\n",
       "      <th>1</th>\n",
       "      <td>1.0</td>\n",
       "      <td>-1.509459</td>\n",
       "      <td>0.929522</td>\n",
       "      <td>-0.132487</td>\n",
       "      <td>-0.654041</td>\n",
       "      <td>1</td>\n",
       "      <td>0</td>\n",
       "      <td>0</td>\n",
       "      <td>0</td>\n",
       "      <td>0</td>\n",
       "      <td>...</td>\n",
       "      <td>0</td>\n",
       "      <td>0</td>\n",
       "      <td>0</td>\n",
       "      <td>0</td>\n",
       "      <td>0</td>\n",
       "      <td>0</td>\n",
       "      <td>0</td>\n",
       "      <td>0</td>\n",
       "      <td>1</td>\n",
       "      <td>0</td>\n",
       "    </tr>\n",
       "    <tr>\n",
       "      <th>2</th>\n",
       "      <td>1.0</td>\n",
       "      <td>-1.550766</td>\n",
       "      <td>0.929522</td>\n",
       "      <td>-0.132487</td>\n",
       "      <td>-0.654041</td>\n",
       "      <td>0</td>\n",
       "      <td>1</td>\n",
       "      <td>0</td>\n",
       "      <td>0</td>\n",
       "      <td>0</td>\n",
       "      <td>...</td>\n",
       "      <td>0</td>\n",
       "      <td>0</td>\n",
       "      <td>0</td>\n",
       "      <td>0</td>\n",
       "      <td>0</td>\n",
       "      <td>0</td>\n",
       "      <td>0</td>\n",
       "      <td>0</td>\n",
       "      <td>1</td>\n",
       "      <td>0</td>\n",
       "    </tr>\n",
       "    <tr>\n",
       "      <th>3</th>\n",
       "      <td>1.0</td>\n",
       "      <td>-1.567289</td>\n",
       "      <td>0.929522</td>\n",
       "      <td>-0.132487</td>\n",
       "      <td>-0.654041</td>\n",
       "      <td>0</td>\n",
       "      <td>0</td>\n",
       "      <td>1</td>\n",
       "      <td>0</td>\n",
       "      <td>0</td>\n",
       "      <td>...</td>\n",
       "      <td>0</td>\n",
       "      <td>0</td>\n",
       "      <td>0</td>\n",
       "      <td>0</td>\n",
       "      <td>0</td>\n",
       "      <td>0</td>\n",
       "      <td>0</td>\n",
       "      <td>0</td>\n",
       "      <td>1</td>\n",
       "      <td>0</td>\n",
       "    </tr>\n",
       "    <tr>\n",
       "      <th>4</th>\n",
       "      <td>1.0</td>\n",
       "      <td>-1.550766</td>\n",
       "      <td>0.929522</td>\n",
       "      <td>-0.132487</td>\n",
       "      <td>-0.654041</td>\n",
       "      <td>0</td>\n",
       "      <td>0</td>\n",
       "      <td>0</td>\n",
       "      <td>1</td>\n",
       "      <td>0</td>\n",
       "      <td>...</td>\n",
       "      <td>0</td>\n",
       "      <td>0</td>\n",
       "      <td>0</td>\n",
       "      <td>0</td>\n",
       "      <td>0</td>\n",
       "      <td>0</td>\n",
       "      <td>0</td>\n",
       "      <td>0</td>\n",
       "      <td>1</td>\n",
       "      <td>0</td>\n",
       "    </tr>\n",
       "    <tr>\n",
       "      <th>...</th>\n",
       "      <td>...</td>\n",
       "      <td>...</td>\n",
       "      <td>...</td>\n",
       "      <td>...</td>\n",
       "      <td>...</td>\n",
       "      <td>...</td>\n",
       "      <td>...</td>\n",
       "      <td>...</td>\n",
       "      <td>...</td>\n",
       "      <td>...</td>\n",
       "      <td>...</td>\n",
       "      <td>...</td>\n",
       "      <td>...</td>\n",
       "      <td>...</td>\n",
       "      <td>...</td>\n",
       "      <td>...</td>\n",
       "      <td>...</td>\n",
       "      <td>...</td>\n",
       "      <td>...</td>\n",
       "      <td>...</td>\n",
       "      <td>...</td>\n",
       "    </tr>\n",
       "    <tr>\n",
       "      <th>8460</th>\n",
       "      <td>1.0</td>\n",
       "      <td>-0.708096</td>\n",
       "      <td>0.755481</td>\n",
       "      <td>-0.132487</td>\n",
       "      <td>-0.654041</td>\n",
       "      <td>0</td>\n",
       "      <td>0</td>\n",
       "      <td>0</td>\n",
       "      <td>0</td>\n",
       "      <td>0</td>\n",
       "      <td>...</td>\n",
       "      <td>0</td>\n",
       "      <td>0</td>\n",
       "      <td>0</td>\n",
       "      <td>0</td>\n",
       "      <td>0</td>\n",
       "      <td>0</td>\n",
       "      <td>0</td>\n",
       "      <td>0</td>\n",
       "      <td>0</td>\n",
       "      <td>0</td>\n",
       "    </tr>\n",
       "    <tr>\n",
       "      <th>8461</th>\n",
       "      <td>1.0</td>\n",
       "      <td>-0.774188</td>\n",
       "      <td>0.929522</td>\n",
       "      <td>-0.132487</td>\n",
       "      <td>-0.654041</td>\n",
       "      <td>0</td>\n",
       "      <td>0</td>\n",
       "      <td>0</td>\n",
       "      <td>0</td>\n",
       "      <td>0</td>\n",
       "      <td>...</td>\n",
       "      <td>0</td>\n",
       "      <td>0</td>\n",
       "      <td>0</td>\n",
       "      <td>0</td>\n",
       "      <td>0</td>\n",
       "      <td>0</td>\n",
       "      <td>0</td>\n",
       "      <td>0</td>\n",
       "      <td>0</td>\n",
       "      <td>0</td>\n",
       "    </tr>\n",
       "    <tr>\n",
       "      <th>8462</th>\n",
       "      <td>1.0</td>\n",
       "      <td>-0.840279</td>\n",
       "      <td>0.876981</td>\n",
       "      <td>-0.132487</td>\n",
       "      <td>-0.654041</td>\n",
       "      <td>0</td>\n",
       "      <td>0</td>\n",
       "      <td>0</td>\n",
       "      <td>0</td>\n",
       "      <td>0</td>\n",
       "      <td>...</td>\n",
       "      <td>0</td>\n",
       "      <td>0</td>\n",
       "      <td>0</td>\n",
       "      <td>0</td>\n",
       "      <td>0</td>\n",
       "      <td>0</td>\n",
       "      <td>0</td>\n",
       "      <td>0</td>\n",
       "      <td>0</td>\n",
       "      <td>0</td>\n",
       "    </tr>\n",
       "    <tr>\n",
       "      <th>8463</th>\n",
       "      <td>1.0</td>\n",
       "      <td>-0.881587</td>\n",
       "      <td>0.698014</td>\n",
       "      <td>-0.132487</td>\n",
       "      <td>-0.654041</td>\n",
       "      <td>0</td>\n",
       "      <td>0</td>\n",
       "      <td>0</td>\n",
       "      <td>0</td>\n",
       "      <td>0</td>\n",
       "      <td>...</td>\n",
       "      <td>0</td>\n",
       "      <td>0</td>\n",
       "      <td>0</td>\n",
       "      <td>0</td>\n",
       "      <td>0</td>\n",
       "      <td>0</td>\n",
       "      <td>0</td>\n",
       "      <td>0</td>\n",
       "      <td>0</td>\n",
       "      <td>0</td>\n",
       "    </tr>\n",
       "    <tr>\n",
       "      <th>8464</th>\n",
       "      <td>1.0</td>\n",
       "      <td>-0.898110</td>\n",
       "      <td>0.780109</td>\n",
       "      <td>-0.132487</td>\n",
       "      <td>-0.654041</td>\n",
       "      <td>0</td>\n",
       "      <td>0</td>\n",
       "      <td>0</td>\n",
       "      <td>0</td>\n",
       "      <td>0</td>\n",
       "      <td>...</td>\n",
       "      <td>0</td>\n",
       "      <td>0</td>\n",
       "      <td>0</td>\n",
       "      <td>0</td>\n",
       "      <td>0</td>\n",
       "      <td>0</td>\n",
       "      <td>0</td>\n",
       "      <td>0</td>\n",
       "      <td>0</td>\n",
       "      <td>0</td>\n",
       "    </tr>\n",
       "  </tbody>\n",
       "</table>\n",
       "<p>8465 rows × 38 columns</p>\n",
       "</div>"
      ],
      "text/plain": [
       "      intercept  temperature  visibility  rainfall  solar_radiation  hour:_1  \\\n",
       "0           1.0    -1.484675    0.929522 -0.132487        -0.654041        0   \n",
       "1           1.0    -1.509459    0.929522 -0.132487        -0.654041        1   \n",
       "2           1.0    -1.550766    0.929522 -0.132487        -0.654041        0   \n",
       "3           1.0    -1.567289    0.929522 -0.132487        -0.654041        0   \n",
       "4           1.0    -1.550766    0.929522 -0.132487        -0.654041        0   \n",
       "...         ...          ...         ...       ...              ...      ...   \n",
       "8460        1.0    -0.708096    0.755481 -0.132487        -0.654041        0   \n",
       "8461        1.0    -0.774188    0.929522 -0.132487        -0.654041        0   \n",
       "8462        1.0    -0.840279    0.876981 -0.132487        -0.654041        0   \n",
       "8463        1.0    -0.881587    0.698014 -0.132487        -0.654041        0   \n",
       "8464        1.0    -0.898110    0.780109 -0.132487        -0.654041        0   \n",
       "\n",
       "      hour:_2  hour:_3  hour:_4  hour:_5  ...  day:_Monday  day:_Saturday  \\\n",
       "0           0        0        0        0  ...            0              0   \n",
       "1           0        0        0        0  ...            0              0   \n",
       "2           1        0        0        0  ...            0              0   \n",
       "3           0        1        0        0  ...            0              0   \n",
       "4           0        0        1        0  ...            0              0   \n",
       "...       ...      ...      ...      ...  ...          ...            ...   \n",
       "8460        0        0        0        0  ...            0              0   \n",
       "8461        0        0        0        0  ...            0              0   \n",
       "8462        0        0        0        0  ...            0              0   \n",
       "8463        0        0        0        0  ...            0              0   \n",
       "8464        0        0        0        0  ...            0              0   \n",
       "\n",
       "      day:_Sunday  day:_Thursday  day:_Tuesday  day:_Wednesday  \\\n",
       "0               0              0             0               0   \n",
       "1               0              0             0               0   \n",
       "2               0              0             0               0   \n",
       "3               0              0             0               0   \n",
       "4               0              0             0               0   \n",
       "...           ...            ...           ...             ...   \n",
       "8460            0              0             0               0   \n",
       "8461            0              0             0               0   \n",
       "8462            0              0             0               0   \n",
       "8463            0              0             0               0   \n",
       "8464            0              0             0               0   \n",
       "\n",
       "      season:_Spring  season:_Summer  season:_Winter  holiday:_Holiday  \n",
       "0                  0               0               1                 0  \n",
       "1                  0               0               1                 0  \n",
       "2                  0               0               1                 0  \n",
       "3                  0               0               1                 0  \n",
       "4                  0               0               1                 0  \n",
       "...              ...             ...             ...               ...  \n",
       "8460               0               0               0                 0  \n",
       "8461               0               0               0                 0  \n",
       "8462               0               0               0                 0  \n",
       "8463               0               0               0                 0  \n",
       "8464               0               0               0                 0  \n",
       "\n",
       "[8465 rows x 38 columns]"
      ]
     },
     "execution_count": 7,
     "metadata": {},
     "output_type": "execute_result"
    }
   ],
   "source": [
    "#Randomly Selected Features\n",
    "\n",
    "df_random = df_bike.drop(['bike_count'], axis = 1)\n",
    "\n",
    "random.seed(42)\n",
    "var_list_random = random.sample(list(df_random.columns), 8)\n",
    "print(var_list_random)\n",
    "# ['day', 'temperature', 'hour', 'visibility', 'holiday', 'rainfall', 'solar_radiation', 'season']\n",
    "\n",
    "df_random = df_random[var_list_random]\n",
    "ddf_random = pd.get_dummies(df_random['hour'], drop_first = True, prefix = 'hour:')\n",
    "ddf_random = pd.concat([ddf_random, pd.get_dummies(df_random['day'], drop_first = True, prefix = 'day:')], axis = 1)\n",
    "ddf_random = pd.concat([ddf_random, pd.get_dummies(df_random['season'], drop_first = True, prefix = 'season:')], axis = 1)\n",
    "ddf_random = pd.concat([ddf_random, pd.get_dummies(df_random['holiday'],  prefix = 'holiday:')], axis = 1)\n",
    "ddf_random = ddf_random.drop('holiday:_No Holiday', axis = 1)\n",
    "\n",
    "df_random = df_random.drop(['hour', 'day', 'season', 'holiday'], axis = 1)\n",
    "\n",
    "Xr = pd.concat([featureNormalize(df_random), ddf_random], axis = 1).reset_index(drop = True)\n",
    "Xr.insert(loc = 0, column = 'intercept', value = 1.0)\n",
    "\n",
    "Xr"
   ]
  },
  {
   "cell_type": "code",
   "execution_count": 8,
   "id": "0cdedb25",
   "metadata": {},
   "outputs": [
    {
     "data": {
      "text/plain": [
       "((5926, 38), (5926, 1), (5926, 1), (2539, 38), (2539, 1), (2539, 1))"
      ]
     },
     "execution_count": 8,
     "metadata": {},
     "output_type": "execute_result"
    }
   ],
   "source": [
    "Xr_train = Xr[Xr.index.isin(Xf_train.index)]\n",
    "Xr_test = Xr[~Xr.index.isin(Xf_train.index)]\n",
    "\n",
    "Xr_train.shape, y_train.shape, c_train.shape, Xr_test.shape, y_test.shape, c_test.shape"
   ]
  },
  {
   "cell_type": "code",
   "execution_count": 9,
   "id": "5a904382",
   "metadata": {},
   "outputs": [
    {
     "data": {
      "text/html": [
       "<div>\n",
       "<style scoped>\n",
       "    .dataframe tbody tr th:only-of-type {\n",
       "        vertical-align: middle;\n",
       "    }\n",
       "\n",
       "    .dataframe tbody tr th {\n",
       "        vertical-align: top;\n",
       "    }\n",
       "\n",
       "    .dataframe thead th {\n",
       "        text-align: right;\n",
       "    }\n",
       "</style>\n",
       "<table border=\"1\" class=\"dataframe\">\n",
       "  <thead>\n",
       "    <tr style=\"text-align: right;\">\n",
       "      <th></th>\n",
       "      <th>importance</th>\n",
       "    </tr>\n",
       "    <tr>\n",
       "      <th>feature</th>\n",
       "      <th></th>\n",
       "    </tr>\n",
       "  </thead>\n",
       "  <tbody>\n",
       "    <tr>\n",
       "      <th>temperature</th>\n",
       "      <td>0.154672</td>\n",
       "    </tr>\n",
       "    <tr>\n",
       "      <th>humidity</th>\n",
       "      <td>0.145239</td>\n",
       "    </tr>\n",
       "    <tr>\n",
       "      <th>wind_speed</th>\n",
       "      <td>0.141602</td>\n",
       "    </tr>\n",
       "    <tr>\n",
       "      <th>hour</th>\n",
       "      <td>0.140036</td>\n",
       "    </tr>\n",
       "    <tr>\n",
       "      <th>visibility</th>\n",
       "      <td>0.131811</td>\n",
       "    </tr>\n",
       "    <tr>\n",
       "      <th>day</th>\n",
       "      <td>0.127796</td>\n",
       "    </tr>\n",
       "    <tr>\n",
       "      <th>solar_radiation</th>\n",
       "      <td>0.079875</td>\n",
       "    </tr>\n",
       "    <tr>\n",
       "      <th>season</th>\n",
       "      <td>0.045137</td>\n",
       "    </tr>\n",
       "    <tr>\n",
       "      <th>rainfall</th>\n",
       "      <td>0.011641</td>\n",
       "    </tr>\n",
       "    <tr>\n",
       "      <th>snowfall</th>\n",
       "      <td>0.011448</td>\n",
       "    </tr>\n",
       "    <tr>\n",
       "      <th>holiday</th>\n",
       "      <td>0.010741</td>\n",
       "    </tr>\n",
       "    <tr>\n",
       "      <th>intercept</th>\n",
       "      <td>0.000000</td>\n",
       "    </tr>\n",
       "  </tbody>\n",
       "</table>\n",
       "</div>"
      ],
      "text/plain": [
       "                 importance\n",
       "feature                    \n",
       "temperature        0.154672\n",
       "humidity           0.145239\n",
       "wind_speed         0.141602\n",
       "hour               0.140036\n",
       "visibility         0.131811\n",
       "day                0.127796\n",
       "solar_radiation    0.079875\n",
       "season             0.045137\n",
       "rainfall           0.011641\n",
       "snowfall           0.011448\n",
       "holiday            0.010741\n",
       "intercept          0.000000"
      ]
     },
     "execution_count": 9,
     "metadata": {},
     "output_type": "execute_result"
    }
   ],
   "source": [
    "#Important Features\n",
    "\n",
    "rf = RandomForestClassifier(random_state=42) \n",
    "rf.fit(Xf_train, y_train.values.ravel()) \n",
    "\n",
    "pd.DataFrame({'feature' : [i.split(':', 1)[0] for i in Xf_train.columns], \n",
    "              'importance' : rf.feature_importances_}).groupby('feature').sum().sort_values('importance', ascending = False)"
   ]
  },
  {
   "cell_type": "code",
   "execution_count": 10,
   "id": "666a8495",
   "metadata": {},
   "outputs": [
    {
     "data": {
      "text/html": [
       "<div>\n",
       "<style scoped>\n",
       "    .dataframe tbody tr th:only-of-type {\n",
       "        vertical-align: middle;\n",
       "    }\n",
       "\n",
       "    .dataframe tbody tr th {\n",
       "        vertical-align: top;\n",
       "    }\n",
       "\n",
       "    .dataframe thead th {\n",
       "        text-align: right;\n",
       "    }\n",
       "</style>\n",
       "<table border=\"1\" class=\"dataframe\">\n",
       "  <thead>\n",
       "    <tr style=\"text-align: right;\">\n",
       "      <th></th>\n",
       "      <th>intercept</th>\n",
       "      <th>temperature</th>\n",
       "      <th>humidity</th>\n",
       "      <th>wind_speed</th>\n",
       "      <th>visibility</th>\n",
       "      <th>solar_radiation</th>\n",
       "      <th>hour:_1</th>\n",
       "      <th>hour:_2</th>\n",
       "      <th>hour:_3</th>\n",
       "      <th>hour:_4</th>\n",
       "      <th>...</th>\n",
       "      <th>hour:_23</th>\n",
       "      <th>day:_Monday</th>\n",
       "      <th>day:_Saturday</th>\n",
       "      <th>day:_Sunday</th>\n",
       "      <th>day:_Thursday</th>\n",
       "      <th>day:_Tuesday</th>\n",
       "      <th>day:_Wednesday</th>\n",
       "      <th>season:_Spring</th>\n",
       "      <th>season:_Summer</th>\n",
       "      <th>season:_Winter</th>\n",
       "    </tr>\n",
       "  </thead>\n",
       "  <tbody>\n",
       "    <tr>\n",
       "      <th>0</th>\n",
       "      <td>1.0</td>\n",
       "      <td>-1.484675</td>\n",
       "      <td>-1.032334</td>\n",
       "      <td>0.458402</td>\n",
       "      <td>0.929522</td>\n",
       "      <td>-0.654041</td>\n",
       "      <td>0</td>\n",
       "      <td>0</td>\n",
       "      <td>0</td>\n",
       "      <td>0</td>\n",
       "      <td>...</td>\n",
       "      <td>0</td>\n",
       "      <td>0</td>\n",
       "      <td>0</td>\n",
       "      <td>0</td>\n",
       "      <td>0</td>\n",
       "      <td>0</td>\n",
       "      <td>0</td>\n",
       "      <td>0</td>\n",
       "      <td>0</td>\n",
       "      <td>1</td>\n",
       "    </tr>\n",
       "    <tr>\n",
       "      <th>1</th>\n",
       "      <td>1.0</td>\n",
       "      <td>-1.509459</td>\n",
       "      <td>-0.983517</td>\n",
       "      <td>-0.895195</td>\n",
       "      <td>0.929522</td>\n",
       "      <td>-0.654041</td>\n",
       "      <td>1</td>\n",
       "      <td>0</td>\n",
       "      <td>0</td>\n",
       "      <td>0</td>\n",
       "      <td>...</td>\n",
       "      <td>0</td>\n",
       "      <td>0</td>\n",
       "      <td>0</td>\n",
       "      <td>0</td>\n",
       "      <td>0</td>\n",
       "      <td>0</td>\n",
       "      <td>0</td>\n",
       "      <td>0</td>\n",
       "      <td>0</td>\n",
       "      <td>1</td>\n",
       "    </tr>\n",
       "    <tr>\n",
       "      <th>2</th>\n",
       "      <td>1.0</td>\n",
       "      <td>-1.550766</td>\n",
       "      <td>-0.934701</td>\n",
       "      <td>-0.701824</td>\n",
       "      <td>0.929522</td>\n",
       "      <td>-0.654041</td>\n",
       "      <td>0</td>\n",
       "      <td>1</td>\n",
       "      <td>0</td>\n",
       "      <td>0</td>\n",
       "      <td>...</td>\n",
       "      <td>0</td>\n",
       "      <td>0</td>\n",
       "      <td>0</td>\n",
       "      <td>0</td>\n",
       "      <td>0</td>\n",
       "      <td>0</td>\n",
       "      <td>0</td>\n",
       "      <td>0</td>\n",
       "      <td>0</td>\n",
       "      <td>1</td>\n",
       "    </tr>\n",
       "    <tr>\n",
       "      <th>3</th>\n",
       "      <td>1.0</td>\n",
       "      <td>-1.567289</td>\n",
       "      <td>-0.885884</td>\n",
       "      <td>-0.798509</td>\n",
       "      <td>0.929522</td>\n",
       "      <td>-0.654041</td>\n",
       "      <td>0</td>\n",
       "      <td>0</td>\n",
       "      <td>1</td>\n",
       "      <td>0</td>\n",
       "      <td>...</td>\n",
       "      <td>0</td>\n",
       "      <td>0</td>\n",
       "      <td>0</td>\n",
       "      <td>0</td>\n",
       "      <td>0</td>\n",
       "      <td>0</td>\n",
       "      <td>0</td>\n",
       "      <td>0</td>\n",
       "      <td>0</td>\n",
       "      <td>1</td>\n",
       "    </tr>\n",
       "    <tr>\n",
       "      <th>4</th>\n",
       "      <td>1.0</td>\n",
       "      <td>-1.550766</td>\n",
       "      <td>-1.081151</td>\n",
       "      <td>0.555088</td>\n",
       "      <td>0.929522</td>\n",
       "      <td>-0.654041</td>\n",
       "      <td>0</td>\n",
       "      <td>0</td>\n",
       "      <td>0</td>\n",
       "      <td>1</td>\n",
       "      <td>...</td>\n",
       "      <td>0</td>\n",
       "      <td>0</td>\n",
       "      <td>0</td>\n",
       "      <td>0</td>\n",
       "      <td>0</td>\n",
       "      <td>0</td>\n",
       "      <td>0</td>\n",
       "      <td>0</td>\n",
       "      <td>0</td>\n",
       "      <td>1</td>\n",
       "    </tr>\n",
       "    <tr>\n",
       "      <th>...</th>\n",
       "      <td>...</td>\n",
       "      <td>...</td>\n",
       "      <td>...</td>\n",
       "      <td>...</td>\n",
       "      <td>...</td>\n",
       "      <td>...</td>\n",
       "      <td>...</td>\n",
       "      <td>...</td>\n",
       "      <td>...</td>\n",
       "      <td>...</td>\n",
       "      <td>...</td>\n",
       "      <td>...</td>\n",
       "      <td>...</td>\n",
       "      <td>...</td>\n",
       "      <td>...</td>\n",
       "      <td>...</td>\n",
       "      <td>...</td>\n",
       "      <td>...</td>\n",
       "      <td>...</td>\n",
       "      <td>...</td>\n",
       "      <td>...</td>\n",
       "    </tr>\n",
       "    <tr>\n",
       "      <th>8460</th>\n",
       "      <td>1.0</td>\n",
       "      <td>-0.708096</td>\n",
       "      <td>-1.178784</td>\n",
       "      <td>0.845144</td>\n",
       "      <td>0.755481</td>\n",
       "      <td>-0.654041</td>\n",
       "      <td>0</td>\n",
       "      <td>0</td>\n",
       "      <td>0</td>\n",
       "      <td>0</td>\n",
       "      <td>...</td>\n",
       "      <td>0</td>\n",
       "      <td>0</td>\n",
       "      <td>0</td>\n",
       "      <td>0</td>\n",
       "      <td>0</td>\n",
       "      <td>0</td>\n",
       "      <td>0</td>\n",
       "      <td>0</td>\n",
       "      <td>0</td>\n",
       "      <td>0</td>\n",
       "    </tr>\n",
       "    <tr>\n",
       "      <th>8461</th>\n",
       "      <td>1.0</td>\n",
       "      <td>-0.774188</td>\n",
       "      <td>-1.032334</td>\n",
       "      <td>0.555088</td>\n",
       "      <td>0.929522</td>\n",
       "      <td>-0.654041</td>\n",
       "      <td>0</td>\n",
       "      <td>0</td>\n",
       "      <td>0</td>\n",
       "      <td>0</td>\n",
       "      <td>...</td>\n",
       "      <td>0</td>\n",
       "      <td>0</td>\n",
       "      <td>0</td>\n",
       "      <td>0</td>\n",
       "      <td>0</td>\n",
       "      <td>0</td>\n",
       "      <td>0</td>\n",
       "      <td>0</td>\n",
       "      <td>0</td>\n",
       "      <td>0</td>\n",
       "    </tr>\n",
       "    <tr>\n",
       "      <th>8462</th>\n",
       "      <td>1.0</td>\n",
       "      <td>-0.840279</td>\n",
       "      <td>-0.934701</td>\n",
       "      <td>-1.378622</td>\n",
       "      <td>0.876981</td>\n",
       "      <td>-0.654041</td>\n",
       "      <td>0</td>\n",
       "      <td>0</td>\n",
       "      <td>0</td>\n",
       "      <td>0</td>\n",
       "      <td>...</td>\n",
       "      <td>0</td>\n",
       "      <td>0</td>\n",
       "      <td>0</td>\n",
       "      <td>0</td>\n",
       "      <td>0</td>\n",
       "      <td>0</td>\n",
       "      <td>0</td>\n",
       "      <td>0</td>\n",
       "      <td>0</td>\n",
       "      <td>0</td>\n",
       "    </tr>\n",
       "    <tr>\n",
       "      <th>8463</th>\n",
       "      <td>1.0</td>\n",
       "      <td>-0.881587</td>\n",
       "      <td>-0.837068</td>\n",
       "      <td>-0.701824</td>\n",
       "      <td>0.698014</td>\n",
       "      <td>-0.654041</td>\n",
       "      <td>0</td>\n",
       "      <td>0</td>\n",
       "      <td>0</td>\n",
       "      <td>0</td>\n",
       "      <td>...</td>\n",
       "      <td>0</td>\n",
       "      <td>0</td>\n",
       "      <td>0</td>\n",
       "      <td>0</td>\n",
       "      <td>0</td>\n",
       "      <td>0</td>\n",
       "      <td>0</td>\n",
       "      <td>0</td>\n",
       "      <td>0</td>\n",
       "      <td>0</td>\n",
       "    </tr>\n",
       "    <tr>\n",
       "      <th>8464</th>\n",
       "      <td>1.0</td>\n",
       "      <td>-0.898110</td>\n",
       "      <td>-0.739434</td>\n",
       "      <td>-0.411767</td>\n",
       "      <td>0.780109</td>\n",
       "      <td>-0.654041</td>\n",
       "      <td>0</td>\n",
       "      <td>0</td>\n",
       "      <td>0</td>\n",
       "      <td>0</td>\n",
       "      <td>...</td>\n",
       "      <td>1</td>\n",
       "      <td>0</td>\n",
       "      <td>0</td>\n",
       "      <td>0</td>\n",
       "      <td>0</td>\n",
       "      <td>0</td>\n",
       "      <td>0</td>\n",
       "      <td>0</td>\n",
       "      <td>0</td>\n",
       "      <td>0</td>\n",
       "    </tr>\n",
       "  </tbody>\n",
       "</table>\n",
       "<p>8465 rows × 38 columns</p>\n",
       "</div>"
      ],
      "text/plain": [
       "      intercept  temperature  humidity  wind_speed  visibility  \\\n",
       "0           1.0    -1.484675 -1.032334    0.458402    0.929522   \n",
       "1           1.0    -1.509459 -0.983517   -0.895195    0.929522   \n",
       "2           1.0    -1.550766 -0.934701   -0.701824    0.929522   \n",
       "3           1.0    -1.567289 -0.885884   -0.798509    0.929522   \n",
       "4           1.0    -1.550766 -1.081151    0.555088    0.929522   \n",
       "...         ...          ...       ...         ...         ...   \n",
       "8460        1.0    -0.708096 -1.178784    0.845144    0.755481   \n",
       "8461        1.0    -0.774188 -1.032334    0.555088    0.929522   \n",
       "8462        1.0    -0.840279 -0.934701   -1.378622    0.876981   \n",
       "8463        1.0    -0.881587 -0.837068   -0.701824    0.698014   \n",
       "8464        1.0    -0.898110 -0.739434   -0.411767    0.780109   \n",
       "\n",
       "      solar_radiation  hour:_1  hour:_2  hour:_3  hour:_4  ...  hour:_23  \\\n",
       "0           -0.654041        0        0        0        0  ...         0   \n",
       "1           -0.654041        1        0        0        0  ...         0   \n",
       "2           -0.654041        0        1        0        0  ...         0   \n",
       "3           -0.654041        0        0        1        0  ...         0   \n",
       "4           -0.654041        0        0        0        1  ...         0   \n",
       "...               ...      ...      ...      ...      ...  ...       ...   \n",
       "8460        -0.654041        0        0        0        0  ...         0   \n",
       "8461        -0.654041        0        0        0        0  ...         0   \n",
       "8462        -0.654041        0        0        0        0  ...         0   \n",
       "8463        -0.654041        0        0        0        0  ...         0   \n",
       "8464        -0.654041        0        0        0        0  ...         1   \n",
       "\n",
       "      day:_Monday  day:_Saturday  day:_Sunday  day:_Thursday  day:_Tuesday  \\\n",
       "0               0              0            0              0             0   \n",
       "1               0              0            0              0             0   \n",
       "2               0              0            0              0             0   \n",
       "3               0              0            0              0             0   \n",
       "4               0              0            0              0             0   \n",
       "...           ...            ...          ...            ...           ...   \n",
       "8460            0              0            0              0             0   \n",
       "8461            0              0            0              0             0   \n",
       "8462            0              0            0              0             0   \n",
       "8463            0              0            0              0             0   \n",
       "8464            0              0            0              0             0   \n",
       "\n",
       "      day:_Wednesday  season:_Spring  season:_Summer  season:_Winter  \n",
       "0                  0               0               0               1  \n",
       "1                  0               0               0               1  \n",
       "2                  0               0               0               1  \n",
       "3                  0               0               0               1  \n",
       "4                  0               0               0               1  \n",
       "...              ...             ...             ...             ...  \n",
       "8460               0               0               0               0  \n",
       "8461               0               0               0               0  \n",
       "8462               0               0               0               0  \n",
       "8463               0               0               0               0  \n",
       "8464               0               0               0               0  \n",
       "\n",
       "[8465 rows x 38 columns]"
      ]
     },
     "execution_count": 10,
     "metadata": {},
     "output_type": "execute_result"
    }
   ],
   "source": [
    "var_list_top = ['temperature', 'humidity', 'wind_speed', 'hour', 'visibility', 'day', 'solar_radiation', 'season']\n",
    "\n",
    "df_top = df_bike[var_list_top]\n",
    "ddf_top = pd.get_dummies(df_top['hour'], drop_first = True, prefix = 'hour:')\n",
    "ddf_top = pd.concat([ddf_top, pd.get_dummies(df_top['day'], drop_first = True, prefix = 'day:')], axis = 1)\n",
    "ddf_top = pd.concat([ddf_top, pd.get_dummies(df_top['season'], drop_first = True, prefix = 'season:')], axis = 1)\n",
    "\n",
    "df_top = df_top.drop(['hour', 'day', 'season'], axis = 1)\n",
    "\n",
    "Xt = pd.concat([featureNormalize(df_top), ddf_top], axis = 1).reset_index(drop = True)\n",
    "Xt.insert(loc = 0, column = 'intercept', value = 1.0)\n",
    "\n",
    "Xt"
   ]
  },
  {
   "cell_type": "code",
   "execution_count": 11,
   "id": "cd591c66",
   "metadata": {},
   "outputs": [
    {
     "data": {
      "text/plain": [
       "((5926, 38), (5926, 1), (5926, 1), (2539, 38), (2539, 1), (2539, 1))"
      ]
     },
     "execution_count": 11,
     "metadata": {},
     "output_type": "execute_result"
    }
   ],
   "source": [
    "Xt_train = Xt[Xt.index.isin(Xf_train.index)]\n",
    "Xt_test = Xt[~Xt.index.isin(Xf_train.index)]\n",
    "\n",
    "Xt_train.shape, y_train.shape, c_train.shape, Xt_test.shape, y_test.shape, c_test.shape"
   ]
  },
  {
   "cell_type": "code",
   "execution_count": null,
   "id": "da3ae11b",
   "metadata": {},
   "outputs": [],
   "source": [
    "#Linear Regression Models\n",
    "#Learning Rate vs Train and Test RMSE\n",
    "\n",
    "threshold = 1e-3\n",
    "alphas = [1e+2, 3e+1, 1e+1, 3e+0, 1e+0, 3e-1, 1e-1, 3e-2, 1e-2, 3e-3, 1e-3, 3e-4, 1e-4, 3e-5, 1e-5]\n",
    "\n",
    "lin_alpha_errors = []\n",
    "for alpha in alphas:\n",
    "    lin_alpha_error = {}\n",
    "    theta = np.zeros((Xf_train.shape[1], 1), dtype = float)\n",
    "    J_theta = gradientDescentLinear(Xf_train.values, y_train.values, theta, alpha, threshold)\n",
    "    lin_alpha_error['learning_rate'] = alpha\n",
    "    lin_alpha_error['converging_iteration'] = J_theta[-1]['iter']\n",
    "    lin_alpha_error['train_rmse'] = rmse(np.dot(Xf_train.values, J_theta[-1]['theta']), y_train.values)\n",
    "    lin_alpha_error['test_rmse'] = rmse(np.dot(Xf_test.values, J_theta[-1]['theta']), y_test.values)\n",
    "    lin_alpha_errors.append(lin_alpha_error)\n",
    "    \n",
    "df_lin_alpha_errors = pd.DataFrame(lin_alpha_errors)\n",
    "df_lin_alpha_errors"
   ]
  },
  {
   "cell_type": "code",
   "execution_count": 52,
   "id": "2dd55d30",
   "metadata": {},
   "outputs": [
    {
     "data": {
      "application/vnd.plotly.v1+json": {
       "config": {
        "plotlyServerURL": "https://plot.ly"
       },
       "data": [
        {
         "mode": "lines+markers",
         "name": "Train RMSE",
         "type": "scatter",
         "x": [
          100,
          30,
          10,
          3,
          1,
          0.3,
          0.1,
          0.03,
          0.01,
          0.003,
          0.001,
          0.0003,
          0.0001,
          3e-05,
          1e-05
         ],
         "y": [
          116779.38743551288,
          34468.00986036709,
          10958.423725548406,
          2765.5419236645075,
          578.9003247505193,
          374.05421152699546,
          374.3591277862192,
          375.2703913644417,
          377.5376280890154,
          390.1313750128201,
          435.2685996863045,
          482.4372921311963,
          549.5997968712629,
          747.1778165670015,
          881.6936255956218
         ]
        },
        {
         "mode": "lines+markers",
         "name": "Test RMSE",
         "type": "scatter",
         "x": [
          100,
          30,
          10,
          3,
          1,
          0.3,
          0.1,
          0.03,
          0.01,
          0.003,
          0.001,
          0.0003,
          0.0001,
          3e-05,
          1e-05
         ],
         "y": [
          115838.70433892582,
          34183.05777482947,
          10860.773587186939,
          2733.3552803628204,
          583.3427005259662,
          366.23383857001,
          366.46375157649663,
          367.28557135906,
          369.4951137245361,
          382.18986448183534,
          428.52540803228277,
          478.444684951212,
          549.5088369629825,
          748.79680235992,
          883.0518758869597
         ]
        }
       ],
       "layout": {
        "hovermode": "x unified",
        "template": {
         "data": {
          "bar": [
           {
            "error_x": {
             "color": "#2a3f5f"
            },
            "error_y": {
             "color": "#2a3f5f"
            },
            "marker": {
             "line": {
              "color": "#E5ECF6",
              "width": 0.5
             },
             "pattern": {
              "fillmode": "overlay",
              "size": 10,
              "solidity": 0.2
             }
            },
            "type": "bar"
           }
          ],
          "barpolar": [
           {
            "marker": {
             "line": {
              "color": "#E5ECF6",
              "width": 0.5
             },
             "pattern": {
              "fillmode": "overlay",
              "size": 10,
              "solidity": 0.2
             }
            },
            "type": "barpolar"
           }
          ],
          "carpet": [
           {
            "aaxis": {
             "endlinecolor": "#2a3f5f",
             "gridcolor": "white",
             "linecolor": "white",
             "minorgridcolor": "white",
             "startlinecolor": "#2a3f5f"
            },
            "baxis": {
             "endlinecolor": "#2a3f5f",
             "gridcolor": "white",
             "linecolor": "white",
             "minorgridcolor": "white",
             "startlinecolor": "#2a3f5f"
            },
            "type": "carpet"
           }
          ],
          "choropleth": [
           {
            "colorbar": {
             "outlinewidth": 0,
             "ticks": ""
            },
            "type": "choropleth"
           }
          ],
          "contour": [
           {
            "colorbar": {
             "outlinewidth": 0,
             "ticks": ""
            },
            "colorscale": [
             [
              0,
              "#0d0887"
             ],
             [
              0.1111111111111111,
              "#46039f"
             ],
             [
              0.2222222222222222,
              "#7201a8"
             ],
             [
              0.3333333333333333,
              "#9c179e"
             ],
             [
              0.4444444444444444,
              "#bd3786"
             ],
             [
              0.5555555555555556,
              "#d8576b"
             ],
             [
              0.6666666666666666,
              "#ed7953"
             ],
             [
              0.7777777777777778,
              "#fb9f3a"
             ],
             [
              0.8888888888888888,
              "#fdca26"
             ],
             [
              1,
              "#f0f921"
             ]
            ],
            "type": "contour"
           }
          ],
          "contourcarpet": [
           {
            "colorbar": {
             "outlinewidth": 0,
             "ticks": ""
            },
            "type": "contourcarpet"
           }
          ],
          "heatmap": [
           {
            "colorbar": {
             "outlinewidth": 0,
             "ticks": ""
            },
            "colorscale": [
             [
              0,
              "#0d0887"
             ],
             [
              0.1111111111111111,
              "#46039f"
             ],
             [
              0.2222222222222222,
              "#7201a8"
             ],
             [
              0.3333333333333333,
              "#9c179e"
             ],
             [
              0.4444444444444444,
              "#bd3786"
             ],
             [
              0.5555555555555556,
              "#d8576b"
             ],
             [
              0.6666666666666666,
              "#ed7953"
             ],
             [
              0.7777777777777778,
              "#fb9f3a"
             ],
             [
              0.8888888888888888,
              "#fdca26"
             ],
             [
              1,
              "#f0f921"
             ]
            ],
            "type": "heatmap"
           }
          ],
          "heatmapgl": [
           {
            "colorbar": {
             "outlinewidth": 0,
             "ticks": ""
            },
            "colorscale": [
             [
              0,
              "#0d0887"
             ],
             [
              0.1111111111111111,
              "#46039f"
             ],
             [
              0.2222222222222222,
              "#7201a8"
             ],
             [
              0.3333333333333333,
              "#9c179e"
             ],
             [
              0.4444444444444444,
              "#bd3786"
             ],
             [
              0.5555555555555556,
              "#d8576b"
             ],
             [
              0.6666666666666666,
              "#ed7953"
             ],
             [
              0.7777777777777778,
              "#fb9f3a"
             ],
             [
              0.8888888888888888,
              "#fdca26"
             ],
             [
              1,
              "#f0f921"
             ]
            ],
            "type": "heatmapgl"
           }
          ],
          "histogram": [
           {
            "marker": {
             "pattern": {
              "fillmode": "overlay",
              "size": 10,
              "solidity": 0.2
             }
            },
            "type": "histogram"
           }
          ],
          "histogram2d": [
           {
            "colorbar": {
             "outlinewidth": 0,
             "ticks": ""
            },
            "colorscale": [
             [
              0,
              "#0d0887"
             ],
             [
              0.1111111111111111,
              "#46039f"
             ],
             [
              0.2222222222222222,
              "#7201a8"
             ],
             [
              0.3333333333333333,
              "#9c179e"
             ],
             [
              0.4444444444444444,
              "#bd3786"
             ],
             [
              0.5555555555555556,
              "#d8576b"
             ],
             [
              0.6666666666666666,
              "#ed7953"
             ],
             [
              0.7777777777777778,
              "#fb9f3a"
             ],
             [
              0.8888888888888888,
              "#fdca26"
             ],
             [
              1,
              "#f0f921"
             ]
            ],
            "type": "histogram2d"
           }
          ],
          "histogram2dcontour": [
           {
            "colorbar": {
             "outlinewidth": 0,
             "ticks": ""
            },
            "colorscale": [
             [
              0,
              "#0d0887"
             ],
             [
              0.1111111111111111,
              "#46039f"
             ],
             [
              0.2222222222222222,
              "#7201a8"
             ],
             [
              0.3333333333333333,
              "#9c179e"
             ],
             [
              0.4444444444444444,
              "#bd3786"
             ],
             [
              0.5555555555555556,
              "#d8576b"
             ],
             [
              0.6666666666666666,
              "#ed7953"
             ],
             [
              0.7777777777777778,
              "#fb9f3a"
             ],
             [
              0.8888888888888888,
              "#fdca26"
             ],
             [
              1,
              "#f0f921"
             ]
            ],
            "type": "histogram2dcontour"
           }
          ],
          "mesh3d": [
           {
            "colorbar": {
             "outlinewidth": 0,
             "ticks": ""
            },
            "type": "mesh3d"
           }
          ],
          "parcoords": [
           {
            "line": {
             "colorbar": {
              "outlinewidth": 0,
              "ticks": ""
             }
            },
            "type": "parcoords"
           }
          ],
          "pie": [
           {
            "automargin": true,
            "type": "pie"
           }
          ],
          "scatter": [
           {
            "fillpattern": {
             "fillmode": "overlay",
             "size": 10,
             "solidity": 0.2
            },
            "type": "scatter"
           }
          ],
          "scatter3d": [
           {
            "line": {
             "colorbar": {
              "outlinewidth": 0,
              "ticks": ""
             }
            },
            "marker": {
             "colorbar": {
              "outlinewidth": 0,
              "ticks": ""
             }
            },
            "type": "scatter3d"
           }
          ],
          "scattercarpet": [
           {
            "marker": {
             "colorbar": {
              "outlinewidth": 0,
              "ticks": ""
             }
            },
            "type": "scattercarpet"
           }
          ],
          "scattergeo": [
           {
            "marker": {
             "colorbar": {
              "outlinewidth": 0,
              "ticks": ""
             }
            },
            "type": "scattergeo"
           }
          ],
          "scattergl": [
           {
            "marker": {
             "colorbar": {
              "outlinewidth": 0,
              "ticks": ""
             }
            },
            "type": "scattergl"
           }
          ],
          "scattermapbox": [
           {
            "marker": {
             "colorbar": {
              "outlinewidth": 0,
              "ticks": ""
             }
            },
            "type": "scattermapbox"
           }
          ],
          "scatterpolar": [
           {
            "marker": {
             "colorbar": {
              "outlinewidth": 0,
              "ticks": ""
             }
            },
            "type": "scatterpolar"
           }
          ],
          "scatterpolargl": [
           {
            "marker": {
             "colorbar": {
              "outlinewidth": 0,
              "ticks": ""
             }
            },
            "type": "scatterpolargl"
           }
          ],
          "scatterternary": [
           {
            "marker": {
             "colorbar": {
              "outlinewidth": 0,
              "ticks": ""
             }
            },
            "type": "scatterternary"
           }
          ],
          "surface": [
           {
            "colorbar": {
             "outlinewidth": 0,
             "ticks": ""
            },
            "colorscale": [
             [
              0,
              "#0d0887"
             ],
             [
              0.1111111111111111,
              "#46039f"
             ],
             [
              0.2222222222222222,
              "#7201a8"
             ],
             [
              0.3333333333333333,
              "#9c179e"
             ],
             [
              0.4444444444444444,
              "#bd3786"
             ],
             [
              0.5555555555555556,
              "#d8576b"
             ],
             [
              0.6666666666666666,
              "#ed7953"
             ],
             [
              0.7777777777777778,
              "#fb9f3a"
             ],
             [
              0.8888888888888888,
              "#fdca26"
             ],
             [
              1,
              "#f0f921"
             ]
            ],
            "type": "surface"
           }
          ],
          "table": [
           {
            "cells": {
             "fill": {
              "color": "#EBF0F8"
             },
             "line": {
              "color": "white"
             }
            },
            "header": {
             "fill": {
              "color": "#C8D4E3"
             },
             "line": {
              "color": "white"
             }
            },
            "type": "table"
           }
          ]
         },
         "layout": {
          "annotationdefaults": {
           "arrowcolor": "#2a3f5f",
           "arrowhead": 0,
           "arrowwidth": 1
          },
          "autotypenumbers": "strict",
          "coloraxis": {
           "colorbar": {
            "outlinewidth": 0,
            "ticks": ""
           }
          },
          "colorscale": {
           "diverging": [
            [
             0,
             "#8e0152"
            ],
            [
             0.1,
             "#c51b7d"
            ],
            [
             0.2,
             "#de77ae"
            ],
            [
             0.3,
             "#f1b6da"
            ],
            [
             0.4,
             "#fde0ef"
            ],
            [
             0.5,
             "#f7f7f7"
            ],
            [
             0.6,
             "#e6f5d0"
            ],
            [
             0.7,
             "#b8e186"
            ],
            [
             0.8,
             "#7fbc41"
            ],
            [
             0.9,
             "#4d9221"
            ],
            [
             1,
             "#276419"
            ]
           ],
           "sequential": [
            [
             0,
             "#0d0887"
            ],
            [
             0.1111111111111111,
             "#46039f"
            ],
            [
             0.2222222222222222,
             "#7201a8"
            ],
            [
             0.3333333333333333,
             "#9c179e"
            ],
            [
             0.4444444444444444,
             "#bd3786"
            ],
            [
             0.5555555555555556,
             "#d8576b"
            ],
            [
             0.6666666666666666,
             "#ed7953"
            ],
            [
             0.7777777777777778,
             "#fb9f3a"
            ],
            [
             0.8888888888888888,
             "#fdca26"
            ],
            [
             1,
             "#f0f921"
            ]
           ],
           "sequentialminus": [
            [
             0,
             "#0d0887"
            ],
            [
             0.1111111111111111,
             "#46039f"
            ],
            [
             0.2222222222222222,
             "#7201a8"
            ],
            [
             0.3333333333333333,
             "#9c179e"
            ],
            [
             0.4444444444444444,
             "#bd3786"
            ],
            [
             0.5555555555555556,
             "#d8576b"
            ],
            [
             0.6666666666666666,
             "#ed7953"
            ],
            [
             0.7777777777777778,
             "#fb9f3a"
            ],
            [
             0.8888888888888888,
             "#fdca26"
            ],
            [
             1,
             "#f0f921"
            ]
           ]
          },
          "colorway": [
           "#636efa",
           "#EF553B",
           "#00cc96",
           "#ab63fa",
           "#FFA15A",
           "#19d3f3",
           "#FF6692",
           "#B6E880",
           "#FF97FF",
           "#FECB52"
          ],
          "font": {
           "color": "#2a3f5f"
          },
          "geo": {
           "bgcolor": "white",
           "lakecolor": "white",
           "landcolor": "#E5ECF6",
           "showlakes": true,
           "showland": true,
           "subunitcolor": "white"
          },
          "hoverlabel": {
           "align": "left"
          },
          "hovermode": "closest",
          "mapbox": {
           "style": "light"
          },
          "paper_bgcolor": "white",
          "plot_bgcolor": "#E5ECF6",
          "polar": {
           "angularaxis": {
            "gridcolor": "white",
            "linecolor": "white",
            "ticks": ""
           },
           "bgcolor": "#E5ECF6",
           "radialaxis": {
            "gridcolor": "white",
            "linecolor": "white",
            "ticks": ""
           }
          },
          "scene": {
           "xaxis": {
            "backgroundcolor": "#E5ECF6",
            "gridcolor": "white",
            "gridwidth": 2,
            "linecolor": "white",
            "showbackground": true,
            "ticks": "",
            "zerolinecolor": "white"
           },
           "yaxis": {
            "backgroundcolor": "#E5ECF6",
            "gridcolor": "white",
            "gridwidth": 2,
            "linecolor": "white",
            "showbackground": true,
            "ticks": "",
            "zerolinecolor": "white"
           },
           "zaxis": {
            "backgroundcolor": "#E5ECF6",
            "gridcolor": "white",
            "gridwidth": 2,
            "linecolor": "white",
            "showbackground": true,
            "ticks": "",
            "zerolinecolor": "white"
           }
          },
          "shapedefaults": {
           "line": {
            "color": "#2a3f5f"
           }
          },
          "ternary": {
           "aaxis": {
            "gridcolor": "white",
            "linecolor": "white",
            "ticks": ""
           },
           "baxis": {
            "gridcolor": "white",
            "linecolor": "white",
            "ticks": ""
           },
           "bgcolor": "#E5ECF6",
           "caxis": {
            "gridcolor": "white",
            "linecolor": "white",
            "ticks": ""
           }
          },
          "title": {
           "x": 0.05
          },
          "xaxis": {
           "automargin": true,
           "gridcolor": "white",
           "linecolor": "white",
           "ticks": "",
           "title": {
            "standoff": 15
           },
           "zerolinecolor": "white",
           "zerolinewidth": 2
          },
          "yaxis": {
           "automargin": true,
           "gridcolor": "white",
           "linecolor": "white",
           "ticks": "",
           "title": {
            "standoff": 15
           },
           "zerolinecolor": "white",
           "zerolinewidth": 2
          }
         }
        },
        "title": {
         "text": "Learning Rate vs Train and Test RMSE"
        },
        "xaxis": {
         "title": {
          "text": "Learning Rate"
         },
         "type": "log"
        },
        "yaxis": {
         "title": {
          "text": "RMSE"
         },
         "type": "log"
        }
       }
      },
      "text/html": [
       "<div>                            <div id=\"57ac1afd-1a53-46c1-ac67-de1512dc6dcc\" class=\"plotly-graph-div\" style=\"height:525px; width:100%;\"></div>            <script type=\"text/javascript\">                require([\"plotly\"], function(Plotly) {                    window.PLOTLYENV=window.PLOTLYENV || {};                                    if (document.getElementById(\"57ac1afd-1a53-46c1-ac67-de1512dc6dcc\")) {                    Plotly.newPlot(                        \"57ac1afd-1a53-46c1-ac67-de1512dc6dcc\",                        [{\"mode\":\"lines+markers\",\"name\":\"Train RMSE\",\"x\":[100.0,30.0,10.0,3.0,1.0,0.3,0.1,0.03,0.01,0.003,0.001,0.0003,0.0001,3e-05,1e-05],\"y\":[116779.38743551288,34468.00986036709,10958.423725548406,2765.5419236645075,578.9003247505193,374.05421152699546,374.3591277862192,375.2703913644417,377.5376280890154,390.1313750128201,435.2685996863045,482.4372921311963,549.5997968712629,747.1778165670015,881.6936255956218],\"type\":\"scatter\"},{\"mode\":\"lines+markers\",\"name\":\"Test RMSE\",\"x\":[100.0,30.0,10.0,3.0,1.0,0.3,0.1,0.03,0.01,0.003,0.001,0.0003,0.0001,3e-05,1e-05],\"y\":[115838.70433892582,34183.05777482947,10860.773587186939,2733.3552803628204,583.3427005259662,366.23383857001,366.46375157649663,367.28557135906,369.4951137245361,382.18986448183534,428.52540803228277,478.444684951212,549.5088369629825,748.79680235992,883.0518758869597],\"type\":\"scatter\"}],                        {\"template\":{\"data\":{\"histogram2dcontour\":[{\"type\":\"histogram2dcontour\",\"colorbar\":{\"outlinewidth\":0,\"ticks\":\"\"},\"colorscale\":[[0.0,\"#0d0887\"],[0.1111111111111111,\"#46039f\"],[0.2222222222222222,\"#7201a8\"],[0.3333333333333333,\"#9c179e\"],[0.4444444444444444,\"#bd3786\"],[0.5555555555555556,\"#d8576b\"],[0.6666666666666666,\"#ed7953\"],[0.7777777777777778,\"#fb9f3a\"],[0.8888888888888888,\"#fdca26\"],[1.0,\"#f0f921\"]]}],\"choropleth\":[{\"type\":\"choropleth\",\"colorbar\":{\"outlinewidth\":0,\"ticks\":\"\"}}],\"histogram2d\":[{\"type\":\"histogram2d\",\"colorbar\":{\"outlinewidth\":0,\"ticks\":\"\"},\"colorscale\":[[0.0,\"#0d0887\"],[0.1111111111111111,\"#46039f\"],[0.2222222222222222,\"#7201a8\"],[0.3333333333333333,\"#9c179e\"],[0.4444444444444444,\"#bd3786\"],[0.5555555555555556,\"#d8576b\"],[0.6666666666666666,\"#ed7953\"],[0.7777777777777778,\"#fb9f3a\"],[0.8888888888888888,\"#fdca26\"],[1.0,\"#f0f921\"]]}],\"heatmap\":[{\"type\":\"heatmap\",\"colorbar\":{\"outlinewidth\":0,\"ticks\":\"\"},\"colorscale\":[[0.0,\"#0d0887\"],[0.1111111111111111,\"#46039f\"],[0.2222222222222222,\"#7201a8\"],[0.3333333333333333,\"#9c179e\"],[0.4444444444444444,\"#bd3786\"],[0.5555555555555556,\"#d8576b\"],[0.6666666666666666,\"#ed7953\"],[0.7777777777777778,\"#fb9f3a\"],[0.8888888888888888,\"#fdca26\"],[1.0,\"#f0f921\"]]}],\"heatmapgl\":[{\"type\":\"heatmapgl\",\"colorbar\":{\"outlinewidth\":0,\"ticks\":\"\"},\"colorscale\":[[0.0,\"#0d0887\"],[0.1111111111111111,\"#46039f\"],[0.2222222222222222,\"#7201a8\"],[0.3333333333333333,\"#9c179e\"],[0.4444444444444444,\"#bd3786\"],[0.5555555555555556,\"#d8576b\"],[0.6666666666666666,\"#ed7953\"],[0.7777777777777778,\"#fb9f3a\"],[0.8888888888888888,\"#fdca26\"],[1.0,\"#f0f921\"]]}],\"contourcarpet\":[{\"type\":\"contourcarpet\",\"colorbar\":{\"outlinewidth\":0,\"ticks\":\"\"}}],\"contour\":[{\"type\":\"contour\",\"colorbar\":{\"outlinewidth\":0,\"ticks\":\"\"},\"colorscale\":[[0.0,\"#0d0887\"],[0.1111111111111111,\"#46039f\"],[0.2222222222222222,\"#7201a8\"],[0.3333333333333333,\"#9c179e\"],[0.4444444444444444,\"#bd3786\"],[0.5555555555555556,\"#d8576b\"],[0.6666666666666666,\"#ed7953\"],[0.7777777777777778,\"#fb9f3a\"],[0.8888888888888888,\"#fdca26\"],[1.0,\"#f0f921\"]]}],\"surface\":[{\"type\":\"surface\",\"colorbar\":{\"outlinewidth\":0,\"ticks\":\"\"},\"colorscale\":[[0.0,\"#0d0887\"],[0.1111111111111111,\"#46039f\"],[0.2222222222222222,\"#7201a8\"],[0.3333333333333333,\"#9c179e\"],[0.4444444444444444,\"#bd3786\"],[0.5555555555555556,\"#d8576b\"],[0.6666666666666666,\"#ed7953\"],[0.7777777777777778,\"#fb9f3a\"],[0.8888888888888888,\"#fdca26\"],[1.0,\"#f0f921\"]]}],\"mesh3d\":[{\"type\":\"mesh3d\",\"colorbar\":{\"outlinewidth\":0,\"ticks\":\"\"}}],\"scatter\":[{\"fillpattern\":{\"fillmode\":\"overlay\",\"size\":10,\"solidity\":0.2},\"type\":\"scatter\"}],\"parcoords\":[{\"type\":\"parcoords\",\"line\":{\"colorbar\":{\"outlinewidth\":0,\"ticks\":\"\"}}}],\"scatterpolargl\":[{\"type\":\"scatterpolargl\",\"marker\":{\"colorbar\":{\"outlinewidth\":0,\"ticks\":\"\"}}}],\"bar\":[{\"error_x\":{\"color\":\"#2a3f5f\"},\"error_y\":{\"color\":\"#2a3f5f\"},\"marker\":{\"line\":{\"color\":\"#E5ECF6\",\"width\":0.5},\"pattern\":{\"fillmode\":\"overlay\",\"size\":10,\"solidity\":0.2}},\"type\":\"bar\"}],\"scattergeo\":[{\"type\":\"scattergeo\",\"marker\":{\"colorbar\":{\"outlinewidth\":0,\"ticks\":\"\"}}}],\"scatterpolar\":[{\"type\":\"scatterpolar\",\"marker\":{\"colorbar\":{\"outlinewidth\":0,\"ticks\":\"\"}}}],\"histogram\":[{\"marker\":{\"pattern\":{\"fillmode\":\"overlay\",\"size\":10,\"solidity\":0.2}},\"type\":\"histogram\"}],\"scattergl\":[{\"type\":\"scattergl\",\"marker\":{\"colorbar\":{\"outlinewidth\":0,\"ticks\":\"\"}}}],\"scatter3d\":[{\"type\":\"scatter3d\",\"line\":{\"colorbar\":{\"outlinewidth\":0,\"ticks\":\"\"}},\"marker\":{\"colorbar\":{\"outlinewidth\":0,\"ticks\":\"\"}}}],\"scattermapbox\":[{\"type\":\"scattermapbox\",\"marker\":{\"colorbar\":{\"outlinewidth\":0,\"ticks\":\"\"}}}],\"scatterternary\":[{\"type\":\"scatterternary\",\"marker\":{\"colorbar\":{\"outlinewidth\":0,\"ticks\":\"\"}}}],\"scattercarpet\":[{\"type\":\"scattercarpet\",\"marker\":{\"colorbar\":{\"outlinewidth\":0,\"ticks\":\"\"}}}],\"carpet\":[{\"aaxis\":{\"endlinecolor\":\"#2a3f5f\",\"gridcolor\":\"white\",\"linecolor\":\"white\",\"minorgridcolor\":\"white\",\"startlinecolor\":\"#2a3f5f\"},\"baxis\":{\"endlinecolor\":\"#2a3f5f\",\"gridcolor\":\"white\",\"linecolor\":\"white\",\"minorgridcolor\":\"white\",\"startlinecolor\":\"#2a3f5f\"},\"type\":\"carpet\"}],\"table\":[{\"cells\":{\"fill\":{\"color\":\"#EBF0F8\"},\"line\":{\"color\":\"white\"}},\"header\":{\"fill\":{\"color\":\"#C8D4E3\"},\"line\":{\"color\":\"white\"}},\"type\":\"table\"}],\"barpolar\":[{\"marker\":{\"line\":{\"color\":\"#E5ECF6\",\"width\":0.5},\"pattern\":{\"fillmode\":\"overlay\",\"size\":10,\"solidity\":0.2}},\"type\":\"barpolar\"}],\"pie\":[{\"automargin\":true,\"type\":\"pie\"}]},\"layout\":{\"autotypenumbers\":\"strict\",\"colorway\":[\"#636efa\",\"#EF553B\",\"#00cc96\",\"#ab63fa\",\"#FFA15A\",\"#19d3f3\",\"#FF6692\",\"#B6E880\",\"#FF97FF\",\"#FECB52\"],\"font\":{\"color\":\"#2a3f5f\"},\"hovermode\":\"closest\",\"hoverlabel\":{\"align\":\"left\"},\"paper_bgcolor\":\"white\",\"plot_bgcolor\":\"#E5ECF6\",\"polar\":{\"bgcolor\":\"#E5ECF6\",\"angularaxis\":{\"gridcolor\":\"white\",\"linecolor\":\"white\",\"ticks\":\"\"},\"radialaxis\":{\"gridcolor\":\"white\",\"linecolor\":\"white\",\"ticks\":\"\"}},\"ternary\":{\"bgcolor\":\"#E5ECF6\",\"aaxis\":{\"gridcolor\":\"white\",\"linecolor\":\"white\",\"ticks\":\"\"},\"baxis\":{\"gridcolor\":\"white\",\"linecolor\":\"white\",\"ticks\":\"\"},\"caxis\":{\"gridcolor\":\"white\",\"linecolor\":\"white\",\"ticks\":\"\"}},\"coloraxis\":{\"colorbar\":{\"outlinewidth\":0,\"ticks\":\"\"}},\"colorscale\":{\"sequential\":[[0.0,\"#0d0887\"],[0.1111111111111111,\"#46039f\"],[0.2222222222222222,\"#7201a8\"],[0.3333333333333333,\"#9c179e\"],[0.4444444444444444,\"#bd3786\"],[0.5555555555555556,\"#d8576b\"],[0.6666666666666666,\"#ed7953\"],[0.7777777777777778,\"#fb9f3a\"],[0.8888888888888888,\"#fdca26\"],[1.0,\"#f0f921\"]],\"sequentialminus\":[[0.0,\"#0d0887\"],[0.1111111111111111,\"#46039f\"],[0.2222222222222222,\"#7201a8\"],[0.3333333333333333,\"#9c179e\"],[0.4444444444444444,\"#bd3786\"],[0.5555555555555556,\"#d8576b\"],[0.6666666666666666,\"#ed7953\"],[0.7777777777777778,\"#fb9f3a\"],[0.8888888888888888,\"#fdca26\"],[1.0,\"#f0f921\"]],\"diverging\":[[0,\"#8e0152\"],[0.1,\"#c51b7d\"],[0.2,\"#de77ae\"],[0.3,\"#f1b6da\"],[0.4,\"#fde0ef\"],[0.5,\"#f7f7f7\"],[0.6,\"#e6f5d0\"],[0.7,\"#b8e186\"],[0.8,\"#7fbc41\"],[0.9,\"#4d9221\"],[1,\"#276419\"]]},\"xaxis\":{\"gridcolor\":\"white\",\"linecolor\":\"white\",\"ticks\":\"\",\"title\":{\"standoff\":15},\"zerolinecolor\":\"white\",\"automargin\":true,\"zerolinewidth\":2},\"yaxis\":{\"gridcolor\":\"white\",\"linecolor\":\"white\",\"ticks\":\"\",\"title\":{\"standoff\":15},\"zerolinecolor\":\"white\",\"automargin\":true,\"zerolinewidth\":2},\"scene\":{\"xaxis\":{\"backgroundcolor\":\"#E5ECF6\",\"gridcolor\":\"white\",\"linecolor\":\"white\",\"showbackground\":true,\"ticks\":\"\",\"zerolinecolor\":\"white\",\"gridwidth\":2},\"yaxis\":{\"backgroundcolor\":\"#E5ECF6\",\"gridcolor\":\"white\",\"linecolor\":\"white\",\"showbackground\":true,\"ticks\":\"\",\"zerolinecolor\":\"white\",\"gridwidth\":2},\"zaxis\":{\"backgroundcolor\":\"#E5ECF6\",\"gridcolor\":\"white\",\"linecolor\":\"white\",\"showbackground\":true,\"ticks\":\"\",\"zerolinecolor\":\"white\",\"gridwidth\":2}},\"shapedefaults\":{\"line\":{\"color\":\"#2a3f5f\"}},\"annotationdefaults\":{\"arrowcolor\":\"#2a3f5f\",\"arrowhead\":0,\"arrowwidth\":1},\"geo\":{\"bgcolor\":\"white\",\"landcolor\":\"#E5ECF6\",\"subunitcolor\":\"white\",\"showland\":true,\"showlakes\":true,\"lakecolor\":\"white\"},\"title\":{\"x\":0.05},\"mapbox\":{\"style\":\"light\"}}},\"xaxis\":{\"type\":\"log\",\"title\":{\"text\":\"Learning Rate\"}},\"yaxis\":{\"type\":\"log\",\"title\":{\"text\":\"RMSE\"}},\"title\":{\"text\":\"Learning Rate vs Train and Test RMSE\"},\"hovermode\":\"x unified\"},                        {\"responsive\": true}                    ).then(function(){\n",
       "                            \n",
       "var gd = document.getElementById('57ac1afd-1a53-46c1-ac67-de1512dc6dcc');\n",
       "var x = new MutationObserver(function (mutations, observer) {{\n",
       "        var display = window.getComputedStyle(gd).display;\n",
       "        if (!display || display === 'none') {{\n",
       "            console.log([gd, 'removed!']);\n",
       "            Plotly.purge(gd);\n",
       "            observer.disconnect();\n",
       "        }}\n",
       "}});\n",
       "\n",
       "// Listen for the removal of the full notebook cells\n",
       "var notebookContainer = gd.closest('#notebook-container');\n",
       "if (notebookContainer) {{\n",
       "    x.observe(notebookContainer, {childList: true});\n",
       "}}\n",
       "\n",
       "// Listen for the clearing of the current output cell\n",
       "var outputEl = gd.closest('.output');\n",
       "if (outputEl) {{\n",
       "    x.observe(outputEl, {childList: true});\n",
       "}}\n",
       "\n",
       "                        })                };                });            </script>        </div>"
      ]
     },
     "metadata": {},
     "output_type": "display_data"
    }
   ],
   "source": [
    "fig = go.Figure()\n",
    "\n",
    "fig.add_trace(go.Scatter(x = df_lin_alpha_errors['learning_rate'], y = df_lin_alpha_errors['train_rmse'], \n",
    "                         mode = 'lines+markers', name = 'Train RMSE'))\n",
    "fig.add_trace(go.Scatter(x = df_lin_alpha_errors['learning_rate'], y = df_lin_alpha_errors['test_rmse'], \n",
    "                         mode = 'lines+markers', name = 'Test RMSE'))\n",
    "fig.update_xaxes(type = 'log')\n",
    "fig.update_yaxes(type = 'log')\n",
    "fig.update_layout(title = 'Learning Rate vs Train and Test RMSE', \n",
    "                  xaxis_title = 'Learning Rate', yaxis_title = 'RMSE',\n",
    "                  hovermode = 'x unified')\n",
    "\n",
    "fig.show()"
   ]
  },
  {
   "cell_type": "code",
   "execution_count": 53,
   "id": "7f17cee4",
   "metadata": {},
   "outputs": [
    {
     "data": {
      "text/html": [
       "<div>\n",
       "<style scoped>\n",
       "    .dataframe tbody tr th:only-of-type {\n",
       "        vertical-align: middle;\n",
       "    }\n",
       "\n",
       "    .dataframe tbody tr th {\n",
       "        vertical-align: top;\n",
       "    }\n",
       "\n",
       "    .dataframe thead th {\n",
       "        text-align: right;\n",
       "    }\n",
       "</style>\n",
       "<table border=\"1\" class=\"dataframe\">\n",
       "  <thead>\n",
       "    <tr style=\"text-align: right;\">\n",
       "      <th></th>\n",
       "      <th>threshold</th>\n",
       "      <th>converging_iteration</th>\n",
       "      <th>train_rmse</th>\n",
       "      <th>test_rmse</th>\n",
       "    </tr>\n",
       "  </thead>\n",
       "  <tbody>\n",
       "    <tr>\n",
       "      <th>0</th>\n",
       "      <td>1.000000e+01</td>\n",
       "      <td>4</td>\n",
       "      <td>516.386797</td>\n",
       "      <td>514.678308</td>\n",
       "    </tr>\n",
       "    <tr>\n",
       "      <th>1</th>\n",
       "      <td>1.000000e+00</td>\n",
       "      <td>17</td>\n",
       "      <td>462.624832</td>\n",
       "      <td>457.272787</td>\n",
       "    </tr>\n",
       "    <tr>\n",
       "      <th>2</th>\n",
       "      <td>1.000000e-01</td>\n",
       "      <td>123</td>\n",
       "      <td>384.436489</td>\n",
       "      <td>376.422058</td>\n",
       "    </tr>\n",
       "    <tr>\n",
       "      <th>3</th>\n",
       "      <td>1.000000e-02</td>\n",
       "      <td>254</td>\n",
       "      <td>375.261342</td>\n",
       "      <td>367.275887</td>\n",
       "    </tr>\n",
       "    <tr>\n",
       "      <th>4</th>\n",
       "      <td>1.000000e-03</td>\n",
       "      <td>430</td>\n",
       "      <td>374.054212</td>\n",
       "      <td>366.233839</td>\n",
       "    </tr>\n",
       "    <tr>\n",
       "      <th>5</th>\n",
       "      <td>1.000000e-04</td>\n",
       "      <td>659</td>\n",
       "      <td>373.895789</td>\n",
       "      <td>366.161168</td>\n",
       "    </tr>\n",
       "    <tr>\n",
       "      <th>6</th>\n",
       "      <td>1.000000e-05</td>\n",
       "      <td>928</td>\n",
       "      <td>373.876768</td>\n",
       "      <td>366.165006</td>\n",
       "    </tr>\n",
       "    <tr>\n",
       "      <th>7</th>\n",
       "      <td>1.000000e-06</td>\n",
       "      <td>1249</td>\n",
       "      <td>373.874555</td>\n",
       "      <td>366.168979</td>\n",
       "    </tr>\n",
       "    <tr>\n",
       "      <th>8</th>\n",
       "      <td>1.000000e-07</td>\n",
       "      <td>2454</td>\n",
       "      <td>373.873980</td>\n",
       "      <td>366.174262</td>\n",
       "    </tr>\n",
       "    <tr>\n",
       "      <th>9</th>\n",
       "      <td>1.000000e-08</td>\n",
       "      <td>4923</td>\n",
       "      <td>373.873800</td>\n",
       "      <td>366.178287</td>\n",
       "    </tr>\n",
       "    <tr>\n",
       "      <th>10</th>\n",
       "      <td>1.000000e-09</td>\n",
       "      <td>7392</td>\n",
       "      <td>373.873782</td>\n",
       "      <td>366.179597</td>\n",
       "    </tr>\n",
       "    <tr>\n",
       "      <th>11</th>\n",
       "      <td>1.000000e-10</td>\n",
       "      <td>9861</td>\n",
       "      <td>373.873780</td>\n",
       "      <td>366.180015</td>\n",
       "    </tr>\n",
       "  </tbody>\n",
       "</table>\n",
       "</div>"
      ],
      "text/plain": [
       "       threshold  converging_iteration  train_rmse   test_rmse\n",
       "0   1.000000e+01                     4  516.386797  514.678308\n",
       "1   1.000000e+00                    17  462.624832  457.272787\n",
       "2   1.000000e-01                   123  384.436489  376.422058\n",
       "3   1.000000e-02                   254  375.261342  367.275887\n",
       "4   1.000000e-03                   430  374.054212  366.233839\n",
       "5   1.000000e-04                   659  373.895789  366.161168\n",
       "6   1.000000e-05                   928  373.876768  366.165006\n",
       "7   1.000000e-06                  1249  373.874555  366.168979\n",
       "8   1.000000e-07                  2454  373.873980  366.174262\n",
       "9   1.000000e-08                  4923  373.873800  366.178287\n",
       "10  1.000000e-09                  7392  373.873782  366.179597\n",
       "11  1.000000e-10                  9861  373.873780  366.180015"
      ]
     },
     "execution_count": 53,
     "metadata": {},
     "output_type": "execute_result"
    }
   ],
   "source": [
    "#Threshold for Convergence vs Train and Test RMSE\n",
    "\n",
    "alpha = 3e-1\n",
    "thresholds = [1e+1, 1e+0, 1e-1, 1e-2, 1e-3, 1e-4, 1e-5, 1e-6, 1e-7, 1e-8, 1e-9, 1e-10]\n",
    "\n",
    "lin_thresh_errors = []\n",
    "for threshold in thresholds:\n",
    "    lin_thresh_error = {}\n",
    "    theta = np.zeros((Xf_train.shape[1], 1), dtype = float)\n",
    "    J_theta = gradientDescentLinear(Xf_train.values, y_train.values, theta, alpha, threshold)\n",
    "    lin_thresh_error['threshold'] = threshold\n",
    "    lin_thresh_error['converging_iteration'] = J_theta[-1]['iter']\n",
    "    lin_thresh_error['train_rmse'] = rmse(np.dot(Xf_train.values, J_theta[-1]['theta']), y_train.values)\n",
    "    lin_thresh_error['test_rmse'] = rmse(np.dot(Xf_test.values, J_theta[-1]['theta']), y_test.values)\n",
    "    lin_thresh_errors.append(lin_thresh_error)\n",
    "    \n",
    "df_lin_thresh_errors = pd.DataFrame(lin_thresh_errors)\n",
    "df_lin_thresh_errors"
   ]
  },
  {
   "cell_type": "code",
   "execution_count": 54,
   "id": "5c07f65e",
   "metadata": {},
   "outputs": [
    {
     "data": {
      "application/vnd.plotly.v1+json": {
       "config": {
        "plotlyServerURL": "https://plot.ly"
       },
       "data": [
        {
         "mode": "lines+markers",
         "name": "Train RMSE",
         "type": "scatter",
         "x": [
          10,
          1,
          0.1,
          0.01,
          0.001,
          0.0001,
          1e-05,
          1e-06,
          1e-07,
          1e-08,
          1e-09,
          1e-10
         ],
         "y": [
          516.3867968284561,
          462.62483188929315,
          384.4364886425352,
          375.2613418820765,
          374.05421152699546,
          373.8957890800737,
          373.8767683805299,
          373.8745551080215,
          373.8739803518948,
          373.8738002198673,
          373.87378220240083,
          373.8737804001175
         ]
        },
        {
         "mode": "lines+markers",
         "name": "Test RMSE",
         "type": "scatter",
         "x": [
          10,
          1,
          0.1,
          0.01,
          0.001,
          0.0001,
          1e-05,
          1e-06,
          1e-07,
          1e-08,
          1e-09,
          1e-10
         ],
         "y": [
          514.6783084502083,
          457.27278709085454,
          376.4220579095099,
          367.2758869797179,
          366.23383857001,
          366.1611675023739,
          366.1650056479484,
          366.16897879798785,
          366.17426203344013,
          366.178287384465,
          366.1795969000658,
          366.18001503798416
         ]
        }
       ],
       "layout": {
        "hovermode": "x unified",
        "template": {
         "data": {
          "bar": [
           {
            "error_x": {
             "color": "#2a3f5f"
            },
            "error_y": {
             "color": "#2a3f5f"
            },
            "marker": {
             "line": {
              "color": "#E5ECF6",
              "width": 0.5
             },
             "pattern": {
              "fillmode": "overlay",
              "size": 10,
              "solidity": 0.2
             }
            },
            "type": "bar"
           }
          ],
          "barpolar": [
           {
            "marker": {
             "line": {
              "color": "#E5ECF6",
              "width": 0.5
             },
             "pattern": {
              "fillmode": "overlay",
              "size": 10,
              "solidity": 0.2
             }
            },
            "type": "barpolar"
           }
          ],
          "carpet": [
           {
            "aaxis": {
             "endlinecolor": "#2a3f5f",
             "gridcolor": "white",
             "linecolor": "white",
             "minorgridcolor": "white",
             "startlinecolor": "#2a3f5f"
            },
            "baxis": {
             "endlinecolor": "#2a3f5f",
             "gridcolor": "white",
             "linecolor": "white",
             "minorgridcolor": "white",
             "startlinecolor": "#2a3f5f"
            },
            "type": "carpet"
           }
          ],
          "choropleth": [
           {
            "colorbar": {
             "outlinewidth": 0,
             "ticks": ""
            },
            "type": "choropleth"
           }
          ],
          "contour": [
           {
            "colorbar": {
             "outlinewidth": 0,
             "ticks": ""
            },
            "colorscale": [
             [
              0,
              "#0d0887"
             ],
             [
              0.1111111111111111,
              "#46039f"
             ],
             [
              0.2222222222222222,
              "#7201a8"
             ],
             [
              0.3333333333333333,
              "#9c179e"
             ],
             [
              0.4444444444444444,
              "#bd3786"
             ],
             [
              0.5555555555555556,
              "#d8576b"
             ],
             [
              0.6666666666666666,
              "#ed7953"
             ],
             [
              0.7777777777777778,
              "#fb9f3a"
             ],
             [
              0.8888888888888888,
              "#fdca26"
             ],
             [
              1,
              "#f0f921"
             ]
            ],
            "type": "contour"
           }
          ],
          "contourcarpet": [
           {
            "colorbar": {
             "outlinewidth": 0,
             "ticks": ""
            },
            "type": "contourcarpet"
           }
          ],
          "heatmap": [
           {
            "colorbar": {
             "outlinewidth": 0,
             "ticks": ""
            },
            "colorscale": [
             [
              0,
              "#0d0887"
             ],
             [
              0.1111111111111111,
              "#46039f"
             ],
             [
              0.2222222222222222,
              "#7201a8"
             ],
             [
              0.3333333333333333,
              "#9c179e"
             ],
             [
              0.4444444444444444,
              "#bd3786"
             ],
             [
              0.5555555555555556,
              "#d8576b"
             ],
             [
              0.6666666666666666,
              "#ed7953"
             ],
             [
              0.7777777777777778,
              "#fb9f3a"
             ],
             [
              0.8888888888888888,
              "#fdca26"
             ],
             [
              1,
              "#f0f921"
             ]
            ],
            "type": "heatmap"
           }
          ],
          "heatmapgl": [
           {
            "colorbar": {
             "outlinewidth": 0,
             "ticks": ""
            },
            "colorscale": [
             [
              0,
              "#0d0887"
             ],
             [
              0.1111111111111111,
              "#46039f"
             ],
             [
              0.2222222222222222,
              "#7201a8"
             ],
             [
              0.3333333333333333,
              "#9c179e"
             ],
             [
              0.4444444444444444,
              "#bd3786"
             ],
             [
              0.5555555555555556,
              "#d8576b"
             ],
             [
              0.6666666666666666,
              "#ed7953"
             ],
             [
              0.7777777777777778,
              "#fb9f3a"
             ],
             [
              0.8888888888888888,
              "#fdca26"
             ],
             [
              1,
              "#f0f921"
             ]
            ],
            "type": "heatmapgl"
           }
          ],
          "histogram": [
           {
            "marker": {
             "pattern": {
              "fillmode": "overlay",
              "size": 10,
              "solidity": 0.2
             }
            },
            "type": "histogram"
           }
          ],
          "histogram2d": [
           {
            "colorbar": {
             "outlinewidth": 0,
             "ticks": ""
            },
            "colorscale": [
             [
              0,
              "#0d0887"
             ],
             [
              0.1111111111111111,
              "#46039f"
             ],
             [
              0.2222222222222222,
              "#7201a8"
             ],
             [
              0.3333333333333333,
              "#9c179e"
             ],
             [
              0.4444444444444444,
              "#bd3786"
             ],
             [
              0.5555555555555556,
              "#d8576b"
             ],
             [
              0.6666666666666666,
              "#ed7953"
             ],
             [
              0.7777777777777778,
              "#fb9f3a"
             ],
             [
              0.8888888888888888,
              "#fdca26"
             ],
             [
              1,
              "#f0f921"
             ]
            ],
            "type": "histogram2d"
           }
          ],
          "histogram2dcontour": [
           {
            "colorbar": {
             "outlinewidth": 0,
             "ticks": ""
            },
            "colorscale": [
             [
              0,
              "#0d0887"
             ],
             [
              0.1111111111111111,
              "#46039f"
             ],
             [
              0.2222222222222222,
              "#7201a8"
             ],
             [
              0.3333333333333333,
              "#9c179e"
             ],
             [
              0.4444444444444444,
              "#bd3786"
             ],
             [
              0.5555555555555556,
              "#d8576b"
             ],
             [
              0.6666666666666666,
              "#ed7953"
             ],
             [
              0.7777777777777778,
              "#fb9f3a"
             ],
             [
              0.8888888888888888,
              "#fdca26"
             ],
             [
              1,
              "#f0f921"
             ]
            ],
            "type": "histogram2dcontour"
           }
          ],
          "mesh3d": [
           {
            "colorbar": {
             "outlinewidth": 0,
             "ticks": ""
            },
            "type": "mesh3d"
           }
          ],
          "parcoords": [
           {
            "line": {
             "colorbar": {
              "outlinewidth": 0,
              "ticks": ""
             }
            },
            "type": "parcoords"
           }
          ],
          "pie": [
           {
            "automargin": true,
            "type": "pie"
           }
          ],
          "scatter": [
           {
            "fillpattern": {
             "fillmode": "overlay",
             "size": 10,
             "solidity": 0.2
            },
            "type": "scatter"
           }
          ],
          "scatter3d": [
           {
            "line": {
             "colorbar": {
              "outlinewidth": 0,
              "ticks": ""
             }
            },
            "marker": {
             "colorbar": {
              "outlinewidth": 0,
              "ticks": ""
             }
            },
            "type": "scatter3d"
           }
          ],
          "scattercarpet": [
           {
            "marker": {
             "colorbar": {
              "outlinewidth": 0,
              "ticks": ""
             }
            },
            "type": "scattercarpet"
           }
          ],
          "scattergeo": [
           {
            "marker": {
             "colorbar": {
              "outlinewidth": 0,
              "ticks": ""
             }
            },
            "type": "scattergeo"
           }
          ],
          "scattergl": [
           {
            "marker": {
             "colorbar": {
              "outlinewidth": 0,
              "ticks": ""
             }
            },
            "type": "scattergl"
           }
          ],
          "scattermapbox": [
           {
            "marker": {
             "colorbar": {
              "outlinewidth": 0,
              "ticks": ""
             }
            },
            "type": "scattermapbox"
           }
          ],
          "scatterpolar": [
           {
            "marker": {
             "colorbar": {
              "outlinewidth": 0,
              "ticks": ""
             }
            },
            "type": "scatterpolar"
           }
          ],
          "scatterpolargl": [
           {
            "marker": {
             "colorbar": {
              "outlinewidth": 0,
              "ticks": ""
             }
            },
            "type": "scatterpolargl"
           }
          ],
          "scatterternary": [
           {
            "marker": {
             "colorbar": {
              "outlinewidth": 0,
              "ticks": ""
             }
            },
            "type": "scatterternary"
           }
          ],
          "surface": [
           {
            "colorbar": {
             "outlinewidth": 0,
             "ticks": ""
            },
            "colorscale": [
             [
              0,
              "#0d0887"
             ],
             [
              0.1111111111111111,
              "#46039f"
             ],
             [
              0.2222222222222222,
              "#7201a8"
             ],
             [
              0.3333333333333333,
              "#9c179e"
             ],
             [
              0.4444444444444444,
              "#bd3786"
             ],
             [
              0.5555555555555556,
              "#d8576b"
             ],
             [
              0.6666666666666666,
              "#ed7953"
             ],
             [
              0.7777777777777778,
              "#fb9f3a"
             ],
             [
              0.8888888888888888,
              "#fdca26"
             ],
             [
              1,
              "#f0f921"
             ]
            ],
            "type": "surface"
           }
          ],
          "table": [
           {
            "cells": {
             "fill": {
              "color": "#EBF0F8"
             },
             "line": {
              "color": "white"
             }
            },
            "header": {
             "fill": {
              "color": "#C8D4E3"
             },
             "line": {
              "color": "white"
             }
            },
            "type": "table"
           }
          ]
         },
         "layout": {
          "annotationdefaults": {
           "arrowcolor": "#2a3f5f",
           "arrowhead": 0,
           "arrowwidth": 1
          },
          "autotypenumbers": "strict",
          "coloraxis": {
           "colorbar": {
            "outlinewidth": 0,
            "ticks": ""
           }
          },
          "colorscale": {
           "diverging": [
            [
             0,
             "#8e0152"
            ],
            [
             0.1,
             "#c51b7d"
            ],
            [
             0.2,
             "#de77ae"
            ],
            [
             0.3,
             "#f1b6da"
            ],
            [
             0.4,
             "#fde0ef"
            ],
            [
             0.5,
             "#f7f7f7"
            ],
            [
             0.6,
             "#e6f5d0"
            ],
            [
             0.7,
             "#b8e186"
            ],
            [
             0.8,
             "#7fbc41"
            ],
            [
             0.9,
             "#4d9221"
            ],
            [
             1,
             "#276419"
            ]
           ],
           "sequential": [
            [
             0,
             "#0d0887"
            ],
            [
             0.1111111111111111,
             "#46039f"
            ],
            [
             0.2222222222222222,
             "#7201a8"
            ],
            [
             0.3333333333333333,
             "#9c179e"
            ],
            [
             0.4444444444444444,
             "#bd3786"
            ],
            [
             0.5555555555555556,
             "#d8576b"
            ],
            [
             0.6666666666666666,
             "#ed7953"
            ],
            [
             0.7777777777777778,
             "#fb9f3a"
            ],
            [
             0.8888888888888888,
             "#fdca26"
            ],
            [
             1,
             "#f0f921"
            ]
           ],
           "sequentialminus": [
            [
             0,
             "#0d0887"
            ],
            [
             0.1111111111111111,
             "#46039f"
            ],
            [
             0.2222222222222222,
             "#7201a8"
            ],
            [
             0.3333333333333333,
             "#9c179e"
            ],
            [
             0.4444444444444444,
             "#bd3786"
            ],
            [
             0.5555555555555556,
             "#d8576b"
            ],
            [
             0.6666666666666666,
             "#ed7953"
            ],
            [
             0.7777777777777778,
             "#fb9f3a"
            ],
            [
             0.8888888888888888,
             "#fdca26"
            ],
            [
             1,
             "#f0f921"
            ]
           ]
          },
          "colorway": [
           "#636efa",
           "#EF553B",
           "#00cc96",
           "#ab63fa",
           "#FFA15A",
           "#19d3f3",
           "#FF6692",
           "#B6E880",
           "#FF97FF",
           "#FECB52"
          ],
          "font": {
           "color": "#2a3f5f"
          },
          "geo": {
           "bgcolor": "white",
           "lakecolor": "white",
           "landcolor": "#E5ECF6",
           "showlakes": true,
           "showland": true,
           "subunitcolor": "white"
          },
          "hoverlabel": {
           "align": "left"
          },
          "hovermode": "closest",
          "mapbox": {
           "style": "light"
          },
          "paper_bgcolor": "white",
          "plot_bgcolor": "#E5ECF6",
          "polar": {
           "angularaxis": {
            "gridcolor": "white",
            "linecolor": "white",
            "ticks": ""
           },
           "bgcolor": "#E5ECF6",
           "radialaxis": {
            "gridcolor": "white",
            "linecolor": "white",
            "ticks": ""
           }
          },
          "scene": {
           "xaxis": {
            "backgroundcolor": "#E5ECF6",
            "gridcolor": "white",
            "gridwidth": 2,
            "linecolor": "white",
            "showbackground": true,
            "ticks": "",
            "zerolinecolor": "white"
           },
           "yaxis": {
            "backgroundcolor": "#E5ECF6",
            "gridcolor": "white",
            "gridwidth": 2,
            "linecolor": "white",
            "showbackground": true,
            "ticks": "",
            "zerolinecolor": "white"
           },
           "zaxis": {
            "backgroundcolor": "#E5ECF6",
            "gridcolor": "white",
            "gridwidth": 2,
            "linecolor": "white",
            "showbackground": true,
            "ticks": "",
            "zerolinecolor": "white"
           }
          },
          "shapedefaults": {
           "line": {
            "color": "#2a3f5f"
           }
          },
          "ternary": {
           "aaxis": {
            "gridcolor": "white",
            "linecolor": "white",
            "ticks": ""
           },
           "baxis": {
            "gridcolor": "white",
            "linecolor": "white",
            "ticks": ""
           },
           "bgcolor": "#E5ECF6",
           "caxis": {
            "gridcolor": "white",
            "linecolor": "white",
            "ticks": ""
           }
          },
          "title": {
           "x": 0.05
          },
          "xaxis": {
           "automargin": true,
           "gridcolor": "white",
           "linecolor": "white",
           "ticks": "",
           "title": {
            "standoff": 15
           },
           "zerolinecolor": "white",
           "zerolinewidth": 2
          },
          "yaxis": {
           "automargin": true,
           "gridcolor": "white",
           "linecolor": "white",
           "ticks": "",
           "title": {
            "standoff": 15
           },
           "zerolinecolor": "white",
           "zerolinewidth": 2
          }
         }
        },
        "title": {
         "text": "Threshold for Convergence vs Train and Test RMSE (Learning Rate = 0.3)"
        },
        "xaxis": {
         "title": {
          "text": "Threshold"
         },
         "type": "log"
        },
        "yaxis": {
         "title": {
          "text": "RMSE"
         }
        }
       }
      },
      "text/html": [
       "<div>                            <div id=\"f7493dac-dcec-4acc-9be4-6bd304b94f5c\" class=\"plotly-graph-div\" style=\"height:525px; width:100%;\"></div>            <script type=\"text/javascript\">                require([\"plotly\"], function(Plotly) {                    window.PLOTLYENV=window.PLOTLYENV || {};                                    if (document.getElementById(\"f7493dac-dcec-4acc-9be4-6bd304b94f5c\")) {                    Plotly.newPlot(                        \"f7493dac-dcec-4acc-9be4-6bd304b94f5c\",                        [{\"mode\":\"lines+markers\",\"name\":\"Train RMSE\",\"x\":[10.0,1.0,0.1,0.01,0.001,0.0001,1e-05,1e-06,1e-07,1e-08,1e-09,1e-10],\"y\":[516.3867968284561,462.62483188929315,384.4364886425352,375.2613418820765,374.05421152699546,373.8957890800737,373.8767683805299,373.8745551080215,373.8739803518948,373.8738002198673,373.87378220240083,373.8737804001175],\"type\":\"scatter\"},{\"mode\":\"lines+markers\",\"name\":\"Test RMSE\",\"x\":[10.0,1.0,0.1,0.01,0.001,0.0001,1e-05,1e-06,1e-07,1e-08,1e-09,1e-10],\"y\":[514.6783084502083,457.27278709085454,376.4220579095099,367.2758869797179,366.23383857001,366.1611675023739,366.1650056479484,366.16897879798785,366.17426203344013,366.178287384465,366.1795969000658,366.18001503798416],\"type\":\"scatter\"}],                        {\"template\":{\"data\":{\"histogram2dcontour\":[{\"type\":\"histogram2dcontour\",\"colorbar\":{\"outlinewidth\":0,\"ticks\":\"\"},\"colorscale\":[[0.0,\"#0d0887\"],[0.1111111111111111,\"#46039f\"],[0.2222222222222222,\"#7201a8\"],[0.3333333333333333,\"#9c179e\"],[0.4444444444444444,\"#bd3786\"],[0.5555555555555556,\"#d8576b\"],[0.6666666666666666,\"#ed7953\"],[0.7777777777777778,\"#fb9f3a\"],[0.8888888888888888,\"#fdca26\"],[1.0,\"#f0f921\"]]}],\"choropleth\":[{\"type\":\"choropleth\",\"colorbar\":{\"outlinewidth\":0,\"ticks\":\"\"}}],\"histogram2d\":[{\"type\":\"histogram2d\",\"colorbar\":{\"outlinewidth\":0,\"ticks\":\"\"},\"colorscale\":[[0.0,\"#0d0887\"],[0.1111111111111111,\"#46039f\"],[0.2222222222222222,\"#7201a8\"],[0.3333333333333333,\"#9c179e\"],[0.4444444444444444,\"#bd3786\"],[0.5555555555555556,\"#d8576b\"],[0.6666666666666666,\"#ed7953\"],[0.7777777777777778,\"#fb9f3a\"],[0.8888888888888888,\"#fdca26\"],[1.0,\"#f0f921\"]]}],\"heatmap\":[{\"type\":\"heatmap\",\"colorbar\":{\"outlinewidth\":0,\"ticks\":\"\"},\"colorscale\":[[0.0,\"#0d0887\"],[0.1111111111111111,\"#46039f\"],[0.2222222222222222,\"#7201a8\"],[0.3333333333333333,\"#9c179e\"],[0.4444444444444444,\"#bd3786\"],[0.5555555555555556,\"#d8576b\"],[0.6666666666666666,\"#ed7953\"],[0.7777777777777778,\"#fb9f3a\"],[0.8888888888888888,\"#fdca26\"],[1.0,\"#f0f921\"]]}],\"heatmapgl\":[{\"type\":\"heatmapgl\",\"colorbar\":{\"outlinewidth\":0,\"ticks\":\"\"},\"colorscale\":[[0.0,\"#0d0887\"],[0.1111111111111111,\"#46039f\"],[0.2222222222222222,\"#7201a8\"],[0.3333333333333333,\"#9c179e\"],[0.4444444444444444,\"#bd3786\"],[0.5555555555555556,\"#d8576b\"],[0.6666666666666666,\"#ed7953\"],[0.7777777777777778,\"#fb9f3a\"],[0.8888888888888888,\"#fdca26\"],[1.0,\"#f0f921\"]]}],\"contourcarpet\":[{\"type\":\"contourcarpet\",\"colorbar\":{\"outlinewidth\":0,\"ticks\":\"\"}}],\"contour\":[{\"type\":\"contour\",\"colorbar\":{\"outlinewidth\":0,\"ticks\":\"\"},\"colorscale\":[[0.0,\"#0d0887\"],[0.1111111111111111,\"#46039f\"],[0.2222222222222222,\"#7201a8\"],[0.3333333333333333,\"#9c179e\"],[0.4444444444444444,\"#bd3786\"],[0.5555555555555556,\"#d8576b\"],[0.6666666666666666,\"#ed7953\"],[0.7777777777777778,\"#fb9f3a\"],[0.8888888888888888,\"#fdca26\"],[1.0,\"#f0f921\"]]}],\"surface\":[{\"type\":\"surface\",\"colorbar\":{\"outlinewidth\":0,\"ticks\":\"\"},\"colorscale\":[[0.0,\"#0d0887\"],[0.1111111111111111,\"#46039f\"],[0.2222222222222222,\"#7201a8\"],[0.3333333333333333,\"#9c179e\"],[0.4444444444444444,\"#bd3786\"],[0.5555555555555556,\"#d8576b\"],[0.6666666666666666,\"#ed7953\"],[0.7777777777777778,\"#fb9f3a\"],[0.8888888888888888,\"#fdca26\"],[1.0,\"#f0f921\"]]}],\"mesh3d\":[{\"type\":\"mesh3d\",\"colorbar\":{\"outlinewidth\":0,\"ticks\":\"\"}}],\"scatter\":[{\"fillpattern\":{\"fillmode\":\"overlay\",\"size\":10,\"solidity\":0.2},\"type\":\"scatter\"}],\"parcoords\":[{\"type\":\"parcoords\",\"line\":{\"colorbar\":{\"outlinewidth\":0,\"ticks\":\"\"}}}],\"scatterpolargl\":[{\"type\":\"scatterpolargl\",\"marker\":{\"colorbar\":{\"outlinewidth\":0,\"ticks\":\"\"}}}],\"bar\":[{\"error_x\":{\"color\":\"#2a3f5f\"},\"error_y\":{\"color\":\"#2a3f5f\"},\"marker\":{\"line\":{\"color\":\"#E5ECF6\",\"width\":0.5},\"pattern\":{\"fillmode\":\"overlay\",\"size\":10,\"solidity\":0.2}},\"type\":\"bar\"}],\"scattergeo\":[{\"type\":\"scattergeo\",\"marker\":{\"colorbar\":{\"outlinewidth\":0,\"ticks\":\"\"}}}],\"scatterpolar\":[{\"type\":\"scatterpolar\",\"marker\":{\"colorbar\":{\"outlinewidth\":0,\"ticks\":\"\"}}}],\"histogram\":[{\"marker\":{\"pattern\":{\"fillmode\":\"overlay\",\"size\":10,\"solidity\":0.2}},\"type\":\"histogram\"}],\"scattergl\":[{\"type\":\"scattergl\",\"marker\":{\"colorbar\":{\"outlinewidth\":0,\"ticks\":\"\"}}}],\"scatter3d\":[{\"type\":\"scatter3d\",\"line\":{\"colorbar\":{\"outlinewidth\":0,\"ticks\":\"\"}},\"marker\":{\"colorbar\":{\"outlinewidth\":0,\"ticks\":\"\"}}}],\"scattermapbox\":[{\"type\":\"scattermapbox\",\"marker\":{\"colorbar\":{\"outlinewidth\":0,\"ticks\":\"\"}}}],\"scatterternary\":[{\"type\":\"scatterternary\",\"marker\":{\"colorbar\":{\"outlinewidth\":0,\"ticks\":\"\"}}}],\"scattercarpet\":[{\"type\":\"scattercarpet\",\"marker\":{\"colorbar\":{\"outlinewidth\":0,\"ticks\":\"\"}}}],\"carpet\":[{\"aaxis\":{\"endlinecolor\":\"#2a3f5f\",\"gridcolor\":\"white\",\"linecolor\":\"white\",\"minorgridcolor\":\"white\",\"startlinecolor\":\"#2a3f5f\"},\"baxis\":{\"endlinecolor\":\"#2a3f5f\",\"gridcolor\":\"white\",\"linecolor\":\"white\",\"minorgridcolor\":\"white\",\"startlinecolor\":\"#2a3f5f\"},\"type\":\"carpet\"}],\"table\":[{\"cells\":{\"fill\":{\"color\":\"#EBF0F8\"},\"line\":{\"color\":\"white\"}},\"header\":{\"fill\":{\"color\":\"#C8D4E3\"},\"line\":{\"color\":\"white\"}},\"type\":\"table\"}],\"barpolar\":[{\"marker\":{\"line\":{\"color\":\"#E5ECF6\",\"width\":0.5},\"pattern\":{\"fillmode\":\"overlay\",\"size\":10,\"solidity\":0.2}},\"type\":\"barpolar\"}],\"pie\":[{\"automargin\":true,\"type\":\"pie\"}]},\"layout\":{\"autotypenumbers\":\"strict\",\"colorway\":[\"#636efa\",\"#EF553B\",\"#00cc96\",\"#ab63fa\",\"#FFA15A\",\"#19d3f3\",\"#FF6692\",\"#B6E880\",\"#FF97FF\",\"#FECB52\"],\"font\":{\"color\":\"#2a3f5f\"},\"hovermode\":\"closest\",\"hoverlabel\":{\"align\":\"left\"},\"paper_bgcolor\":\"white\",\"plot_bgcolor\":\"#E5ECF6\",\"polar\":{\"bgcolor\":\"#E5ECF6\",\"angularaxis\":{\"gridcolor\":\"white\",\"linecolor\":\"white\",\"ticks\":\"\"},\"radialaxis\":{\"gridcolor\":\"white\",\"linecolor\":\"white\",\"ticks\":\"\"}},\"ternary\":{\"bgcolor\":\"#E5ECF6\",\"aaxis\":{\"gridcolor\":\"white\",\"linecolor\":\"white\",\"ticks\":\"\"},\"baxis\":{\"gridcolor\":\"white\",\"linecolor\":\"white\",\"ticks\":\"\"},\"caxis\":{\"gridcolor\":\"white\",\"linecolor\":\"white\",\"ticks\":\"\"}},\"coloraxis\":{\"colorbar\":{\"outlinewidth\":0,\"ticks\":\"\"}},\"colorscale\":{\"sequential\":[[0.0,\"#0d0887\"],[0.1111111111111111,\"#46039f\"],[0.2222222222222222,\"#7201a8\"],[0.3333333333333333,\"#9c179e\"],[0.4444444444444444,\"#bd3786\"],[0.5555555555555556,\"#d8576b\"],[0.6666666666666666,\"#ed7953\"],[0.7777777777777778,\"#fb9f3a\"],[0.8888888888888888,\"#fdca26\"],[1.0,\"#f0f921\"]],\"sequentialminus\":[[0.0,\"#0d0887\"],[0.1111111111111111,\"#46039f\"],[0.2222222222222222,\"#7201a8\"],[0.3333333333333333,\"#9c179e\"],[0.4444444444444444,\"#bd3786\"],[0.5555555555555556,\"#d8576b\"],[0.6666666666666666,\"#ed7953\"],[0.7777777777777778,\"#fb9f3a\"],[0.8888888888888888,\"#fdca26\"],[1.0,\"#f0f921\"]],\"diverging\":[[0,\"#8e0152\"],[0.1,\"#c51b7d\"],[0.2,\"#de77ae\"],[0.3,\"#f1b6da\"],[0.4,\"#fde0ef\"],[0.5,\"#f7f7f7\"],[0.6,\"#e6f5d0\"],[0.7,\"#b8e186\"],[0.8,\"#7fbc41\"],[0.9,\"#4d9221\"],[1,\"#276419\"]]},\"xaxis\":{\"gridcolor\":\"white\",\"linecolor\":\"white\",\"ticks\":\"\",\"title\":{\"standoff\":15},\"zerolinecolor\":\"white\",\"automargin\":true,\"zerolinewidth\":2},\"yaxis\":{\"gridcolor\":\"white\",\"linecolor\":\"white\",\"ticks\":\"\",\"title\":{\"standoff\":15},\"zerolinecolor\":\"white\",\"automargin\":true,\"zerolinewidth\":2},\"scene\":{\"xaxis\":{\"backgroundcolor\":\"#E5ECF6\",\"gridcolor\":\"white\",\"linecolor\":\"white\",\"showbackground\":true,\"ticks\":\"\",\"zerolinecolor\":\"white\",\"gridwidth\":2},\"yaxis\":{\"backgroundcolor\":\"#E5ECF6\",\"gridcolor\":\"white\",\"linecolor\":\"white\",\"showbackground\":true,\"ticks\":\"\",\"zerolinecolor\":\"white\",\"gridwidth\":2},\"zaxis\":{\"backgroundcolor\":\"#E5ECF6\",\"gridcolor\":\"white\",\"linecolor\":\"white\",\"showbackground\":true,\"ticks\":\"\",\"zerolinecolor\":\"white\",\"gridwidth\":2}},\"shapedefaults\":{\"line\":{\"color\":\"#2a3f5f\"}},\"annotationdefaults\":{\"arrowcolor\":\"#2a3f5f\",\"arrowhead\":0,\"arrowwidth\":1},\"geo\":{\"bgcolor\":\"white\",\"landcolor\":\"#E5ECF6\",\"subunitcolor\":\"white\",\"showland\":true,\"showlakes\":true,\"lakecolor\":\"white\"},\"title\":{\"x\":0.05},\"mapbox\":{\"style\":\"light\"}}},\"xaxis\":{\"type\":\"log\",\"title\":{\"text\":\"Threshold\"}},\"title\":{\"text\":\"Threshold for Convergence vs Train and Test RMSE (Learning Rate = 0.3)\"},\"yaxis\":{\"title\":{\"text\":\"RMSE\"}},\"hovermode\":\"x unified\"},                        {\"responsive\": true}                    ).then(function(){\n",
       "                            \n",
       "var gd = document.getElementById('f7493dac-dcec-4acc-9be4-6bd304b94f5c');\n",
       "var x = new MutationObserver(function (mutations, observer) {{\n",
       "        var display = window.getComputedStyle(gd).display;\n",
       "        if (!display || display === 'none') {{\n",
       "            console.log([gd, 'removed!']);\n",
       "            Plotly.purge(gd);\n",
       "            observer.disconnect();\n",
       "        }}\n",
       "}});\n",
       "\n",
       "// Listen for the removal of the full notebook cells\n",
       "var notebookContainer = gd.closest('#notebook-container');\n",
       "if (notebookContainer) {{\n",
       "    x.observe(notebookContainer, {childList: true});\n",
       "}}\n",
       "\n",
       "// Listen for the clearing of the current output cell\n",
       "var outputEl = gd.closest('.output');\n",
       "if (outputEl) {{\n",
       "    x.observe(outputEl, {childList: true});\n",
       "}}\n",
       "\n",
       "                        })                };                });            </script>        </div>"
      ]
     },
     "metadata": {},
     "output_type": "display_data"
    }
   ],
   "source": [
    "fig = go.Figure()\n",
    "\n",
    "fig.add_trace(go.Scatter(x = df_lin_thresh_errors['threshold'], y = df_lin_thresh_errors['train_rmse'], \n",
    "                         mode = 'lines+markers', name = 'Train RMSE'))\n",
    "fig.add_trace(go.Scatter(x = df_lin_thresh_errors['threshold'], y = df_lin_thresh_errors['test_rmse'], \n",
    "                         mode = 'lines+markers', name = 'Test RMSE'))\n",
    "fig.update_xaxes(type = 'log')\n",
    "fig.update_layout(title = 'Threshold for Convergence vs Train and Test RMSE (Learning Rate = 0.3)', \n",
    "                  xaxis_title = 'Threshold', yaxis_title = 'RMSE',\n",
    "                  hovermode = 'x unified')\n",
    "\n",
    "fig.show()"
   ]
  },
  {
   "cell_type": "code",
   "execution_count": 55,
   "id": "25daf850",
   "metadata": {},
   "outputs": [
    {
     "data": {
      "text/html": [
       "<div>\n",
       "<style scoped>\n",
       "    .dataframe tbody tr th:only-of-type {\n",
       "        vertical-align: middle;\n",
       "    }\n",
       "\n",
       "    .dataframe tbody tr th {\n",
       "        vertical-align: top;\n",
       "    }\n",
       "\n",
       "    .dataframe thead th {\n",
       "        text-align: right;\n",
       "    }\n",
       "</style>\n",
       "<table border=\"1\" class=\"dataframe\">\n",
       "  <thead>\n",
       "    <tr style=\"text-align: right;\">\n",
       "      <th></th>\n",
       "      <th>iteration</th>\n",
       "      <th>train_rmse</th>\n",
       "      <th>test_rmse</th>\n",
       "    </tr>\n",
       "  </thead>\n",
       "  <tbody>\n",
       "    <tr>\n",
       "      <th>0</th>\n",
       "      <td>0</td>\n",
       "      <td>971.413869</td>\n",
       "      <td>972.428043</td>\n",
       "    </tr>\n",
       "    <tr>\n",
       "      <th>1</th>\n",
       "      <td>1</td>\n",
       "      <td>702.885724</td>\n",
       "      <td>704.200329</td>\n",
       "    </tr>\n",
       "    <tr>\n",
       "      <th>2</th>\n",
       "      <td>2</td>\n",
       "      <td>586.607775</td>\n",
       "      <td>587.057298</td>\n",
       "    </tr>\n",
       "    <tr>\n",
       "      <th>3</th>\n",
       "      <td>3</td>\n",
       "      <td>537.883314</td>\n",
       "      <td>537.169014</td>\n",
       "    </tr>\n",
       "    <tr>\n",
       "      <th>4</th>\n",
       "      <td>4</td>\n",
       "      <td>516.386797</td>\n",
       "      <td>514.678308</td>\n",
       "    </tr>\n",
       "    <tr>\n",
       "      <th>...</th>\n",
       "      <td>...</td>\n",
       "      <td>...</td>\n",
       "      <td>...</td>\n",
       "    </tr>\n",
       "    <tr>\n",
       "      <th>655</th>\n",
       "      <td>655</td>\n",
       "      <td>373.896541</td>\n",
       "      <td>366.161219</td>\n",
       "    </tr>\n",
       "    <tr>\n",
       "      <th>656</th>\n",
       "      <td>656</td>\n",
       "      <td>373.896350</td>\n",
       "      <td>366.161206</td>\n",
       "    </tr>\n",
       "    <tr>\n",
       "      <th>657</th>\n",
       "      <td>657</td>\n",
       "      <td>373.896162</td>\n",
       "      <td>366.161192</td>\n",
       "    </tr>\n",
       "    <tr>\n",
       "      <th>658</th>\n",
       "      <td>658</td>\n",
       "      <td>373.895974</td>\n",
       "      <td>366.161180</td>\n",
       "    </tr>\n",
       "    <tr>\n",
       "      <th>659</th>\n",
       "      <td>659</td>\n",
       "      <td>373.895789</td>\n",
       "      <td>366.161168</td>\n",
       "    </tr>\n",
       "  </tbody>\n",
       "</table>\n",
       "<p>660 rows × 3 columns</p>\n",
       "</div>"
      ],
      "text/plain": [
       "     iteration  train_rmse   test_rmse\n",
       "0            0  971.413869  972.428043\n",
       "1            1  702.885724  704.200329\n",
       "2            2  586.607775  587.057298\n",
       "3            3  537.883314  537.169014\n",
       "4            4  516.386797  514.678308\n",
       "..         ...         ...         ...\n",
       "655        655  373.896541  366.161219\n",
       "656        656  373.896350  366.161206\n",
       "657        657  373.896162  366.161192\n",
       "658        658  373.895974  366.161180\n",
       "659        659  373.895789  366.161168\n",
       "\n",
       "[660 rows x 3 columns]"
      ]
     },
     "execution_count": 55,
     "metadata": {},
     "output_type": "execute_result"
    }
   ],
   "source": [
    "#Train and Test RMSE at various Iterations for selected Learning Rate and Threshold for Convergence\n",
    "\n",
    "alpha = 3e-1\n",
    "threshold = 1e-4\n",
    "\n",
    "theta = np.zeros((Xf_train.shape[1], 1), dtype = float)\n",
    "J_theta = gradientDescentLinear(Xf_train.values, y_train.values, theta, alpha, threshold)\n",
    "\n",
    "lin_select_theta = J_theta[-1]['theta']\n",
    "\n",
    "lin_param_errors = []\n",
    "for i in J_theta:\n",
    "    lin_param_error = {}\n",
    "    lin_param_error['iteration'] = i['iter']\n",
    "    lin_param_error['train_rmse'] = rmse(np.dot(Xf_train.values, i['theta']), y_train.values)\n",
    "    lin_param_error['test_rmse'] = rmse(np.dot(Xf_test.values, i['theta']), y_test.values)\n",
    "    lin_param_errors.append(lin_param_error)\n",
    "    \n",
    "df_lin_param_errors = pd.DataFrame(lin_param_errors)\n",
    "df_lin_param_errors"
   ]
  },
  {
   "cell_type": "code",
   "execution_count": 56,
   "id": "32c7b1f0",
   "metadata": {},
   "outputs": [
    {
     "data": {
      "application/vnd.plotly.v1+json": {
       "config": {
        "plotlyServerURL": "https://plot.ly"
       },
       "data": [
        {
         "mode": "lines+markers",
         "name": "Train RMSE",
         "type": "scatter",
         "x": [
          0,
          1,
          2,
          3,
          4,
          5,
          6,
          7,
          8,
          9,
          10,
          11,
          12,
          13,
          14,
          15,
          16,
          17,
          18,
          19,
          20,
          21,
          22,
          23,
          24,
          25,
          26,
          27,
          28,
          29,
          30,
          31,
          32,
          33,
          34,
          35,
          36,
          37,
          38,
          39,
          40,
          41,
          42,
          43,
          44,
          45,
          46,
          47,
          48,
          49,
          50,
          51,
          52,
          53,
          54,
          55,
          56,
          57,
          58,
          59,
          60,
          61,
          62,
          63,
          64,
          65,
          66,
          67,
          68,
          69,
          70,
          71,
          72,
          73,
          74,
          75,
          76,
          77,
          78,
          79,
          80,
          81,
          82,
          83,
          84,
          85,
          86,
          87,
          88,
          89,
          90,
          91,
          92,
          93,
          94,
          95,
          96,
          97,
          98,
          99,
          100,
          101,
          102,
          103,
          104,
          105,
          106,
          107,
          108,
          109,
          110,
          111,
          112,
          113,
          114,
          115,
          116,
          117,
          118,
          119,
          120,
          121,
          122,
          123,
          124,
          125,
          126,
          127,
          128,
          129,
          130,
          131,
          132,
          133,
          134,
          135,
          136,
          137,
          138,
          139,
          140,
          141,
          142,
          143,
          144,
          145,
          146,
          147,
          148,
          149,
          150,
          151,
          152,
          153,
          154,
          155,
          156,
          157,
          158,
          159,
          160,
          161,
          162,
          163,
          164,
          165,
          166,
          167,
          168,
          169,
          170,
          171,
          172,
          173,
          174,
          175,
          176,
          177,
          178,
          179,
          180,
          181,
          182,
          183,
          184,
          185,
          186,
          187,
          188,
          189,
          190,
          191,
          192,
          193,
          194,
          195,
          196,
          197,
          198,
          199,
          200,
          201,
          202,
          203,
          204,
          205,
          206,
          207,
          208,
          209,
          210,
          211,
          212,
          213,
          214,
          215,
          216,
          217,
          218,
          219,
          220,
          221,
          222,
          223,
          224,
          225,
          226,
          227,
          228,
          229,
          230,
          231,
          232,
          233,
          234,
          235,
          236,
          237,
          238,
          239,
          240,
          241,
          242,
          243,
          244,
          245,
          246,
          247,
          248,
          249,
          250,
          251,
          252,
          253,
          254,
          255,
          256,
          257,
          258,
          259,
          260,
          261,
          262,
          263,
          264,
          265,
          266,
          267,
          268,
          269,
          270,
          271,
          272,
          273,
          274,
          275,
          276,
          277,
          278,
          279,
          280,
          281,
          282,
          283,
          284,
          285,
          286,
          287,
          288,
          289,
          290,
          291,
          292,
          293,
          294,
          295,
          296,
          297,
          298,
          299,
          300,
          301,
          302,
          303,
          304,
          305,
          306,
          307,
          308,
          309,
          310,
          311,
          312,
          313,
          314,
          315,
          316,
          317,
          318,
          319,
          320,
          321,
          322,
          323,
          324,
          325,
          326,
          327,
          328,
          329,
          330,
          331,
          332,
          333,
          334,
          335,
          336,
          337,
          338,
          339,
          340,
          341,
          342,
          343,
          344,
          345,
          346,
          347,
          348,
          349,
          350,
          351,
          352,
          353,
          354,
          355,
          356,
          357,
          358,
          359,
          360,
          361,
          362,
          363,
          364,
          365,
          366,
          367,
          368,
          369,
          370,
          371,
          372,
          373,
          374,
          375,
          376,
          377,
          378,
          379,
          380,
          381,
          382,
          383,
          384,
          385,
          386,
          387,
          388,
          389,
          390,
          391,
          392,
          393,
          394,
          395,
          396,
          397,
          398,
          399,
          400,
          401,
          402,
          403,
          404,
          405,
          406,
          407,
          408,
          409,
          410,
          411,
          412,
          413,
          414,
          415,
          416,
          417,
          418,
          419,
          420,
          421,
          422,
          423,
          424,
          425,
          426,
          427,
          428,
          429,
          430,
          431,
          432,
          433,
          434,
          435,
          436,
          437,
          438,
          439,
          440,
          441,
          442,
          443,
          444,
          445,
          446,
          447,
          448,
          449,
          450,
          451,
          452,
          453,
          454,
          455,
          456,
          457,
          458,
          459,
          460,
          461,
          462,
          463,
          464,
          465,
          466,
          467,
          468,
          469,
          470,
          471,
          472,
          473,
          474,
          475,
          476,
          477,
          478,
          479,
          480,
          481,
          482,
          483,
          484,
          485,
          486,
          487,
          488,
          489,
          490,
          491,
          492,
          493,
          494,
          495,
          496,
          497,
          498,
          499,
          500,
          501,
          502,
          503,
          504,
          505,
          506,
          507,
          508,
          509,
          510,
          511,
          512,
          513,
          514,
          515,
          516,
          517,
          518,
          519,
          520,
          521,
          522,
          523,
          524,
          525,
          526,
          527,
          528,
          529,
          530,
          531,
          532,
          533,
          534,
          535,
          536,
          537,
          538,
          539,
          540,
          541,
          542,
          543,
          544,
          545,
          546,
          547,
          548,
          549,
          550,
          551,
          552,
          553,
          554,
          555,
          556,
          557,
          558,
          559,
          560,
          561,
          562,
          563,
          564,
          565,
          566,
          567,
          568,
          569,
          570,
          571,
          572,
          573,
          574,
          575,
          576,
          577,
          578,
          579,
          580,
          581,
          582,
          583,
          584,
          585,
          586,
          587,
          588,
          589,
          590,
          591,
          592,
          593,
          594,
          595,
          596,
          597,
          598,
          599,
          600,
          601,
          602,
          603,
          604,
          605,
          606,
          607,
          608,
          609,
          610,
          611,
          612,
          613,
          614,
          615,
          616,
          617,
          618,
          619,
          620,
          621,
          622,
          623,
          624,
          625,
          626,
          627,
          628,
          629,
          630,
          631,
          632,
          633,
          634,
          635,
          636,
          637,
          638,
          639,
          640,
          641,
          642,
          643,
          644,
          645,
          646,
          647,
          648,
          649,
          650,
          651,
          652,
          653,
          654,
          655,
          656,
          657,
          658,
          659
         ],
         "y": [
          971.4138689694469,
          702.8857239522152,
          586.6077754832866,
          537.883313732928,
          516.3867968284561,
          505.36325158603574,
          498.4411872094462,
          493.26097494711377,
          488.933009378438,
          485.1023071412653,
          481.6123058094766,
          478.38356821893007,
          475.36905138013157,
          472.53692034028865,
          469.8635017164976,
          467.33011653488035,
          464.9214865109067,
          462.62483188929315,
          460.42930443329647,
          458.3256004668271,
          456.30568025533285,
          454.36255531495135,
          452.49012187181216,
          450.6830272224833,
          448.9365604693411,
          447.2465618903393,
          445.60934692933336,
          444.0216419062371,
          442.48052928775195,
          440.98340086795633,
          439.52791756659695,
          438.1119748125736,
          436.73367267307134,
          435.3912900357928,
          434.0832622663089,
          432.808161853694,
          431.56468163142716,
          430.35162022122563,
          429.16786939798396,
          428.0124031164432,
          426.884267976172,
          425.78257493208537,
          424.7064920839525,
          423.65523840087627,
          422.6280782561264,
          421.624316664448,
          420.6432951284229,
          419.6843880129719,
          418.74699937789825,
          417.8305602077478,
          416.9345259863702,
          416.05837457059147,
          415.2016043235,
          414.3637324731168,
          413.5442936667941,
          412.7428386956429,
          411.9589333667194,
          411.1921575036721,
          410.442104059124,
          409.70837832429635,
          408.9905972233076,
          408.2883886812581,
          407.6013910566588,
          406.92925263001644,
          406.27163114147606,
          405.62819337136494,
          404.9986147582938,
          404.3825790501825,
          403.77977798418704,
          403.18991099203464,
          402.6126849277356,
          402.0478138150363,
          401.4950186123246,
          400.95402699299575,
          400.4245731395486,
          399.90639754990485,
          399.3992468546384,
          398.9028736439723,
          398.41703630354573,
          397.9414988580805,
          397.4760308221892,
          397.02040705765734,
          396.5744076366206,
          396.1378177101266,
          395.71042738163436,
          395.2920315850585,
          394.882429967013,
          394.48142677294925,
          394.0888307369198,
          393.7044549747302,
          393.3281168802662,
          392.9596380248109,
          392.5988440591826,
          392.2455646185454,
          391.89963322975746,
          391.5608872211375,
          391.22916763454015,
          390.9043191396427,
          390.5861899503532,
          390.2746317432589,
          389.9694995780411,
          389.67065181978694,
          389.37795006313627,
          389.0912590582043,
          388.8104466382264,
          388.53538364887413,
          388.26594387919556,
          388.0020039941341,
          387.74344346858607,
          387.49014452295467,
          387.24199206016453,
          386.9988736040998,
          386.76067923943197,
          386.52730155280403,
          386.2986355753396,
          386.0745787264469,
          385.8550307588871,
          385.63989370508045,
          385.42907182462017,
          385.22247155297043,
          385.02000145131996,
          384.82157215756735,
          384.6270963384131,
          384.4364886425352,
          384.24966565482373,
          384.0665458516526,
          383.8870495571656,
          383.71109890055584,
          383.53861777431615,
          383.3695317934403,
          383.20376825555434,
          383.041256101959,
          382.88192587956144,
          382.7257097036796,
          382.5725412216986,
          382.4223555775617,
          382.2750893770772,
          382.13068065402393,
          381.9890688370378,
          381.8501947172619,
          381.7140004167446,
          381.580429357568,
          381.44942623169135,
          381.3209369714936,
          381.19490872099954,
          381.0712898077741,
          380.950029715471,
          380.83107905701956,
          380.71438954843654,
          380.59991398324945,
          380.4876062075159,
          380.3774210954272,
          380.26931452548223,
          380.16324335721873,
          380.05916540849023,
          379.95703943327436,
          379.8568251000024,
          379.7584829703974,
          379.6619744788085,
          379.5672619120314,
          379.4743083896034,
          379.3830778445605,
          379.2935350046495,
          379.2056453739801,
          379.1193752151103,
          379.03469153155413,
          378.95156205070043,
          378.8699552071353,
          378.7898401263575,
          378.71118660887754,
          378.63396511469233,
          378.5581467481263,
          378.4837032430296,
          378.4106069483259,
          378.3388308139017,
          378.26834837682827,
          378.19913374790883,
          378.13116159854354,
          378.0644071479044,
          377.99884615041276,
          377.93445488351284,
          377.8712101357331,
          377.80908919502986,
          377.74806983740604,
          377.6881303157976,
          377.6292493492232,
          377.57140611218875,
          377.5145802243423,
          377.4587517403726,
          377.4039011401456,
          377.3500093190733,
          377.29705757870977,
          377.2450276175676,
          377.1939015221516,
          377.1436617582023,
          377.0942911621463,
          377.045772932747,
          376.9980906229512,
          376.951228131928,
          376.90516969729384,
          376.8598998875199,
          376.81540359451805,
          376.7716660264003,
          376.728672700407,
          376.68640943600235,
          376.6448623481294,
          376.60401784062424,
          376.56386259978336,
          376.5243835880814,
          376.48556803803524,
          376.44740344621175,
          376.4098775673744,
          376.3729784087668,
          376.33669422452914,
          376.3010135102441,
          376.26592499760983,
          376.2314176492366,
          376.1974806535641,
          376.1641034198968,
          376.13127557355335,
          376.0989869511301,
          376.0672275958721,
          376.0359877531527,
          376.0052578660564,
          375.97502857106446,
          375.94529069383924,
          375.91603524510606,
          375.8872534166297,
          375.8589365772835,
          375.8310762692086,
          375.8036642040612,
          375.77669225934613,
          375.75015247483435,
          375.7240370490625,
          375.6983383359118,
          375.6730488412663,
          375.6481612197462,
          375.6236682715165,
          375.5995629391677,
          375.57583830466774,
          375.5524875863836,
          375.5295041361695,
          375.50688143652235,
          375.48461309780055,
          375.46269285550665,
          375.4411145676307,
          375.4198722120545,
          375.398959884013,
          375.37837179361446,
          375.3581022634158,
          375.3381457260517,
          375.31849672191856,
          375.2991498969089,
          375.2801000001974,
          375.2613418820765,
          375.24287049184,
          375.224680875714,
          375.2067681748345,
          375.1891276232693,
          375.17175454608497,
          375.15464435745525,
          375.1377925588133,
          375.1211947370436,
          375.1048465627143,
          375.0887437883487,
          375.0728822467354,
          375.0572578492748,
          375.0418665843628,
          375.02670451581,
          375.0117677812954,
          374.9970525908542,
          374.9825552253991,
          374.9682720352731,
          374.95419943883553,
          374.94033392107724,
          374.9266720322672,
          374.9132103866284,
          374.89994566104195,
          374.8868745937805,
          374.8739939832681,
          374.8613006868677,
          374.8487916196944,
          374.8364637534548,
          374.82431411531115,
          374.81233978677017,
          374.80053790259575,
          374.7889056497452,
          374.77744026632826,
          374.76613904058803,
          374.7549993099049,
          374.74401845982067,
          374.73319392308383,
          374.7225231787157,
          374.7120037510962,
          374.70163320906863,
          374.6914091650644,
          374.68132927424557,
          374.67139123366593,
          374.66159278144994,
          374.6519316959888,
          374.6424057951537,
          374.6330129355255,
          374.6237510116408,
          374.61461795525395,
          374.6056117346137,
          374.59673035375715,
          374.5879718518156,
          374.57933430233743,
          374.5708158126236,
          374.56241452307785,
          374.55412860657003,
          374.5459562678127,
          374.5378957427509,
          374.5299452979643,
          374.52210323008194,
          374.51436786520924,
          374.5067375583663,
          374.49921069293833,
          374.4917856801372,
          374.4844609584738,
          374.47723499324206,
          374.4701062760125,
          374.4630733241367,
          374.45613468026227,
          374.44928891185685,
          374.4425346107426,
          374.43587039263974,
          374.4292948967194,
          374.422806785166,
          374.4164047427477,
          374.4100874763965,
          374.4038537147957,
          374.39770220797675,
          374.39163172692406,
          374.3856410631868,
          374.37972902849987,
          374.3738944544113,
          374.3681361919178,
          374.3624531111079,
          374.3568441008109,
          374.3513080682545,
          374.3458439387279,
          374.3404506552523,
          374.3351271782579,
          374.32987248526706,
          374.3246855705838,
          374.3195654449898,
          374.3145111354456,
          374.30952168479894,
          374.3045961514973,
          374.29973360930745,
          374.2949331470398,
          374.2901938682779,
          374.2855148911147,
          374.2808953478915,
          374.27633438494445,
          374.27183116235443,
          374.2673848537026,
          374.26299464583,
          374.2586597386026,
          374.2543793446802,
          374.2501526892903,
          374.2459790100061,
          374.2418575565287,
          374.2377875904737,
          374.23376838516197,
          374.22979922541373,
          374.2258794073479,
          374.2220082381839,
          374.218185036048,
          374.2144091297833,
          374.2106798587633,
          374.2069965727086,
          374.2033586315077,
          374.1997654050411,
          374.1962162730082,
          374.19271062475775,
          374.18924785912213,
          374.1858273842536,
          374.1824486174647,
          374.17911098507057,
          374.17581392223565,
          374.17255687282176,
          374.1693392892398,
          374.1661606323046,
          374.1630203710912,
          374.1599179827952,
          374.15685295259505,
          374.1538247735164,
          374.1508329463002,
          374.1478769792722,
          374.14495638821506,
          374.14207069624314,
          374.13921943367967,
          374.13640213793525,
          374.1336183533899,
          374.1308676312765,
          374.1281495295659,
          374.12546361285564,
          374.12280945225916,
          374.12018662529755,
          374.11759471579404,
          374.11503331376883,
          374.1125020153376,
          374.1100004226102,
          374.1075281435925,
          374.1050847920893,
          374.1026699876091,
          374.10028335527056,
          374.0979245257109,
          374.09559313499557,
          374.0932888245301,
          374.09101124097253,
          374.08876003614864,
          374.0865348669676,
          374.08433539534013,
          374.0821612880968,
          374.0800122169095,
          374.0778878582125,
          374.0757878931264,
          374.07371200738237,
          374.07165989124854,
          374.06963123945695,
          374.06762575113214,
          374.06564312972137,
          374.06368308292514,
          374.06174532263,
          374.05982956484144,
          374.0579355296191,
          374.056062941012,
          374.05421152699546,
          374.05238101940967,
          374.0505711538979,
          374.0487816698473,
          374.0470123103294,
          374.0452628220428,
          374.0435329552559,
          374.04182246375143,
          374.04013110477115,
          374.0384586389621,
          374.0368048303235,
          374.03516944615467,
          374.0335522570037,
          374.0319530366168,
          374.0303715618895,
          374.0288076128174,
          374.0272609724483,
          374.02573142683553,
          374.02421876499136,
          374.02272277884185,
          374.0212432631818,
          374.0197800156312,
          374.0183328365917,
          374.01690152920423,
          374.0154858993074,
          374.01408575539625,
          374.01270090858196,
          374.01133117255205,
          374.0099763635315,
          374.00863630024435,
          374.0073108038756,
          374.00599969803466,
          374.00470280871843,
          374.00341996427545,
          374.0021509953707,
          374.00089573495086,
          373.99965401821004,
          373.9984256825563,
          373.99721056757863,
          373.99600851501424,
          373.9948193687169,
          373.9936429746253,
          373.992479180732,
          373.9913278370534,
          373.99018879559947,
          373.9890619103444,
          373.98794703719767,
          373.9868440339755,
          373.98575276037286,
          373.9846730779358,
          373.98360485003457,
          373.98254794183663,
          373.98150222028045,
          373.98046755404977,
          373.979443813548,
          373.9784308708736,
          373.9774285997948,
          373.9764368757259,
          373.97545557570317,
          373.9744845783617,
          373.9735237639117,
          373.97257301411673,
          373.9716322122701,
          373.970701243174,
          373.9697799931172,
          373.968868349854,
          373.96796620258294,
          373.96707344192674,
          373.9661899599112,
          373.96531564994586,
          373.96445040680396,
          373.9635941266031,
          373.9627467067863,
          373.96190804610285,
          373.96107804459047,
          373.96025660355645,
          373.95944362556,
          373.958639014395,
          373.95784267507156,
          373.95705451380024,
          373.95627443797423,
          373.9555023561534,
          373.95473817804736,
          373.9539818145,
          373.95323317747346,
          373.95249218003244,
          373.9517587363288,
          373.9510327615869,
          373.950314172088,
          373.9496028851565,
          373.9488988191446,
          373.948201893419,
          373.9475120283462,
          373.94682914527914,
          373.9461531665433,
          373.9454840154237,
          373.9448216161515,
          373.9441658938912,
          373.9435167747277,
          373.942874185654,
          373.9422380545584,
          373.9416083102127,
          373.94098488226007,
          373.9403677012031,
          373.9397566983923,
          373.9391518060144,
          373.9385529570815,
          373.9379600854194,
          373.9373731256566,
          373.9367920132144,
          373.9362166842949,
          373.9356470758716,
          373.9350831256785,
          373.9345247722,
          373.9339719546611,
          373.9334246130172,
          373.93288268794447,
          373.9323461208304,
          373.9318148537641,
          373.9312888295271,
          373.9307679915843,
          373.9302522840745,
          373.92974165180215,
          373.9292360402279,
          373.92873539546025,
          373.92823966424703,
          373.927748793967,
          373.92726273262133,
          373.9267814288258,
          373.9263048318025,
          373.92583289137195,
          373.9253655579452,
          373.9249027825163,
          373.9244445166548,
          373.9239907124976,
          373.9235413227425,
          373.92309630064034,
          373.9226555999879,
          373.9222191751209,
          373.92178698090726,
          373.9213589727396,
          373.9209351065293,
          373.92051533869915,
          373.9200996261772,
          373.9196879263899,
          373.91928019725606,
          373.9188763971804,
          373.9184764850473,
          373.91808042021466,
          373.917688162508,
          373.9172996722144,
          373.9169149100766,
          373.9165338372874,
          373.91615641548344,
          373.9157826067405,
          373.9154123735668,
          373.91504567889865,
          373.91468248609414,
          373.9143227589284,
          373.913966461588,
          373.9136135586662,
          373.9132640151573,
          373.9129177964521,
          373.9125748683326,
          373.9122351969673,
          373.9118987489062,
          373.91156549107626,
          373.91123539077665,
          373.910908415674,
          373.9105845337978,
          373.9102637135361,
          373.90994592363097,
          373.9096311331742,
          373.90931931160264,
          373.90901042869456,
          373.9087044545646,
          373.9084013596606,
          373.9081011147587,
          373.90780369095967,
          373.907509059685,
          373.90721719267265,
          373.9069280619735,
          373.90664163994734,
          373.90635789925926,
          373.90607681287577,
          373.9057983540611,
          373.905522496374,
          373.90524921366335,
          373.90497848006555,
          373.9047102700004,
          373.904444558168,
          373.90418131954516,
          373.9039205293823,
          373.9036621631998,
          373.90340619678517,
          373.90315260618956,
          373.9029013677247,
          373.9026524579597,
          373.9024058537179,
          373.9021615320742,
          373.9019194703516,
          373.90167964611857,
          373.90144203718586,
          373.9012066216039,
          373.90097337765957,
          373.900742283874,
          373.9005133189991,
          373.90028646201523,
          373.9000616921285,
          373.8998389887679,
          373.8996183315829,
          373.89939970044054,
          373.8991830754235,
          373.8989684368266,
          373.8987557651553,
          373.89854504112236,
          373.89833624564625,
          373.8981293598481,
          373.89792436504945,
          373.89772124277033,
          373.8975199747263,
          373.8973205428268,
          373.89712292917227,
          373.89692711605267,
          373.89673308594456,
          373.8965408215094,
          373.89635030559117,
          373.8961615212144,
          373.8959744515821,
          373.8957890800737
         ]
        },
        {
         "mode": "lines+markers",
         "name": "Test RMSE",
         "type": "scatter",
         "x": [
          0,
          1,
          2,
          3,
          4,
          5,
          6,
          7,
          8,
          9,
          10,
          11,
          12,
          13,
          14,
          15,
          16,
          17,
          18,
          19,
          20,
          21,
          22,
          23,
          24,
          25,
          26,
          27,
          28,
          29,
          30,
          31,
          32,
          33,
          34,
          35,
          36,
          37,
          38,
          39,
          40,
          41,
          42,
          43,
          44,
          45,
          46,
          47,
          48,
          49,
          50,
          51,
          52,
          53,
          54,
          55,
          56,
          57,
          58,
          59,
          60,
          61,
          62,
          63,
          64,
          65,
          66,
          67,
          68,
          69,
          70,
          71,
          72,
          73,
          74,
          75,
          76,
          77,
          78,
          79,
          80,
          81,
          82,
          83,
          84,
          85,
          86,
          87,
          88,
          89,
          90,
          91,
          92,
          93,
          94,
          95,
          96,
          97,
          98,
          99,
          100,
          101,
          102,
          103,
          104,
          105,
          106,
          107,
          108,
          109,
          110,
          111,
          112,
          113,
          114,
          115,
          116,
          117,
          118,
          119,
          120,
          121,
          122,
          123,
          124,
          125,
          126,
          127,
          128,
          129,
          130,
          131,
          132,
          133,
          134,
          135,
          136,
          137,
          138,
          139,
          140,
          141,
          142,
          143,
          144,
          145,
          146,
          147,
          148,
          149,
          150,
          151,
          152,
          153,
          154,
          155,
          156,
          157,
          158,
          159,
          160,
          161,
          162,
          163,
          164,
          165,
          166,
          167,
          168,
          169,
          170,
          171,
          172,
          173,
          174,
          175,
          176,
          177,
          178,
          179,
          180,
          181,
          182,
          183,
          184,
          185,
          186,
          187,
          188,
          189,
          190,
          191,
          192,
          193,
          194,
          195,
          196,
          197,
          198,
          199,
          200,
          201,
          202,
          203,
          204,
          205,
          206,
          207,
          208,
          209,
          210,
          211,
          212,
          213,
          214,
          215,
          216,
          217,
          218,
          219,
          220,
          221,
          222,
          223,
          224,
          225,
          226,
          227,
          228,
          229,
          230,
          231,
          232,
          233,
          234,
          235,
          236,
          237,
          238,
          239,
          240,
          241,
          242,
          243,
          244,
          245,
          246,
          247,
          248,
          249,
          250,
          251,
          252,
          253,
          254,
          255,
          256,
          257,
          258,
          259,
          260,
          261,
          262,
          263,
          264,
          265,
          266,
          267,
          268,
          269,
          270,
          271,
          272,
          273,
          274,
          275,
          276,
          277,
          278,
          279,
          280,
          281,
          282,
          283,
          284,
          285,
          286,
          287,
          288,
          289,
          290,
          291,
          292,
          293,
          294,
          295,
          296,
          297,
          298,
          299,
          300,
          301,
          302,
          303,
          304,
          305,
          306,
          307,
          308,
          309,
          310,
          311,
          312,
          313,
          314,
          315,
          316,
          317,
          318,
          319,
          320,
          321,
          322,
          323,
          324,
          325,
          326,
          327,
          328,
          329,
          330,
          331,
          332,
          333,
          334,
          335,
          336,
          337,
          338,
          339,
          340,
          341,
          342,
          343,
          344,
          345,
          346,
          347,
          348,
          349,
          350,
          351,
          352,
          353,
          354,
          355,
          356,
          357,
          358,
          359,
          360,
          361,
          362,
          363,
          364,
          365,
          366,
          367,
          368,
          369,
          370,
          371,
          372,
          373,
          374,
          375,
          376,
          377,
          378,
          379,
          380,
          381,
          382,
          383,
          384,
          385,
          386,
          387,
          388,
          389,
          390,
          391,
          392,
          393,
          394,
          395,
          396,
          397,
          398,
          399,
          400,
          401,
          402,
          403,
          404,
          405,
          406,
          407,
          408,
          409,
          410,
          411,
          412,
          413,
          414,
          415,
          416,
          417,
          418,
          419,
          420,
          421,
          422,
          423,
          424,
          425,
          426,
          427,
          428,
          429,
          430,
          431,
          432,
          433,
          434,
          435,
          436,
          437,
          438,
          439,
          440,
          441,
          442,
          443,
          444,
          445,
          446,
          447,
          448,
          449,
          450,
          451,
          452,
          453,
          454,
          455,
          456,
          457,
          458,
          459,
          460,
          461,
          462,
          463,
          464,
          465,
          466,
          467,
          468,
          469,
          470,
          471,
          472,
          473,
          474,
          475,
          476,
          477,
          478,
          479,
          480,
          481,
          482,
          483,
          484,
          485,
          486,
          487,
          488,
          489,
          490,
          491,
          492,
          493,
          494,
          495,
          496,
          497,
          498,
          499,
          500,
          501,
          502,
          503,
          504,
          505,
          506,
          507,
          508,
          509,
          510,
          511,
          512,
          513,
          514,
          515,
          516,
          517,
          518,
          519,
          520,
          521,
          522,
          523,
          524,
          525,
          526,
          527,
          528,
          529,
          530,
          531,
          532,
          533,
          534,
          535,
          536,
          537,
          538,
          539,
          540,
          541,
          542,
          543,
          544,
          545,
          546,
          547,
          548,
          549,
          550,
          551,
          552,
          553,
          554,
          555,
          556,
          557,
          558,
          559,
          560,
          561,
          562,
          563,
          564,
          565,
          566,
          567,
          568,
          569,
          570,
          571,
          572,
          573,
          574,
          575,
          576,
          577,
          578,
          579,
          580,
          581,
          582,
          583,
          584,
          585,
          586,
          587,
          588,
          589,
          590,
          591,
          592,
          593,
          594,
          595,
          596,
          597,
          598,
          599,
          600,
          601,
          602,
          603,
          604,
          605,
          606,
          607,
          608,
          609,
          610,
          611,
          612,
          613,
          614,
          615,
          616,
          617,
          618,
          619,
          620,
          621,
          622,
          623,
          624,
          625,
          626,
          627,
          628,
          629,
          630,
          631,
          632,
          633,
          634,
          635,
          636,
          637,
          638,
          639,
          640,
          641,
          642,
          643,
          644,
          645,
          646,
          647,
          648,
          649,
          650,
          651,
          652,
          653,
          654,
          655,
          656,
          657,
          658,
          659
         ],
         "y": [
          972.428043266156,
          704.2003291831817,
          587.0572982605357,
          537.16901435474,
          514.6783084502083,
          502.9091635639525,
          495.4402255640408,
          489.8497897793768,
          485.20109463435955,
          481.1076387118765,
          477.39280907022976,
          473.9647131252313,
          470.7686755321487,
          467.7682238168489,
          464.93687830614044,
          462.25425850524493,
          459.70404158822873,
          457.27278709085454,
          454.9492050354053,
          452.7236707293587,
          450.5878866194522,
          448.53463678323874,
          446.5576024311912,
          444.65121913252165,
          442.8105635513724,
          441.031261713075,
          439.3094134369569,
          437.64152923201044,
          436.02447702828266,
          434.45543682994213,
          432.93186185850556,
          431.4514450885686,
          430.01209031486565,
          428.61188706111267,
          427.24908876874696,
          425.9220938009414,
          424.62942887308134,
          423.3697345811972,
          422.1417527487095,
          420.9443153520335,
          419.7763348190878,
          418.6367955229477,
          417.5247463168247,
          416.43929397700475,
          415.37959743793925,
          414.3448627188218,
          413.3343384540652,
          412.3473119514319,
          411.38310571140283,
          410.4410743499164,
          409.52060187403686,
          408.6210992665749,
          407.74200234130916,
          406.88276983535525,
          406.0428817094957,
          405.22183763099827,
          404.41915561668986,
          403.6343708168712,
          402.8670344231153,
          402.11671268513584,
          401.3829860237759,
          400.66544822879416,
          399.96370573154576,
          399.2773769438879,
          398.6060916557209,
          397.94949048451446,
          397.3072243709881,
          396.6789541158324,
          396.06434995298014,
          395.4630911554831,
          394.8748656705265,
          394.2993697805283,
          393.7363077876355,
          393.1853917192473,
          392.6463410524734,
          392.11888245567917,
          391.6027495454842,
          391.09768265776523,
          390.60342863138294,
          390.1197406034907,
          389.64637781541575,
          389.1831054282087,
          388.72969434706124,
          388.2859210538724,
          387.8515674473241,
          387.42642068989056,
          387.01027306126844,
          386.60292181776333,
          386.2041690572178,
          385.81382158910526,
          385.43169080945046,
          385.0575925802707,
          384.6913471132595,
          384.33277885746037,
          383.9817163907012,
          383.63799231458,
          383.30144315281024,
          382.97190925275197,
          382.64923468996676,
          382.33326717565024,
          382.0238579668057,
          381.72086177903407,
          381.4241367018234,
          381.1335441162322,
          380.84894861486504,
          380.57021792404936,
          380.2972228281269,
          380.0298370957779,
          379.7679374083039,
          379.51140328979835,
          379.2601170391376,
          379.01396366373075,
          378.7728308149688,
          378.53660872531793,
          378.3051901470038,
          378.078470292237,
          377.85634677493215,
          377.63871955387685,
          377.4254908773051,
          377.21656522883643,
          377.0118492747412,
          376.8112518124934,
          376.61468372057703,
          376.4220579095099,
          376.2332892740539,
          376.0482946465777,
          375.86699275154336,
          375.6893041610861,
          375.51515125166,
          375.34445816172104,
          375.17715075042275,
          375.0131565572964,
          374.85240476289385,
          374.69482615036696,
          374.5403530679612,
          374.3889193924009,
          374.2404604931446,
          374.0949131974881,
          373.9522157564959,
          373.8123078117409,
          373.67513036283134,
          373.54062573570866,
          373.408737551695,
          373.2794106972744,
          373.1525912945894,
          373.02822667263644,
          372.9062653391423,
          372.78665695310724,
          372.6693522979973,
          372.5543032555717,
          372.4414627803292,
          372.3307848745596,
          372.222224563986,
          372.1157378739831,
          372.0112818063593,
          371.90881431668754,
          371.8082942921737,
          371.7096815300487,
          371.6129367164724,
          371.51802140593674,
          371.4248980011573,
          371.3335297334407,
          371.2438806435171,
          371.15591556282703,
          371.0696000952511,
          370.9849005992726,
          370.90178417056313,
          370.8202186249804,
          370.74017248196867,
          370.6616149483527,
          370.58451590251576,
          370.508845878952,
          370.43457605318525,
          370.3616782270444,
          370.29012481428816,
          370.21988882656973,
          370.15094385973396,
          370.08326408043933,
          370.0168242130958,
          369.95159952711236,
          369.88756582444626,
          369.8246994274467,
          369.76297716698605,
          369.70237637087183,
          369.64287485253243,
          369.58445089997036,
          369.5270832649766,
          369.4707511525996,
          369.4154342108625,
          369.3611125207243,
          369.30776658627616,
          369.2553773251704,
          369.2039260592746,
          369.15339450554535,
          369.1037647671183,
          369.0550193246069,
          369.0071410276061,
          368.96011308639635,
          368.91391906384234,
          368.86854286748195,
          368.82396874180154,
          368.78018126069185,
          368.73716532008154,
          368.69490613074294,
          368.6533892112667,
          368.61260038120093,
          368.57252575435086,
          368.53315173223484,
          368.494464997694,
          368.4564525086507,
          368.4191014920128,
          368.38239943771964,
          368.3463340929279,
          368.3108934563318,
          368.2760657726158,
          368.2418395270367,
          368.208203440131,
          368.17514646254574,
          368.14265776998866,
          368.110726758296,
          368.0793430386144,
          368.04849643269404,
          368.01817696829056,
          367.9883748746738,
          367.95908057823976,
          367.93028469822355,
          367.901978042512,
          367.87415160355107,
          367.84679655434974,
          367.8199042445732,
          367.7934661967273,
          367.76747410243036,
          367.7419198187698,
          367.71679536474255,
          367.6920929177769,
          367.6678048103336,
          367.64392352658496,
          367.62044169916857,
          367.5973521060167,
          367.57464766725593,
          367.5523214421788,
          367.53036662628324,
          367.5087765483794,
          367.4875446677622,
          367.46666457144795,
          367.4461299714725,
          367.4259347022519,
          367.4060727180012,
          367.38653809021235,
          367.3673250051883,
          367.3484277616328,
          367.32984076829405,
          367.3115585416614,
          367.2935757037137,
          367.2758869797179,
          367.2584871960767,
          367.24137127822434,
          367.22453424856985,
          367.20797122448477,
          367.19167741633703,
          367.1756481255676,
          367.1598787428102,
          367.1443647460527,
          367.1291016988387,
          367.1140852485096,
          367.0993111244846,
          367.0847751365797,
          367.0704731733626,
          367.0564012005445,
          367.04255525940687,
          367.0289314652631,
          367.01552600595323,
          367.002335140372,
          366.9893551970293,
          366.9765825726413,
          366.96401373075304,
          366.9516452003904,
          366.93947357474167,
          366.92749550986787,
          366.91570772344033,
          366.9041069935065,
          366.8926901572818,
          366.88145410996765,
          366.87039580359504,
          366.85951224589337,
          366.84880049918274,
          366.83825767929045,
          366.82788095449143,
          366.81766754446994,
          366.80761471930435,
          366.79771979847385,
          366.78798014988536,
          366.77839318892194,
          366.7689563775111,
          366.75966722321306,
          366.7505232783281,
          366.74152213902283,
          366.732661444475,
          366.7239388760366,
          366.7153521564138,
          366.7068990488654,
          366.6985773564167,
          366.69038492109064,
          366.68231962315554,
          366.674379380387,
          366.66656214734695,
          366.6588659146766,
          366.6512887084045,
          366.6438285892689,
          366.6364836520544,
          366.6292520249418,
          366.6221318688722,
          366.61512137692347,
          366.60821877369995,
          366.60142231473475,
          366.59473028590423,
          366.58814100285457,
          366.58165281044006,
          366.5752640821728,
          366.568973219684,
          366.56277865219545,
          366.5566788360032,
          366.5506722539701,
          366.5447574150295,
          366.5389328536996,
          366.53319712960604,
          366.52754882701583,
          366.5219865543796,
          366.5165089438831,
          366.51111465100865,
          366.50580235410456,
          366.5005707539631,
          366.49541857340745,
          366.490344556887,
          366.48534747007983,
          366.48042609950426,
          366.47557925213704,
          366.47080575504015,
          366.4661044549945,
          366.4614742181402,
          366.45691392962584,
          366.45242249326236,
          366.4479988311856,
          366.4436418835246,
          366.43935060807644,
          366.43512397998785,
          366.4309609914428,
          366.426860651356,
          366.42282198507286,
          366.41884403407516,
          366.4149258556918,
          366.4110665228165,
          366.40726512362943,
          366.4035207613254,
          366.3998325538471,
          366.39619963362276,
          366.39262114730974,
          366.38909625554277,
          366.3856241326868,
          366.3822039665948,
          366.3788349583702,
          366.375516322134,
          366.3722472847958,
          366.3690270858297,
          366.3658549770548,
          366.36273022241875,
          366.3596520977862,
          366.35661989073134,
          366.3536329003341,
          366.35069043698,
          366.34779182216437,
          366.34493638829935,
          366.3421234785258,
          366.33935244652736,
          366.33662265634877,
          366.33393348221784,
          366.33128430836985,
          366.3286745288759,
          366.3261035474746,
          366.3235707774059,
          366.3210756412494,
          366.3186175707645,
          366.3161960067339,
          366.3138103988102,
          366.3114602053651,
          366.3091448933416,
          366.3068639381084,
          366.3046168233175,
          366.30240304076415,
          366.30022209024975,
          366.2980734794463,
          366.2959567237649,
          366.29387134622453,
          366.29181687732546,
          366.28979285492323,
          366.28779882410595,
          366.2858343370731,
          366.28389895301706,
          366.28199223800675,
          366.2801137648727,
          366.27826311309514,
          366.27643986869356,
          366.274643624118,
          366.272873978143,
          366.271130535763,
          366.26941290808924,
          366.2677207122495,
          366.2660535712888,
          366.264411114072,
          366.2627929751884,
          366.2611987948577,
          366.2596282188379,
          366.2580808983349,
          366.25655648991295,
          366.2550546554078,
          366.25357506184054,
          366.2521173813333,
          366.250681291026,
          366.24926647299577,
          366.2478726141759,
          366.24649940627774,
          366.24514654571334,
          366.24381373351974,
          366.24250067528385,
          366.2412070810697,
          366.239932665346,
          366.23867714691545,
          366.2374402488455,
          366.2362216983992,
          366.2350212269691,
          366.23383857001,
          366.232673466975,
          366.2315256612511,
          366.2303949000971,
          366.2292809345811,
          366.2281835195208,
          366.2271024134235,
          366.2260373784274,
          366.22498818024457,
          366.223954588104,
          366.2229363746959,
          366.2219333161177,
          366.22094519181934,
          366.21997178455126,
          366.21901288031194,
          366.2180682682972,
          366.2171377408495,
          366.2162210934093,
          366.2153181244657,
          366.2144286355093,
          366.2135524309851,
          366.2126893182462,
          366.21183910750864,
          366.2110016118066,
          366.21017664694864,
          366.2093640314744,
          366.20856358661246,
          366.20777513623824,
          366.2069985068331,
          366.20623352744417,
          366.20548002964415,
          366.204737847493,
          366.20400681749874,
          366.20328677858026,
          366.20257757202984,
          366.20187904147673,
          366.2011910328512,
          366.20051339434923,
          366.1998459763976,
          366.1991886316197,
          366.19854121480193,
          366.1979035828606,
          366.1972755948093,
          366.19665711172684,
          366.19604799672584,
          366.1954481149214,
          366.19485733340116,
          366.1942755211947,
          366.1937025492442,
          366.19313829037566,
          366.19258261926973,
          366.1920354124343,
          366.1914965481759,
          366.19096590657335,
          366.1904433694506,
          366.1899288203501,
          366.1894221445072,
          366.1889232288246,
          366.18843196184685,
          366.18794823373617,
          366.1874719362475,
          366.1870029627052,
          366.1865412079789,
          366.18608656846055,
          366.1856389420417,
          366.1851982280907,
          366.184764327431,
          366.18433714231907,
          366.18391657642303,
          366.1835025348017,
          366.1830949238836,
          366.18269365144687,
          366.1822986265987,
          366.181909759756,
          366.1815269626258,
          366.1811501481855,
          366.18077923066505,
          366.1804141255274,
          366.1800547494507,
          366.1797010203102,
          366.1793528571604,
          366.17901018021774,
          366.1786729108434,
          366.1783409715264,
          366.17801428586665,
          366.17769277855905,
          366.1773763753769,
          366.1770650031564,
          366.1767585897805,
          366.17645706416397,
          366.17616035623814,
          366.17586839693564,
          366.1755811181762,
          366.1752984528514,
          366.17502033481145,
          366.17474669885013,
          366.1744774806919,
          366.1742126169774,
          366.1739520452506,
          366.17369570394555,
          366.1734435323732,
          366.17319547070855,
          366.1729514599785,
          366.17271144204875,
          366.17247535961224,
          366.1722431561766,
          366.1720147760525,
          366.1717901643421,
          366.1715692669273,
          366.1713520304585,
          366.1711384023436,
          366.17092833073684,
          366.1707217645279,
          366.1705186533315,
          366.1703189474767,
          366.1701225979967,
          366.1699295566183,
          366.16973977575253,
          366.16955320848416,
          366.1693698085623,
          366.1691895303906,
          366.1690123290179,
          366.16883816012916,
          366.1686669800358,
          366.16849874566725,
          366.1683334145614,
          366.1681709448564,
          366.1680112952821,
          366.1678544251507,
          366.16770029434963,
          366.1675488633321,
          366.16740009310973,
          366.16725394524434,
          366.16711038184013,
          366.16696936553564,
          366.16683085949643,
          366.1666948274073,
          366.1665612334651,
          366.16643004237113,
          366.1663012193243,
          366.16617473001344,
          366.16605054061097,
          366.1659286177655,
          366.16580892859537,
          366.1656914406817,
          366.165576122062,
          366.16546294122355,
          366.165351867097,
          366.16524286904996,
          366.1651359168811,
          366.1650309808139,
          366.1649280314904,
          366.1648270399651,
          366.16472797769995,
          366.16463081655775,
          366.1645355287967,
          366.1644420870649,
          366.1643504643946,
          366.16426063419726,
          366.16417257025734,
          366.1640862467279,
          366.16400163812466,
          366.1639187193215,
          366.1638374655448,
          366.16375785236903,
          366.1636798557114,
          366.163603451827,
          366.1635286173045,
          366.16345532906104,
          366.16338356433755,
          366.1633133006945,
          366.16324451600707,
          366.1631771884611,
          366.16311129654815,
          366.1630468190619,
          366.1629837350932,
          366.1629220240263,
          366.16286166553476,
          366.1628026395772,
          366.1627449263932,
          366.1626885064997,
          366.1626333606867,
          366.16257947001384,
          366.1625268158063,
          366.1624753796511,
          366.1624251433935,
          366.16237608913366,
          366.16232819922243,
          366.16228145625837,
          366.16223584308403,
          366.16219134278265,
          366.1621479386748,
          366.16210561431484,
          366.1620643534879,
          366.1620241402065,
          366.16198495870754,
          366.161946793449,
          366.1619096291068,
          366.16187345057193,
          366.1618382429474,
          366.1618039915453,
          366.1617706818836,
          366.16173829968363,
          366.1617068308672,
          366.1616762615536,
          366.1616465780571,
          366.16161776688386,
          366.16158981472967,
          366.16156270847705,
          366.1615364351928,
          366.16151098212526,
          366.16148633670184,
          366.16146248652683,
          366.1614394193782,
          366.16141712320615,
          366.16139558612986,
          366.1613747964357,
          366.16135474257453,
          366.16133541315975,
          366.1613167969648,
          366.16129888292085,
          366.1612816601151,
          366.1612651177879,
          366.1612492453313,
          366.16123403228653,
          366.161219468342,
          366.1612055433313,
          366.1611922472312,
          366.1611795701597,
          366.1611675023739
         ]
        }
       ],
       "layout": {
        "hovermode": "x unified",
        "template": {
         "data": {
          "bar": [
           {
            "error_x": {
             "color": "#2a3f5f"
            },
            "error_y": {
             "color": "#2a3f5f"
            },
            "marker": {
             "line": {
              "color": "#E5ECF6",
              "width": 0.5
             },
             "pattern": {
              "fillmode": "overlay",
              "size": 10,
              "solidity": 0.2
             }
            },
            "type": "bar"
           }
          ],
          "barpolar": [
           {
            "marker": {
             "line": {
              "color": "#E5ECF6",
              "width": 0.5
             },
             "pattern": {
              "fillmode": "overlay",
              "size": 10,
              "solidity": 0.2
             }
            },
            "type": "barpolar"
           }
          ],
          "carpet": [
           {
            "aaxis": {
             "endlinecolor": "#2a3f5f",
             "gridcolor": "white",
             "linecolor": "white",
             "minorgridcolor": "white",
             "startlinecolor": "#2a3f5f"
            },
            "baxis": {
             "endlinecolor": "#2a3f5f",
             "gridcolor": "white",
             "linecolor": "white",
             "minorgridcolor": "white",
             "startlinecolor": "#2a3f5f"
            },
            "type": "carpet"
           }
          ],
          "choropleth": [
           {
            "colorbar": {
             "outlinewidth": 0,
             "ticks": ""
            },
            "type": "choropleth"
           }
          ],
          "contour": [
           {
            "colorbar": {
             "outlinewidth": 0,
             "ticks": ""
            },
            "colorscale": [
             [
              0,
              "#0d0887"
             ],
             [
              0.1111111111111111,
              "#46039f"
             ],
             [
              0.2222222222222222,
              "#7201a8"
             ],
             [
              0.3333333333333333,
              "#9c179e"
             ],
             [
              0.4444444444444444,
              "#bd3786"
             ],
             [
              0.5555555555555556,
              "#d8576b"
             ],
             [
              0.6666666666666666,
              "#ed7953"
             ],
             [
              0.7777777777777778,
              "#fb9f3a"
             ],
             [
              0.8888888888888888,
              "#fdca26"
             ],
             [
              1,
              "#f0f921"
             ]
            ],
            "type": "contour"
           }
          ],
          "contourcarpet": [
           {
            "colorbar": {
             "outlinewidth": 0,
             "ticks": ""
            },
            "type": "contourcarpet"
           }
          ],
          "heatmap": [
           {
            "colorbar": {
             "outlinewidth": 0,
             "ticks": ""
            },
            "colorscale": [
             [
              0,
              "#0d0887"
             ],
             [
              0.1111111111111111,
              "#46039f"
             ],
             [
              0.2222222222222222,
              "#7201a8"
             ],
             [
              0.3333333333333333,
              "#9c179e"
             ],
             [
              0.4444444444444444,
              "#bd3786"
             ],
             [
              0.5555555555555556,
              "#d8576b"
             ],
             [
              0.6666666666666666,
              "#ed7953"
             ],
             [
              0.7777777777777778,
              "#fb9f3a"
             ],
             [
              0.8888888888888888,
              "#fdca26"
             ],
             [
              1,
              "#f0f921"
             ]
            ],
            "type": "heatmap"
           }
          ],
          "heatmapgl": [
           {
            "colorbar": {
             "outlinewidth": 0,
             "ticks": ""
            },
            "colorscale": [
             [
              0,
              "#0d0887"
             ],
             [
              0.1111111111111111,
              "#46039f"
             ],
             [
              0.2222222222222222,
              "#7201a8"
             ],
             [
              0.3333333333333333,
              "#9c179e"
             ],
             [
              0.4444444444444444,
              "#bd3786"
             ],
             [
              0.5555555555555556,
              "#d8576b"
             ],
             [
              0.6666666666666666,
              "#ed7953"
             ],
             [
              0.7777777777777778,
              "#fb9f3a"
             ],
             [
              0.8888888888888888,
              "#fdca26"
             ],
             [
              1,
              "#f0f921"
             ]
            ],
            "type": "heatmapgl"
           }
          ],
          "histogram": [
           {
            "marker": {
             "pattern": {
              "fillmode": "overlay",
              "size": 10,
              "solidity": 0.2
             }
            },
            "type": "histogram"
           }
          ],
          "histogram2d": [
           {
            "colorbar": {
             "outlinewidth": 0,
             "ticks": ""
            },
            "colorscale": [
             [
              0,
              "#0d0887"
             ],
             [
              0.1111111111111111,
              "#46039f"
             ],
             [
              0.2222222222222222,
              "#7201a8"
             ],
             [
              0.3333333333333333,
              "#9c179e"
             ],
             [
              0.4444444444444444,
              "#bd3786"
             ],
             [
              0.5555555555555556,
              "#d8576b"
             ],
             [
              0.6666666666666666,
              "#ed7953"
             ],
             [
              0.7777777777777778,
              "#fb9f3a"
             ],
             [
              0.8888888888888888,
              "#fdca26"
             ],
             [
              1,
              "#f0f921"
             ]
            ],
            "type": "histogram2d"
           }
          ],
          "histogram2dcontour": [
           {
            "colorbar": {
             "outlinewidth": 0,
             "ticks": ""
            },
            "colorscale": [
             [
              0,
              "#0d0887"
             ],
             [
              0.1111111111111111,
              "#46039f"
             ],
             [
              0.2222222222222222,
              "#7201a8"
             ],
             [
              0.3333333333333333,
              "#9c179e"
             ],
             [
              0.4444444444444444,
              "#bd3786"
             ],
             [
              0.5555555555555556,
              "#d8576b"
             ],
             [
              0.6666666666666666,
              "#ed7953"
             ],
             [
              0.7777777777777778,
              "#fb9f3a"
             ],
             [
              0.8888888888888888,
              "#fdca26"
             ],
             [
              1,
              "#f0f921"
             ]
            ],
            "type": "histogram2dcontour"
           }
          ],
          "mesh3d": [
           {
            "colorbar": {
             "outlinewidth": 0,
             "ticks": ""
            },
            "type": "mesh3d"
           }
          ],
          "parcoords": [
           {
            "line": {
             "colorbar": {
              "outlinewidth": 0,
              "ticks": ""
             }
            },
            "type": "parcoords"
           }
          ],
          "pie": [
           {
            "automargin": true,
            "type": "pie"
           }
          ],
          "scatter": [
           {
            "fillpattern": {
             "fillmode": "overlay",
             "size": 10,
             "solidity": 0.2
            },
            "type": "scatter"
           }
          ],
          "scatter3d": [
           {
            "line": {
             "colorbar": {
              "outlinewidth": 0,
              "ticks": ""
             }
            },
            "marker": {
             "colorbar": {
              "outlinewidth": 0,
              "ticks": ""
             }
            },
            "type": "scatter3d"
           }
          ],
          "scattercarpet": [
           {
            "marker": {
             "colorbar": {
              "outlinewidth": 0,
              "ticks": ""
             }
            },
            "type": "scattercarpet"
           }
          ],
          "scattergeo": [
           {
            "marker": {
             "colorbar": {
              "outlinewidth": 0,
              "ticks": ""
             }
            },
            "type": "scattergeo"
           }
          ],
          "scattergl": [
           {
            "marker": {
             "colorbar": {
              "outlinewidth": 0,
              "ticks": ""
             }
            },
            "type": "scattergl"
           }
          ],
          "scattermapbox": [
           {
            "marker": {
             "colorbar": {
              "outlinewidth": 0,
              "ticks": ""
             }
            },
            "type": "scattermapbox"
           }
          ],
          "scatterpolar": [
           {
            "marker": {
             "colorbar": {
              "outlinewidth": 0,
              "ticks": ""
             }
            },
            "type": "scatterpolar"
           }
          ],
          "scatterpolargl": [
           {
            "marker": {
             "colorbar": {
              "outlinewidth": 0,
              "ticks": ""
             }
            },
            "type": "scatterpolargl"
           }
          ],
          "scatterternary": [
           {
            "marker": {
             "colorbar": {
              "outlinewidth": 0,
              "ticks": ""
             }
            },
            "type": "scatterternary"
           }
          ],
          "surface": [
           {
            "colorbar": {
             "outlinewidth": 0,
             "ticks": ""
            },
            "colorscale": [
             [
              0,
              "#0d0887"
             ],
             [
              0.1111111111111111,
              "#46039f"
             ],
             [
              0.2222222222222222,
              "#7201a8"
             ],
             [
              0.3333333333333333,
              "#9c179e"
             ],
             [
              0.4444444444444444,
              "#bd3786"
             ],
             [
              0.5555555555555556,
              "#d8576b"
             ],
             [
              0.6666666666666666,
              "#ed7953"
             ],
             [
              0.7777777777777778,
              "#fb9f3a"
             ],
             [
              0.8888888888888888,
              "#fdca26"
             ],
             [
              1,
              "#f0f921"
             ]
            ],
            "type": "surface"
           }
          ],
          "table": [
           {
            "cells": {
             "fill": {
              "color": "#EBF0F8"
             },
             "line": {
              "color": "white"
             }
            },
            "header": {
             "fill": {
              "color": "#C8D4E3"
             },
             "line": {
              "color": "white"
             }
            },
            "type": "table"
           }
          ]
         },
         "layout": {
          "annotationdefaults": {
           "arrowcolor": "#2a3f5f",
           "arrowhead": 0,
           "arrowwidth": 1
          },
          "autotypenumbers": "strict",
          "coloraxis": {
           "colorbar": {
            "outlinewidth": 0,
            "ticks": ""
           }
          },
          "colorscale": {
           "diverging": [
            [
             0,
             "#8e0152"
            ],
            [
             0.1,
             "#c51b7d"
            ],
            [
             0.2,
             "#de77ae"
            ],
            [
             0.3,
             "#f1b6da"
            ],
            [
             0.4,
             "#fde0ef"
            ],
            [
             0.5,
             "#f7f7f7"
            ],
            [
             0.6,
             "#e6f5d0"
            ],
            [
             0.7,
             "#b8e186"
            ],
            [
             0.8,
             "#7fbc41"
            ],
            [
             0.9,
             "#4d9221"
            ],
            [
             1,
             "#276419"
            ]
           ],
           "sequential": [
            [
             0,
             "#0d0887"
            ],
            [
             0.1111111111111111,
             "#46039f"
            ],
            [
             0.2222222222222222,
             "#7201a8"
            ],
            [
             0.3333333333333333,
             "#9c179e"
            ],
            [
             0.4444444444444444,
             "#bd3786"
            ],
            [
             0.5555555555555556,
             "#d8576b"
            ],
            [
             0.6666666666666666,
             "#ed7953"
            ],
            [
             0.7777777777777778,
             "#fb9f3a"
            ],
            [
             0.8888888888888888,
             "#fdca26"
            ],
            [
             1,
             "#f0f921"
            ]
           ],
           "sequentialminus": [
            [
             0,
             "#0d0887"
            ],
            [
             0.1111111111111111,
             "#46039f"
            ],
            [
             0.2222222222222222,
             "#7201a8"
            ],
            [
             0.3333333333333333,
             "#9c179e"
            ],
            [
             0.4444444444444444,
             "#bd3786"
            ],
            [
             0.5555555555555556,
             "#d8576b"
            ],
            [
             0.6666666666666666,
             "#ed7953"
            ],
            [
             0.7777777777777778,
             "#fb9f3a"
            ],
            [
             0.8888888888888888,
             "#fdca26"
            ],
            [
             1,
             "#f0f921"
            ]
           ]
          },
          "colorway": [
           "#636efa",
           "#EF553B",
           "#00cc96",
           "#ab63fa",
           "#FFA15A",
           "#19d3f3",
           "#FF6692",
           "#B6E880",
           "#FF97FF",
           "#FECB52"
          ],
          "font": {
           "color": "#2a3f5f"
          },
          "geo": {
           "bgcolor": "white",
           "lakecolor": "white",
           "landcolor": "#E5ECF6",
           "showlakes": true,
           "showland": true,
           "subunitcolor": "white"
          },
          "hoverlabel": {
           "align": "left"
          },
          "hovermode": "closest",
          "mapbox": {
           "style": "light"
          },
          "paper_bgcolor": "white",
          "plot_bgcolor": "#E5ECF6",
          "polar": {
           "angularaxis": {
            "gridcolor": "white",
            "linecolor": "white",
            "ticks": ""
           },
           "bgcolor": "#E5ECF6",
           "radialaxis": {
            "gridcolor": "white",
            "linecolor": "white",
            "ticks": ""
           }
          },
          "scene": {
           "xaxis": {
            "backgroundcolor": "#E5ECF6",
            "gridcolor": "white",
            "gridwidth": 2,
            "linecolor": "white",
            "showbackground": true,
            "ticks": "",
            "zerolinecolor": "white"
           },
           "yaxis": {
            "backgroundcolor": "#E5ECF6",
            "gridcolor": "white",
            "gridwidth": 2,
            "linecolor": "white",
            "showbackground": true,
            "ticks": "",
            "zerolinecolor": "white"
           },
           "zaxis": {
            "backgroundcolor": "#E5ECF6",
            "gridcolor": "white",
            "gridwidth": 2,
            "linecolor": "white",
            "showbackground": true,
            "ticks": "",
            "zerolinecolor": "white"
           }
          },
          "shapedefaults": {
           "line": {
            "color": "#2a3f5f"
           }
          },
          "ternary": {
           "aaxis": {
            "gridcolor": "white",
            "linecolor": "white",
            "ticks": ""
           },
           "baxis": {
            "gridcolor": "white",
            "linecolor": "white",
            "ticks": ""
           },
           "bgcolor": "#E5ECF6",
           "caxis": {
            "gridcolor": "white",
            "linecolor": "white",
            "ticks": ""
           }
          },
          "title": {
           "x": 0.05
          },
          "xaxis": {
           "automargin": true,
           "gridcolor": "white",
           "linecolor": "white",
           "ticks": "",
           "title": {
            "standoff": 15
           },
           "zerolinecolor": "white",
           "zerolinewidth": 2
          },
          "yaxis": {
           "automargin": true,
           "gridcolor": "white",
           "linecolor": "white",
           "ticks": "",
           "title": {
            "standoff": 15
           },
           "zerolinecolor": "white",
           "zerolinewidth": 2
          }
         }
        },
        "title": {
         "text": "Train and Test RMSE at various Iterations (Learning Rate = 0.3, Threshold = 0.0001)"
        },
        "xaxis": {
         "title": {
          "text": "Iteration"
         }
        },
        "yaxis": {
         "title": {
          "text": "RMSE"
         }
        }
       }
      },
      "text/html": [
       "<div>                            <div id=\"3a546b10-e7cc-420f-b3aa-ef00d5bd0a74\" class=\"plotly-graph-div\" style=\"height:525px; width:100%;\"></div>            <script type=\"text/javascript\">                require([\"plotly\"], function(Plotly) {                    window.PLOTLYENV=window.PLOTLYENV || {};                                    if (document.getElementById(\"3a546b10-e7cc-420f-b3aa-ef00d5bd0a74\")) {                    Plotly.newPlot(                        \"3a546b10-e7cc-420f-b3aa-ef00d5bd0a74\",                        [{\"mode\":\"lines+markers\",\"name\":\"Train RMSE\",\"x\":[0,1,2,3,4,5,6,7,8,9,10,11,12,13,14,15,16,17,18,19,20,21,22,23,24,25,26,27,28,29,30,31,32,33,34,35,36,37,38,39,40,41,42,43,44,45,46,47,48,49,50,51,52,53,54,55,56,57,58,59,60,61,62,63,64,65,66,67,68,69,70,71,72,73,74,75,76,77,78,79,80,81,82,83,84,85,86,87,88,89,90,91,92,93,94,95,96,97,98,99,100,101,102,103,104,105,106,107,108,109,110,111,112,113,114,115,116,117,118,119,120,121,122,123,124,125,126,127,128,129,130,131,132,133,134,135,136,137,138,139,140,141,142,143,144,145,146,147,148,149,150,151,152,153,154,155,156,157,158,159,160,161,162,163,164,165,166,167,168,169,170,171,172,173,174,175,176,177,178,179,180,181,182,183,184,185,186,187,188,189,190,191,192,193,194,195,196,197,198,199,200,201,202,203,204,205,206,207,208,209,210,211,212,213,214,215,216,217,218,219,220,221,222,223,224,225,226,227,228,229,230,231,232,233,234,235,236,237,238,239,240,241,242,243,244,245,246,247,248,249,250,251,252,253,254,255,256,257,258,259,260,261,262,263,264,265,266,267,268,269,270,271,272,273,274,275,276,277,278,279,280,281,282,283,284,285,286,287,288,289,290,291,292,293,294,295,296,297,298,299,300,301,302,303,304,305,306,307,308,309,310,311,312,313,314,315,316,317,318,319,320,321,322,323,324,325,326,327,328,329,330,331,332,333,334,335,336,337,338,339,340,341,342,343,344,345,346,347,348,349,350,351,352,353,354,355,356,357,358,359,360,361,362,363,364,365,366,367,368,369,370,371,372,373,374,375,376,377,378,379,380,381,382,383,384,385,386,387,388,389,390,391,392,393,394,395,396,397,398,399,400,401,402,403,404,405,406,407,408,409,410,411,412,413,414,415,416,417,418,419,420,421,422,423,424,425,426,427,428,429,430,431,432,433,434,435,436,437,438,439,440,441,442,443,444,445,446,447,448,449,450,451,452,453,454,455,456,457,458,459,460,461,462,463,464,465,466,467,468,469,470,471,472,473,474,475,476,477,478,479,480,481,482,483,484,485,486,487,488,489,490,491,492,493,494,495,496,497,498,499,500,501,502,503,504,505,506,507,508,509,510,511,512,513,514,515,516,517,518,519,520,521,522,523,524,525,526,527,528,529,530,531,532,533,534,535,536,537,538,539,540,541,542,543,544,545,546,547,548,549,550,551,552,553,554,555,556,557,558,559,560,561,562,563,564,565,566,567,568,569,570,571,572,573,574,575,576,577,578,579,580,581,582,583,584,585,586,587,588,589,590,591,592,593,594,595,596,597,598,599,600,601,602,603,604,605,606,607,608,609,610,611,612,613,614,615,616,617,618,619,620,621,622,623,624,625,626,627,628,629,630,631,632,633,634,635,636,637,638,639,640,641,642,643,644,645,646,647,648,649,650,651,652,653,654,655,656,657,658,659],\"y\":[971.4138689694469,702.8857239522152,586.6077754832866,537.883313732928,516.3867968284561,505.36325158603574,498.4411872094462,493.26097494711377,488.933009378438,485.1023071412653,481.6123058094766,478.38356821893007,475.36905138013157,472.53692034028865,469.8635017164976,467.33011653488035,464.9214865109067,462.62483188929315,460.42930443329647,458.3256004668271,456.30568025533285,454.36255531495135,452.49012187181216,450.6830272224833,448.9365604693411,447.2465618903393,445.60934692933336,444.0216419062371,442.48052928775195,440.98340086795633,439.52791756659695,438.1119748125736,436.73367267307134,435.3912900357928,434.0832622663089,432.808161853694,431.56468163142716,430.35162022122563,429.16786939798396,428.0124031164432,426.884267976172,425.78257493208537,424.7064920839525,423.65523840087627,422.6280782561264,421.624316664448,420.6432951284229,419.6843880129719,418.74699937789825,417.8305602077478,416.9345259863702,416.05837457059147,415.2016043235,414.3637324731168,413.5442936667941,412.7428386956429,411.9589333667194,411.1921575036721,410.442104059124,409.70837832429635,408.9905972233076,408.2883886812581,407.6013910566588,406.92925263001644,406.27163114147606,405.62819337136494,404.9986147582938,404.3825790501825,403.77977798418704,403.18991099203464,402.6126849277356,402.0478138150363,401.4950186123246,400.95402699299575,400.4245731395486,399.90639754990485,399.3992468546384,398.9028736439723,398.41703630354573,397.9414988580805,397.4760308221892,397.02040705765734,396.5744076366206,396.1378177101266,395.71042738163436,395.2920315850585,394.882429967013,394.48142677294925,394.0888307369198,393.7044549747302,393.3281168802662,392.9596380248109,392.5988440591826,392.2455646185454,391.89963322975746,391.5608872211375,391.22916763454015,390.9043191396427,390.5861899503532,390.2746317432589,389.9694995780411,389.67065181978694,389.37795006313627,389.0912590582043,388.8104466382264,388.53538364887413,388.26594387919556,388.0020039941341,387.74344346858607,387.49014452295467,387.24199206016453,386.9988736040998,386.76067923943197,386.52730155280403,386.2986355753396,386.0745787264469,385.8550307588871,385.63989370508045,385.42907182462017,385.22247155297043,385.02000145131996,384.82157215756735,384.6270963384131,384.4364886425352,384.24966565482373,384.0665458516526,383.8870495571656,383.71109890055584,383.53861777431615,383.3695317934403,383.20376825555434,383.041256101959,382.88192587956144,382.7257097036796,382.5725412216986,382.4223555775617,382.2750893770772,382.13068065402393,381.9890688370378,381.8501947172619,381.7140004167446,381.580429357568,381.44942623169135,381.3209369714936,381.19490872099954,381.0712898077741,380.950029715471,380.83107905701956,380.71438954843654,380.59991398324945,380.4876062075159,380.3774210954272,380.26931452548223,380.16324335721873,380.05916540849023,379.95703943327436,379.8568251000024,379.7584829703974,379.6619744788085,379.5672619120314,379.4743083896034,379.3830778445605,379.2935350046495,379.2056453739801,379.1193752151103,379.03469153155413,378.95156205070043,378.8699552071353,378.7898401263575,378.71118660887754,378.63396511469233,378.5581467481263,378.4837032430296,378.4106069483259,378.3388308139017,378.26834837682827,378.19913374790883,378.13116159854354,378.0644071479044,377.99884615041276,377.93445488351284,377.8712101357331,377.80908919502986,377.74806983740604,377.6881303157976,377.6292493492232,377.57140611218875,377.5145802243423,377.4587517403726,377.4039011401456,377.3500093190733,377.29705757870977,377.2450276175676,377.1939015221516,377.1436617582023,377.0942911621463,377.045772932747,376.9980906229512,376.951228131928,376.90516969729384,376.8598998875199,376.81540359451805,376.7716660264003,376.728672700407,376.68640943600235,376.6448623481294,376.60401784062424,376.56386259978336,376.5243835880814,376.48556803803524,376.44740344621175,376.4098775673744,376.3729784087668,376.33669422452914,376.3010135102441,376.26592499760983,376.2314176492366,376.1974806535641,376.1641034198968,376.13127557355335,376.0989869511301,376.0672275958721,376.0359877531527,376.0052578660564,375.97502857106446,375.94529069383924,375.91603524510606,375.8872534166297,375.8589365772835,375.8310762692086,375.8036642040612,375.77669225934613,375.75015247483435,375.7240370490625,375.6983383359118,375.6730488412663,375.6481612197462,375.6236682715165,375.5995629391677,375.57583830466774,375.5524875863836,375.5295041361695,375.50688143652235,375.48461309780055,375.46269285550665,375.4411145676307,375.4198722120545,375.398959884013,375.37837179361446,375.3581022634158,375.3381457260517,375.31849672191856,375.2991498969089,375.2801000001974,375.2613418820765,375.24287049184,375.224680875714,375.2067681748345,375.1891276232693,375.17175454608497,375.15464435745525,375.1377925588133,375.1211947370436,375.1048465627143,375.0887437883487,375.0728822467354,375.0572578492748,375.0418665843628,375.02670451581,375.0117677812954,374.9970525908542,374.9825552253991,374.9682720352731,374.95419943883553,374.94033392107724,374.9266720322672,374.9132103866284,374.89994566104195,374.8868745937805,374.8739939832681,374.8613006868677,374.8487916196944,374.8364637534548,374.82431411531115,374.81233978677017,374.80053790259575,374.7889056497452,374.77744026632826,374.76613904058803,374.7549993099049,374.74401845982067,374.73319392308383,374.7225231787157,374.7120037510962,374.70163320906863,374.6914091650644,374.68132927424557,374.67139123366593,374.66159278144994,374.6519316959888,374.6424057951537,374.6330129355255,374.6237510116408,374.61461795525395,374.6056117346137,374.59673035375715,374.5879718518156,374.57933430233743,374.5708158126236,374.56241452307785,374.55412860657003,374.5459562678127,374.5378957427509,374.5299452979643,374.52210323008194,374.51436786520924,374.5067375583663,374.49921069293833,374.4917856801372,374.4844609584738,374.47723499324206,374.4701062760125,374.4630733241367,374.45613468026227,374.44928891185685,374.4425346107426,374.43587039263974,374.4292948967194,374.422806785166,374.4164047427477,374.4100874763965,374.4038537147957,374.39770220797675,374.39163172692406,374.3856410631868,374.37972902849987,374.3738944544113,374.3681361919178,374.3624531111079,374.3568441008109,374.3513080682545,374.3458439387279,374.3404506552523,374.3351271782579,374.32987248526706,374.3246855705838,374.3195654449898,374.3145111354456,374.30952168479894,374.3045961514973,374.29973360930745,374.2949331470398,374.2901938682779,374.2855148911147,374.2808953478915,374.27633438494445,374.27183116235443,374.2673848537026,374.26299464583,374.2586597386026,374.2543793446802,374.2501526892903,374.2459790100061,374.2418575565287,374.2377875904737,374.23376838516197,374.22979922541373,374.2258794073479,374.2220082381839,374.218185036048,374.2144091297833,374.2106798587633,374.2069965727086,374.2033586315077,374.1997654050411,374.1962162730082,374.19271062475775,374.18924785912213,374.1858273842536,374.1824486174647,374.17911098507057,374.17581392223565,374.17255687282176,374.1693392892398,374.1661606323046,374.1630203710912,374.1599179827952,374.15685295259505,374.1538247735164,374.1508329463002,374.1478769792722,374.14495638821506,374.14207069624314,374.13921943367967,374.13640213793525,374.1336183533899,374.1308676312765,374.1281495295659,374.12546361285564,374.12280945225916,374.12018662529755,374.11759471579404,374.11503331376883,374.1125020153376,374.1100004226102,374.1075281435925,374.1050847920893,374.1026699876091,374.10028335527056,374.0979245257109,374.09559313499557,374.0932888245301,374.09101124097253,374.08876003614864,374.0865348669676,374.08433539534013,374.0821612880968,374.0800122169095,374.0778878582125,374.0757878931264,374.07371200738237,374.07165989124854,374.06963123945695,374.06762575113214,374.06564312972137,374.06368308292514,374.06174532263,374.05982956484144,374.0579355296191,374.056062941012,374.05421152699546,374.05238101940967,374.0505711538979,374.0487816698473,374.0470123103294,374.0452628220428,374.0435329552559,374.04182246375143,374.04013110477115,374.0384586389621,374.0368048303235,374.03516944615467,374.0335522570037,374.0319530366168,374.0303715618895,374.0288076128174,374.0272609724483,374.02573142683553,374.02421876499136,374.02272277884185,374.0212432631818,374.0197800156312,374.0183328365917,374.01690152920423,374.0154858993074,374.01408575539625,374.01270090858196,374.01133117255205,374.0099763635315,374.00863630024435,374.0073108038756,374.00599969803466,374.00470280871843,374.00341996427545,374.0021509953707,374.00089573495086,373.99965401821004,373.9984256825563,373.99721056757863,373.99600851501424,373.9948193687169,373.9936429746253,373.992479180732,373.9913278370534,373.99018879559947,373.9890619103444,373.98794703719767,373.9868440339755,373.98575276037286,373.9846730779358,373.98360485003457,373.98254794183663,373.98150222028045,373.98046755404977,373.979443813548,373.9784308708736,373.9774285997948,373.9764368757259,373.97545557570317,373.9744845783617,373.9735237639117,373.97257301411673,373.9716322122701,373.970701243174,373.9697799931172,373.968868349854,373.96796620258294,373.96707344192674,373.9661899599112,373.96531564994586,373.96445040680396,373.9635941266031,373.9627467067863,373.96190804610285,373.96107804459047,373.96025660355645,373.95944362556,373.958639014395,373.95784267507156,373.95705451380024,373.95627443797423,373.9555023561534,373.95473817804736,373.9539818145,373.95323317747346,373.95249218003244,373.9517587363288,373.9510327615869,373.950314172088,373.9496028851565,373.9488988191446,373.948201893419,373.9475120283462,373.94682914527914,373.9461531665433,373.9454840154237,373.9448216161515,373.9441658938912,373.9435167747277,373.942874185654,373.9422380545584,373.9416083102127,373.94098488226007,373.9403677012031,373.9397566983923,373.9391518060144,373.9385529570815,373.9379600854194,373.9373731256566,373.9367920132144,373.9362166842949,373.9356470758716,373.9350831256785,373.9345247722,373.9339719546611,373.9334246130172,373.93288268794447,373.9323461208304,373.9318148537641,373.9312888295271,373.9307679915843,373.9302522840745,373.92974165180215,373.9292360402279,373.92873539546025,373.92823966424703,373.927748793967,373.92726273262133,373.9267814288258,373.9263048318025,373.92583289137195,373.9253655579452,373.9249027825163,373.9244445166548,373.9239907124976,373.9235413227425,373.92309630064034,373.9226555999879,373.9222191751209,373.92178698090726,373.9213589727396,373.9209351065293,373.92051533869915,373.9200996261772,373.9196879263899,373.91928019725606,373.9188763971804,373.9184764850473,373.91808042021466,373.917688162508,373.9172996722144,373.9169149100766,373.9165338372874,373.91615641548344,373.9157826067405,373.9154123735668,373.91504567889865,373.91468248609414,373.9143227589284,373.913966461588,373.9136135586662,373.9132640151573,373.9129177964521,373.9125748683326,373.9122351969673,373.9118987489062,373.91156549107626,373.91123539077665,373.910908415674,373.9105845337978,373.9102637135361,373.90994592363097,373.9096311331742,373.90931931160264,373.90901042869456,373.9087044545646,373.9084013596606,373.9081011147587,373.90780369095967,373.907509059685,373.90721719267265,373.9069280619735,373.90664163994734,373.90635789925926,373.90607681287577,373.9057983540611,373.905522496374,373.90524921366335,373.90497848006555,373.9047102700004,373.904444558168,373.90418131954516,373.9039205293823,373.9036621631998,373.90340619678517,373.90315260618956,373.9029013677247,373.9026524579597,373.9024058537179,373.9021615320742,373.9019194703516,373.90167964611857,373.90144203718586,373.9012066216039,373.90097337765957,373.900742283874,373.9005133189991,373.90028646201523,373.9000616921285,373.8998389887679,373.8996183315829,373.89939970044054,373.8991830754235,373.8989684368266,373.8987557651553,373.89854504112236,373.89833624564625,373.8981293598481,373.89792436504945,373.89772124277033,373.8975199747263,373.8973205428268,373.89712292917227,373.89692711605267,373.89673308594456,373.8965408215094,373.89635030559117,373.8961615212144,373.8959744515821,373.8957890800737],\"type\":\"scatter\"},{\"mode\":\"lines+markers\",\"name\":\"Test RMSE\",\"x\":[0,1,2,3,4,5,6,7,8,9,10,11,12,13,14,15,16,17,18,19,20,21,22,23,24,25,26,27,28,29,30,31,32,33,34,35,36,37,38,39,40,41,42,43,44,45,46,47,48,49,50,51,52,53,54,55,56,57,58,59,60,61,62,63,64,65,66,67,68,69,70,71,72,73,74,75,76,77,78,79,80,81,82,83,84,85,86,87,88,89,90,91,92,93,94,95,96,97,98,99,100,101,102,103,104,105,106,107,108,109,110,111,112,113,114,115,116,117,118,119,120,121,122,123,124,125,126,127,128,129,130,131,132,133,134,135,136,137,138,139,140,141,142,143,144,145,146,147,148,149,150,151,152,153,154,155,156,157,158,159,160,161,162,163,164,165,166,167,168,169,170,171,172,173,174,175,176,177,178,179,180,181,182,183,184,185,186,187,188,189,190,191,192,193,194,195,196,197,198,199,200,201,202,203,204,205,206,207,208,209,210,211,212,213,214,215,216,217,218,219,220,221,222,223,224,225,226,227,228,229,230,231,232,233,234,235,236,237,238,239,240,241,242,243,244,245,246,247,248,249,250,251,252,253,254,255,256,257,258,259,260,261,262,263,264,265,266,267,268,269,270,271,272,273,274,275,276,277,278,279,280,281,282,283,284,285,286,287,288,289,290,291,292,293,294,295,296,297,298,299,300,301,302,303,304,305,306,307,308,309,310,311,312,313,314,315,316,317,318,319,320,321,322,323,324,325,326,327,328,329,330,331,332,333,334,335,336,337,338,339,340,341,342,343,344,345,346,347,348,349,350,351,352,353,354,355,356,357,358,359,360,361,362,363,364,365,366,367,368,369,370,371,372,373,374,375,376,377,378,379,380,381,382,383,384,385,386,387,388,389,390,391,392,393,394,395,396,397,398,399,400,401,402,403,404,405,406,407,408,409,410,411,412,413,414,415,416,417,418,419,420,421,422,423,424,425,426,427,428,429,430,431,432,433,434,435,436,437,438,439,440,441,442,443,444,445,446,447,448,449,450,451,452,453,454,455,456,457,458,459,460,461,462,463,464,465,466,467,468,469,470,471,472,473,474,475,476,477,478,479,480,481,482,483,484,485,486,487,488,489,490,491,492,493,494,495,496,497,498,499,500,501,502,503,504,505,506,507,508,509,510,511,512,513,514,515,516,517,518,519,520,521,522,523,524,525,526,527,528,529,530,531,532,533,534,535,536,537,538,539,540,541,542,543,544,545,546,547,548,549,550,551,552,553,554,555,556,557,558,559,560,561,562,563,564,565,566,567,568,569,570,571,572,573,574,575,576,577,578,579,580,581,582,583,584,585,586,587,588,589,590,591,592,593,594,595,596,597,598,599,600,601,602,603,604,605,606,607,608,609,610,611,612,613,614,615,616,617,618,619,620,621,622,623,624,625,626,627,628,629,630,631,632,633,634,635,636,637,638,639,640,641,642,643,644,645,646,647,648,649,650,651,652,653,654,655,656,657,658,659],\"y\":[972.428043266156,704.2003291831817,587.0572982605357,537.16901435474,514.6783084502083,502.9091635639525,495.4402255640408,489.8497897793768,485.20109463435955,481.1076387118765,477.39280907022976,473.9647131252313,470.7686755321487,467.7682238168489,464.93687830614044,462.25425850524493,459.70404158822873,457.27278709085454,454.9492050354053,452.7236707293587,450.5878866194522,448.53463678323874,446.5576024311912,444.65121913252165,442.8105635513724,441.031261713075,439.3094134369569,437.64152923201044,436.02447702828266,434.45543682994213,432.93186185850556,431.4514450885686,430.01209031486565,428.61188706111267,427.24908876874696,425.9220938009414,424.62942887308134,423.3697345811972,422.1417527487095,420.9443153520335,419.7763348190878,418.6367955229477,417.5247463168247,416.43929397700475,415.37959743793925,414.3448627188218,413.3343384540652,412.3473119514319,411.38310571140283,410.4410743499164,409.52060187403686,408.6210992665749,407.74200234130916,406.88276983535525,406.0428817094957,405.22183763099827,404.41915561668986,403.6343708168712,402.8670344231153,402.11671268513584,401.3829860237759,400.66544822879416,399.96370573154576,399.2773769438879,398.6060916557209,397.94949048451446,397.3072243709881,396.6789541158324,396.06434995298014,395.4630911554831,394.8748656705265,394.2993697805283,393.7363077876355,393.1853917192473,392.6463410524734,392.11888245567917,391.6027495454842,391.09768265776523,390.60342863138294,390.1197406034907,389.64637781541575,389.1831054282087,388.72969434706124,388.2859210538724,387.8515674473241,387.42642068989056,387.01027306126844,386.60292181776333,386.2041690572178,385.81382158910526,385.43169080945046,385.0575925802707,384.6913471132595,384.33277885746037,383.9817163907012,383.63799231458,383.30144315281024,382.97190925275197,382.64923468996676,382.33326717565024,382.0238579668057,381.72086177903407,381.4241367018234,381.1335441162322,380.84894861486504,380.57021792404936,380.2972228281269,380.0298370957779,379.7679374083039,379.51140328979835,379.2601170391376,379.01396366373075,378.7728308149688,378.53660872531793,378.3051901470038,378.078470292237,377.85634677493215,377.63871955387685,377.4254908773051,377.21656522883643,377.0118492747412,376.8112518124934,376.61468372057703,376.4220579095099,376.2332892740539,376.0482946465777,375.86699275154336,375.6893041610861,375.51515125166,375.34445816172104,375.17715075042275,375.0131565572964,374.85240476289385,374.69482615036696,374.5403530679612,374.3889193924009,374.2404604931446,374.0949131974881,373.9522157564959,373.8123078117409,373.67513036283134,373.54062573570866,373.408737551695,373.2794106972744,373.1525912945894,373.02822667263644,372.9062653391423,372.78665695310724,372.6693522979973,372.5543032555717,372.4414627803292,372.3307848745596,372.222224563986,372.1157378739831,372.0112818063593,371.90881431668754,371.8082942921737,371.7096815300487,371.6129367164724,371.51802140593674,371.4248980011573,371.3335297334407,371.2438806435171,371.15591556282703,371.0696000952511,370.9849005992726,370.90178417056313,370.8202186249804,370.74017248196867,370.6616149483527,370.58451590251576,370.508845878952,370.43457605318525,370.3616782270444,370.29012481428816,370.21988882656973,370.15094385973396,370.08326408043933,370.0168242130958,369.95159952711236,369.88756582444626,369.8246994274467,369.76297716698605,369.70237637087183,369.64287485253243,369.58445089997036,369.5270832649766,369.4707511525996,369.4154342108625,369.3611125207243,369.30776658627616,369.2553773251704,369.2039260592746,369.15339450554535,369.1037647671183,369.0550193246069,369.0071410276061,368.96011308639635,368.91391906384234,368.86854286748195,368.82396874180154,368.78018126069185,368.73716532008154,368.69490613074294,368.6533892112667,368.61260038120093,368.57252575435086,368.53315173223484,368.494464997694,368.4564525086507,368.4191014920128,368.38239943771964,368.3463340929279,368.3108934563318,368.2760657726158,368.2418395270367,368.208203440131,368.17514646254574,368.14265776998866,368.110726758296,368.0793430386144,368.04849643269404,368.01817696829056,367.9883748746738,367.95908057823976,367.93028469822355,367.901978042512,367.87415160355107,367.84679655434974,367.8199042445732,367.7934661967273,367.76747410243036,367.7419198187698,367.71679536474255,367.6920929177769,367.6678048103336,367.64392352658496,367.62044169916857,367.5973521060167,367.57464766725593,367.5523214421788,367.53036662628324,367.5087765483794,367.4875446677622,367.46666457144795,367.4461299714725,367.4259347022519,367.4060727180012,367.38653809021235,367.3673250051883,367.3484277616328,367.32984076829405,367.3115585416614,367.2935757037137,367.2758869797179,367.2584871960767,367.24137127822434,367.22453424856985,367.20797122448477,367.19167741633703,367.1756481255676,367.1598787428102,367.1443647460527,367.1291016988387,367.1140852485096,367.0993111244846,367.0847751365797,367.0704731733626,367.0564012005445,367.04255525940687,367.0289314652631,367.01552600595323,367.002335140372,366.9893551970293,366.9765825726413,366.96401373075304,366.9516452003904,366.93947357474167,366.92749550986787,366.91570772344033,366.9041069935065,366.8926901572818,366.88145410996765,366.87039580359504,366.85951224589337,366.84880049918274,366.83825767929045,366.82788095449143,366.81766754446994,366.80761471930435,366.79771979847385,366.78798014988536,366.77839318892194,366.7689563775111,366.75966722321306,366.7505232783281,366.74152213902283,366.732661444475,366.7239388760366,366.7153521564138,366.7068990488654,366.6985773564167,366.69038492109064,366.68231962315554,366.674379380387,366.66656214734695,366.6588659146766,366.6512887084045,366.6438285892689,366.6364836520544,366.6292520249418,366.6221318688722,366.61512137692347,366.60821877369995,366.60142231473475,366.59473028590423,366.58814100285457,366.58165281044006,366.5752640821728,366.568973219684,366.56277865219545,366.5566788360032,366.5506722539701,366.5447574150295,366.5389328536996,366.53319712960604,366.52754882701583,366.5219865543796,366.5165089438831,366.51111465100865,366.50580235410456,366.5005707539631,366.49541857340745,366.490344556887,366.48534747007983,366.48042609950426,366.47557925213704,366.47080575504015,366.4661044549945,366.4614742181402,366.45691392962584,366.45242249326236,366.4479988311856,366.4436418835246,366.43935060807644,366.43512397998785,366.4309609914428,366.426860651356,366.42282198507286,366.41884403407516,366.4149258556918,366.4110665228165,366.40726512362943,366.4035207613254,366.3998325538471,366.39619963362276,366.39262114730974,366.38909625554277,366.3856241326868,366.3822039665948,366.3788349583702,366.375516322134,366.3722472847958,366.3690270858297,366.3658549770548,366.36273022241875,366.3596520977862,366.35661989073134,366.3536329003341,366.35069043698,366.34779182216437,366.34493638829935,366.3421234785258,366.33935244652736,366.33662265634877,366.33393348221784,366.33128430836985,366.3286745288759,366.3261035474746,366.3235707774059,366.3210756412494,366.3186175707645,366.3161960067339,366.3138103988102,366.3114602053651,366.3091448933416,366.3068639381084,366.3046168233175,366.30240304076415,366.30022209024975,366.2980734794463,366.2959567237649,366.29387134622453,366.29181687732546,366.28979285492323,366.28779882410595,366.2858343370731,366.28389895301706,366.28199223800675,366.2801137648727,366.27826311309514,366.27643986869356,366.274643624118,366.272873978143,366.271130535763,366.26941290808924,366.2677207122495,366.2660535712888,366.264411114072,366.2627929751884,366.2611987948577,366.2596282188379,366.2580808983349,366.25655648991295,366.2550546554078,366.25357506184054,366.2521173813333,366.250681291026,366.24926647299577,366.2478726141759,366.24649940627774,366.24514654571334,366.24381373351974,366.24250067528385,366.2412070810697,366.239932665346,366.23867714691545,366.2374402488455,366.2362216983992,366.2350212269691,366.23383857001,366.232673466975,366.2315256612511,366.2303949000971,366.2292809345811,366.2281835195208,366.2271024134235,366.2260373784274,366.22498818024457,366.223954588104,366.2229363746959,366.2219333161177,366.22094519181934,366.21997178455126,366.21901288031194,366.2180682682972,366.2171377408495,366.2162210934093,366.2153181244657,366.2144286355093,366.2135524309851,366.2126893182462,366.21183910750864,366.2110016118066,366.21017664694864,366.2093640314744,366.20856358661246,366.20777513623824,366.2069985068331,366.20623352744417,366.20548002964415,366.204737847493,366.20400681749874,366.20328677858026,366.20257757202984,366.20187904147673,366.2011910328512,366.20051339434923,366.1998459763976,366.1991886316197,366.19854121480193,366.1979035828606,366.1972755948093,366.19665711172684,366.19604799672584,366.1954481149214,366.19485733340116,366.1942755211947,366.1937025492442,366.19313829037566,366.19258261926973,366.1920354124343,366.1914965481759,366.19096590657335,366.1904433694506,366.1899288203501,366.1894221445072,366.1889232288246,366.18843196184685,366.18794823373617,366.1874719362475,366.1870029627052,366.1865412079789,366.18608656846055,366.1856389420417,366.1851982280907,366.184764327431,366.18433714231907,366.18391657642303,366.1835025348017,366.1830949238836,366.18269365144687,366.1822986265987,366.181909759756,366.1815269626258,366.1811501481855,366.18077923066505,366.1804141255274,366.1800547494507,366.1797010203102,366.1793528571604,366.17901018021774,366.1786729108434,366.1783409715264,366.17801428586665,366.17769277855905,366.1773763753769,366.1770650031564,366.1767585897805,366.17645706416397,366.17616035623814,366.17586839693564,366.1755811181762,366.1752984528514,366.17502033481145,366.17474669885013,366.1744774806919,366.1742126169774,366.1739520452506,366.17369570394555,366.1734435323732,366.17319547070855,366.1729514599785,366.17271144204875,366.17247535961224,366.1722431561766,366.1720147760525,366.1717901643421,366.1715692669273,366.1713520304585,366.1711384023436,366.17092833073684,366.1707217645279,366.1705186533315,366.1703189474767,366.1701225979967,366.1699295566183,366.16973977575253,366.16955320848416,366.1693698085623,366.1691895303906,366.1690123290179,366.16883816012916,366.1686669800358,366.16849874566725,366.1683334145614,366.1681709448564,366.1680112952821,366.1678544251507,366.16770029434963,366.1675488633321,366.16740009310973,366.16725394524434,366.16711038184013,366.16696936553564,366.16683085949643,366.1666948274073,366.1665612334651,366.16643004237113,366.1663012193243,366.16617473001344,366.16605054061097,366.1659286177655,366.16580892859537,366.1656914406817,366.165576122062,366.16546294122355,366.165351867097,366.16524286904996,366.1651359168811,366.1650309808139,366.1649280314904,366.1648270399651,366.16472797769995,366.16463081655775,366.1645355287967,366.1644420870649,366.1643504643946,366.16426063419726,366.16417257025734,366.1640862467279,366.16400163812466,366.1639187193215,366.1638374655448,366.16375785236903,366.1636798557114,366.163603451827,366.1635286173045,366.16345532906104,366.16338356433755,366.1633133006945,366.16324451600707,366.1631771884611,366.16311129654815,366.1630468190619,366.1629837350932,366.1629220240263,366.16286166553476,366.1628026395772,366.1627449263932,366.1626885064997,366.1626333606867,366.16257947001384,366.1625268158063,366.1624753796511,366.1624251433935,366.16237608913366,366.16232819922243,366.16228145625837,366.16223584308403,366.16219134278265,366.1621479386748,366.16210561431484,366.1620643534879,366.1620241402065,366.16198495870754,366.161946793449,366.1619096291068,366.16187345057193,366.1618382429474,366.1618039915453,366.1617706818836,366.16173829968363,366.1617068308672,366.1616762615536,366.1616465780571,366.16161776688386,366.16158981472967,366.16156270847705,366.1615364351928,366.16151098212526,366.16148633670184,366.16146248652683,366.1614394193782,366.16141712320615,366.16139558612986,366.1613747964357,366.16135474257453,366.16133541315975,366.1613167969648,366.16129888292085,366.1612816601151,366.1612651177879,366.1612492453313,366.16123403228653,366.161219468342,366.1612055433313,366.1611922472312,366.1611795701597,366.1611675023739],\"type\":\"scatter\"}],                        {\"template\":{\"data\":{\"histogram2dcontour\":[{\"type\":\"histogram2dcontour\",\"colorbar\":{\"outlinewidth\":0,\"ticks\":\"\"},\"colorscale\":[[0.0,\"#0d0887\"],[0.1111111111111111,\"#46039f\"],[0.2222222222222222,\"#7201a8\"],[0.3333333333333333,\"#9c179e\"],[0.4444444444444444,\"#bd3786\"],[0.5555555555555556,\"#d8576b\"],[0.6666666666666666,\"#ed7953\"],[0.7777777777777778,\"#fb9f3a\"],[0.8888888888888888,\"#fdca26\"],[1.0,\"#f0f921\"]]}],\"choropleth\":[{\"type\":\"choropleth\",\"colorbar\":{\"outlinewidth\":0,\"ticks\":\"\"}}],\"histogram2d\":[{\"type\":\"histogram2d\",\"colorbar\":{\"outlinewidth\":0,\"ticks\":\"\"},\"colorscale\":[[0.0,\"#0d0887\"],[0.1111111111111111,\"#46039f\"],[0.2222222222222222,\"#7201a8\"],[0.3333333333333333,\"#9c179e\"],[0.4444444444444444,\"#bd3786\"],[0.5555555555555556,\"#d8576b\"],[0.6666666666666666,\"#ed7953\"],[0.7777777777777778,\"#fb9f3a\"],[0.8888888888888888,\"#fdca26\"],[1.0,\"#f0f921\"]]}],\"heatmap\":[{\"type\":\"heatmap\",\"colorbar\":{\"outlinewidth\":0,\"ticks\":\"\"},\"colorscale\":[[0.0,\"#0d0887\"],[0.1111111111111111,\"#46039f\"],[0.2222222222222222,\"#7201a8\"],[0.3333333333333333,\"#9c179e\"],[0.4444444444444444,\"#bd3786\"],[0.5555555555555556,\"#d8576b\"],[0.6666666666666666,\"#ed7953\"],[0.7777777777777778,\"#fb9f3a\"],[0.8888888888888888,\"#fdca26\"],[1.0,\"#f0f921\"]]}],\"heatmapgl\":[{\"type\":\"heatmapgl\",\"colorbar\":{\"outlinewidth\":0,\"ticks\":\"\"},\"colorscale\":[[0.0,\"#0d0887\"],[0.1111111111111111,\"#46039f\"],[0.2222222222222222,\"#7201a8\"],[0.3333333333333333,\"#9c179e\"],[0.4444444444444444,\"#bd3786\"],[0.5555555555555556,\"#d8576b\"],[0.6666666666666666,\"#ed7953\"],[0.7777777777777778,\"#fb9f3a\"],[0.8888888888888888,\"#fdca26\"],[1.0,\"#f0f921\"]]}],\"contourcarpet\":[{\"type\":\"contourcarpet\",\"colorbar\":{\"outlinewidth\":0,\"ticks\":\"\"}}],\"contour\":[{\"type\":\"contour\",\"colorbar\":{\"outlinewidth\":0,\"ticks\":\"\"},\"colorscale\":[[0.0,\"#0d0887\"],[0.1111111111111111,\"#46039f\"],[0.2222222222222222,\"#7201a8\"],[0.3333333333333333,\"#9c179e\"],[0.4444444444444444,\"#bd3786\"],[0.5555555555555556,\"#d8576b\"],[0.6666666666666666,\"#ed7953\"],[0.7777777777777778,\"#fb9f3a\"],[0.8888888888888888,\"#fdca26\"],[1.0,\"#f0f921\"]]}],\"surface\":[{\"type\":\"surface\",\"colorbar\":{\"outlinewidth\":0,\"ticks\":\"\"},\"colorscale\":[[0.0,\"#0d0887\"],[0.1111111111111111,\"#46039f\"],[0.2222222222222222,\"#7201a8\"],[0.3333333333333333,\"#9c179e\"],[0.4444444444444444,\"#bd3786\"],[0.5555555555555556,\"#d8576b\"],[0.6666666666666666,\"#ed7953\"],[0.7777777777777778,\"#fb9f3a\"],[0.8888888888888888,\"#fdca26\"],[1.0,\"#f0f921\"]]}],\"mesh3d\":[{\"type\":\"mesh3d\",\"colorbar\":{\"outlinewidth\":0,\"ticks\":\"\"}}],\"scatter\":[{\"fillpattern\":{\"fillmode\":\"overlay\",\"size\":10,\"solidity\":0.2},\"type\":\"scatter\"}],\"parcoords\":[{\"type\":\"parcoords\",\"line\":{\"colorbar\":{\"outlinewidth\":0,\"ticks\":\"\"}}}],\"scatterpolargl\":[{\"type\":\"scatterpolargl\",\"marker\":{\"colorbar\":{\"outlinewidth\":0,\"ticks\":\"\"}}}],\"bar\":[{\"error_x\":{\"color\":\"#2a3f5f\"},\"error_y\":{\"color\":\"#2a3f5f\"},\"marker\":{\"line\":{\"color\":\"#E5ECF6\",\"width\":0.5},\"pattern\":{\"fillmode\":\"overlay\",\"size\":10,\"solidity\":0.2}},\"type\":\"bar\"}],\"scattergeo\":[{\"type\":\"scattergeo\",\"marker\":{\"colorbar\":{\"outlinewidth\":0,\"ticks\":\"\"}}}],\"scatterpolar\":[{\"type\":\"scatterpolar\",\"marker\":{\"colorbar\":{\"outlinewidth\":0,\"ticks\":\"\"}}}],\"histogram\":[{\"marker\":{\"pattern\":{\"fillmode\":\"overlay\",\"size\":10,\"solidity\":0.2}},\"type\":\"histogram\"}],\"scattergl\":[{\"type\":\"scattergl\",\"marker\":{\"colorbar\":{\"outlinewidth\":0,\"ticks\":\"\"}}}],\"scatter3d\":[{\"type\":\"scatter3d\",\"line\":{\"colorbar\":{\"outlinewidth\":0,\"ticks\":\"\"}},\"marker\":{\"colorbar\":{\"outlinewidth\":0,\"ticks\":\"\"}}}],\"scattermapbox\":[{\"type\":\"scattermapbox\",\"marker\":{\"colorbar\":{\"outlinewidth\":0,\"ticks\":\"\"}}}],\"scatterternary\":[{\"type\":\"scatterternary\",\"marker\":{\"colorbar\":{\"outlinewidth\":0,\"ticks\":\"\"}}}],\"scattercarpet\":[{\"type\":\"scattercarpet\",\"marker\":{\"colorbar\":{\"outlinewidth\":0,\"ticks\":\"\"}}}],\"carpet\":[{\"aaxis\":{\"endlinecolor\":\"#2a3f5f\",\"gridcolor\":\"white\",\"linecolor\":\"white\",\"minorgridcolor\":\"white\",\"startlinecolor\":\"#2a3f5f\"},\"baxis\":{\"endlinecolor\":\"#2a3f5f\",\"gridcolor\":\"white\",\"linecolor\":\"white\",\"minorgridcolor\":\"white\",\"startlinecolor\":\"#2a3f5f\"},\"type\":\"carpet\"}],\"table\":[{\"cells\":{\"fill\":{\"color\":\"#EBF0F8\"},\"line\":{\"color\":\"white\"}},\"header\":{\"fill\":{\"color\":\"#C8D4E3\"},\"line\":{\"color\":\"white\"}},\"type\":\"table\"}],\"barpolar\":[{\"marker\":{\"line\":{\"color\":\"#E5ECF6\",\"width\":0.5},\"pattern\":{\"fillmode\":\"overlay\",\"size\":10,\"solidity\":0.2}},\"type\":\"barpolar\"}],\"pie\":[{\"automargin\":true,\"type\":\"pie\"}]},\"layout\":{\"autotypenumbers\":\"strict\",\"colorway\":[\"#636efa\",\"#EF553B\",\"#00cc96\",\"#ab63fa\",\"#FFA15A\",\"#19d3f3\",\"#FF6692\",\"#B6E880\",\"#FF97FF\",\"#FECB52\"],\"font\":{\"color\":\"#2a3f5f\"},\"hovermode\":\"closest\",\"hoverlabel\":{\"align\":\"left\"},\"paper_bgcolor\":\"white\",\"plot_bgcolor\":\"#E5ECF6\",\"polar\":{\"bgcolor\":\"#E5ECF6\",\"angularaxis\":{\"gridcolor\":\"white\",\"linecolor\":\"white\",\"ticks\":\"\"},\"radialaxis\":{\"gridcolor\":\"white\",\"linecolor\":\"white\",\"ticks\":\"\"}},\"ternary\":{\"bgcolor\":\"#E5ECF6\",\"aaxis\":{\"gridcolor\":\"white\",\"linecolor\":\"white\",\"ticks\":\"\"},\"baxis\":{\"gridcolor\":\"white\",\"linecolor\":\"white\",\"ticks\":\"\"},\"caxis\":{\"gridcolor\":\"white\",\"linecolor\":\"white\",\"ticks\":\"\"}},\"coloraxis\":{\"colorbar\":{\"outlinewidth\":0,\"ticks\":\"\"}},\"colorscale\":{\"sequential\":[[0.0,\"#0d0887\"],[0.1111111111111111,\"#46039f\"],[0.2222222222222222,\"#7201a8\"],[0.3333333333333333,\"#9c179e\"],[0.4444444444444444,\"#bd3786\"],[0.5555555555555556,\"#d8576b\"],[0.6666666666666666,\"#ed7953\"],[0.7777777777777778,\"#fb9f3a\"],[0.8888888888888888,\"#fdca26\"],[1.0,\"#f0f921\"]],\"sequentialminus\":[[0.0,\"#0d0887\"],[0.1111111111111111,\"#46039f\"],[0.2222222222222222,\"#7201a8\"],[0.3333333333333333,\"#9c179e\"],[0.4444444444444444,\"#bd3786\"],[0.5555555555555556,\"#d8576b\"],[0.6666666666666666,\"#ed7953\"],[0.7777777777777778,\"#fb9f3a\"],[0.8888888888888888,\"#fdca26\"],[1.0,\"#f0f921\"]],\"diverging\":[[0,\"#8e0152\"],[0.1,\"#c51b7d\"],[0.2,\"#de77ae\"],[0.3,\"#f1b6da\"],[0.4,\"#fde0ef\"],[0.5,\"#f7f7f7\"],[0.6,\"#e6f5d0\"],[0.7,\"#b8e186\"],[0.8,\"#7fbc41\"],[0.9,\"#4d9221\"],[1,\"#276419\"]]},\"xaxis\":{\"gridcolor\":\"white\",\"linecolor\":\"white\",\"ticks\":\"\",\"title\":{\"standoff\":15},\"zerolinecolor\":\"white\",\"automargin\":true,\"zerolinewidth\":2},\"yaxis\":{\"gridcolor\":\"white\",\"linecolor\":\"white\",\"ticks\":\"\",\"title\":{\"standoff\":15},\"zerolinecolor\":\"white\",\"automargin\":true,\"zerolinewidth\":2},\"scene\":{\"xaxis\":{\"backgroundcolor\":\"#E5ECF6\",\"gridcolor\":\"white\",\"linecolor\":\"white\",\"showbackground\":true,\"ticks\":\"\",\"zerolinecolor\":\"white\",\"gridwidth\":2},\"yaxis\":{\"backgroundcolor\":\"#E5ECF6\",\"gridcolor\":\"white\",\"linecolor\":\"white\",\"showbackground\":true,\"ticks\":\"\",\"zerolinecolor\":\"white\",\"gridwidth\":2},\"zaxis\":{\"backgroundcolor\":\"#E5ECF6\",\"gridcolor\":\"white\",\"linecolor\":\"white\",\"showbackground\":true,\"ticks\":\"\",\"zerolinecolor\":\"white\",\"gridwidth\":2}},\"shapedefaults\":{\"line\":{\"color\":\"#2a3f5f\"}},\"annotationdefaults\":{\"arrowcolor\":\"#2a3f5f\",\"arrowhead\":0,\"arrowwidth\":1},\"geo\":{\"bgcolor\":\"white\",\"landcolor\":\"#E5ECF6\",\"subunitcolor\":\"white\",\"showland\":true,\"showlakes\":true,\"lakecolor\":\"white\"},\"title\":{\"x\":0.05},\"mapbox\":{\"style\":\"light\"}}},\"title\":{\"text\":\"Train and Test RMSE at various Iterations (Learning Rate = 0.3, Threshold = 0.0001)\"},\"xaxis\":{\"title\":{\"text\":\"Iteration\"}},\"yaxis\":{\"title\":{\"text\":\"RMSE\"}},\"hovermode\":\"x unified\"},                        {\"responsive\": true}                    ).then(function(){\n",
       "                            \n",
       "var gd = document.getElementById('3a546b10-e7cc-420f-b3aa-ef00d5bd0a74');\n",
       "var x = new MutationObserver(function (mutations, observer) {{\n",
       "        var display = window.getComputedStyle(gd).display;\n",
       "        if (!display || display === 'none') {{\n",
       "            console.log([gd, 'removed!']);\n",
       "            Plotly.purge(gd);\n",
       "            observer.disconnect();\n",
       "        }}\n",
       "}});\n",
       "\n",
       "// Listen for the removal of the full notebook cells\n",
       "var notebookContainer = gd.closest('#notebook-container');\n",
       "if (notebookContainer) {{\n",
       "    x.observe(notebookContainer, {childList: true});\n",
       "}}\n",
       "\n",
       "// Listen for the clearing of the current output cell\n",
       "var outputEl = gd.closest('.output');\n",
       "if (outputEl) {{\n",
       "    x.observe(outputEl, {childList: true});\n",
       "}}\n",
       "\n",
       "                        })                };                });            </script>        </div>"
      ]
     },
     "metadata": {},
     "output_type": "display_data"
    }
   ],
   "source": [
    "fig = go.Figure()\n",
    "\n",
    "fig.add_trace(go.Scatter(x = df_lin_param_errors['iteration'], y = df_lin_param_errors['train_rmse'], \n",
    "                         mode = 'lines+markers', name = 'Train RMSE'))\n",
    "fig.add_trace(go.Scatter(x = df_lin_param_errors['iteration'], y = df_lin_param_errors['test_rmse'], \n",
    "                         mode = 'lines+markers', name = 'Test RMSE'))\n",
    "fig.update_layout(title = 'Train and Test RMSE at various Iterations (Learning Rate = 0.3, Threshold = 0.0001)', \n",
    "                  xaxis_title = 'Iteration', yaxis_title = 'RMSE',\n",
    "                  hovermode = 'x unified')\n",
    "\n",
    "fig.show()"
   ]
  },
  {
   "cell_type": "code",
   "execution_count": 57,
   "id": "83a3c63b",
   "metadata": {},
   "outputs": [
    {
     "name": "stdout",
     "output_type": "stream",
     "text": [
      "Training RMSE (All variables): 373.90\n",
      "Test RMSE (All variables): 366.16\n"
     ]
    }
   ],
   "source": [
    "#Train and Test RMSE for Model built using All Features\n",
    "\n",
    "print('Training RMSE (All variables): {:.2f}'\n",
    "      .format(rmse(np.dot(Xf_train.values, lin_select_theta), y_train.values)))\n",
    "print('Test RMSE (All variables): {:.2f}'\n",
    "      .format(rmse(np.dot(Xf_test.values, lin_select_theta), y_test.values)))"
   ]
  },
  {
   "cell_type": "code",
   "execution_count": 58,
   "id": "48e1ab87",
   "metadata": {},
   "outputs": [
    {
     "name": "stdout",
     "output_type": "stream",
     "text": [
      "Training RMSE (8 random variables): 381.58\n",
      "Test RMSE (8 random variables): 378.66\n"
     ]
    }
   ],
   "source": [
    "#Train and Test RMSE for Model built using Randomly Sampled Features\n",
    "\n",
    "alpha = 3e-1\n",
    "threshold = 1e-4\n",
    "\n",
    "theta = np.zeros((Xr_train.shape[1], 1), dtype = float)\n",
    "J_rand_theta = gradientDescentLinear(Xr_train.values, y_train.values, theta, alpha, threshold)\n",
    "\n",
    "print('Training RMSE (8 random variables): {:.2f}'\n",
    "      .format(rmse(np.dot(Xr_train.values, J_rand_theta[-1]['theta']), y_train.values)))\n",
    "print('Test RMSE (8 random variables): {:.2f}'\n",
    "      .format(rmse(np.dot(Xr_test.values, J_rand_theta[-1]['theta']), y_test.values)))"
   ]
  },
  {
   "cell_type": "code",
   "execution_count": 59,
   "id": "a2543ebd",
   "metadata": {},
   "outputs": [
    {
     "name": "stdout",
     "output_type": "stream",
     "text": [
      "Training RMSE (8 important variables): 381.52\n",
      "Test RMSE (8 important variables): 373.26\n"
     ]
    }
   ],
   "source": [
    "#Train and Test RMSE for Model built using Important Features\n",
    "\n",
    "alpha = 3e-1\n",
    "threshold = 1e-4\n",
    "\n",
    "theta = np.zeros((Xt_train.shape[1], 1), dtype = float)\n",
    "J_top_theta = gradientDescentLinear(Xt_train.values, y_train.values, theta, alpha, threshold)\n",
    "\n",
    "print('Training RMSE (8 important variables): {:.2f}'\n",
    "      .format(rmse(np.dot(Xt_train.values, J_top_theta[-1]['theta']), y_train.values)))\n",
    "print('Test RMSE (8 important variables): {:.2f}'\n",
    "      .format(rmse(np.dot(Xt_test.values, J_top_theta[-1]['theta']), y_test.values)))"
   ]
  },
  {
   "cell_type": "code",
   "execution_count": null,
   "id": "b27ec71a",
   "metadata": {},
   "outputs": [],
   "source": []
  }
 ],
 "metadata": {
  "kernelspec": {
   "display_name": "Python 3 (ipykernel)",
   "language": "python",
   "name": "python3"
  },
  "language_info": {
   "codemirror_mode": {
    "name": "ipython",
    "version": 3
   },
   "file_extension": ".py",
   "mimetype": "text/x-python",
   "name": "python",
   "nbconvert_exporter": "python",
   "pygments_lexer": "ipython3",
   "version": "3.10.9"
  }
 },
 "nbformat": 4,
 "nbformat_minor": 5
}
